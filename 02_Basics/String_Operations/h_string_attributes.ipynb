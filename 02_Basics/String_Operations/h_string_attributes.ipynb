{
 "cells": [
  {
   "cell_type": "markdown",
   "metadata": {},
   "source": [
    "String Attributes"
   ]
  },
  {
   "cell_type": "code",
   "execution_count": 1,
   "metadata": {},
   "outputs": [
    {
     "data": {
      "text/plain": [
       "'  python Production  '"
      ]
     },
     "execution_count": 1,
     "metadata": {},
     "output_type": "execute_result"
    }
   ],
   "source": [
    "\"  python Production  \""
   ]
  },
  {
   "cell_type": "code",
   "execution_count": 2,
   "metadata": {},
   "outputs": [
    {
     "name": "stdout",
     "output_type": "stream",
     "text": [
      "  python Production  \n"
     ]
    }
   ],
   "source": [
    "print(\"  python Production  \")"
   ]
  },
  {
   "cell_type": "code",
   "execution_count": 3,
   "metadata": {},
   "outputs": [
    {
     "data": {
      "text/plain": [
       "'  python Production  '"
      ]
     },
     "execution_count": 3,
     "metadata": {},
     "output_type": "execute_result"
    }
   ],
   "source": [
    "\"  python Production  \""
   ]
  },
  {
   "cell_type": "code",
   "execution_count": 4,
   "metadata": {},
   "outputs": [
    {
     "data": {
      "text/plain": [
       "'python Production'"
      ]
     },
     "execution_count": 4,
     "metadata": {},
     "output_type": "execute_result"
    }
   ],
   "source": [
    "\"  python Production  \".strip()"
   ]
  },
  {
   "cell_type": "code",
   "execution_count": 5,
   "metadata": {},
   "outputs": [
    {
     "data": {
      "text/plain": [
       "'python Production  '"
      ]
     },
     "execution_count": 5,
     "metadata": {},
     "output_type": "execute_result"
    }
   ],
   "source": [
    "\"  python Production  \".lstrip()"
   ]
  },
  {
   "cell_type": "code",
   "execution_count": 7,
   "metadata": {},
   "outputs": [
    {
     "data": {
      "text/plain": [
       "'  python Production'"
      ]
     },
     "execution_count": 7,
     "metadata": {},
     "output_type": "execute_result"
    }
   ],
   "source": [
    "\"  python Production  \".rstrip()"
   ]
  },
  {
   "cell_type": "code",
   "execution_count": 8,
   "metadata": {},
   "outputs": [
    {
     "data": {
      "text/plain": [
       "'  python Production  '"
      ]
     },
     "execution_count": 8,
     "metadata": {},
     "output_type": "execute_result"
    }
   ],
   "source": [
    "\"  python Production  \".strip('p')"
   ]
  },
  {
   "cell_type": "code",
   "execution_count": 9,
   "metadata": {},
   "outputs": [
    {
     "data": {
      "text/plain": [
       "'python Production'"
      ]
     },
     "execution_count": 9,
     "metadata": {},
     "output_type": "execute_result"
    }
   ],
   "source": [
    "\"  python Production  \".strip(' ')"
   ]
  },
  {
   "cell_type": "code",
   "execution_count": 10,
   "metadata": {},
   "outputs": [
    {
     "data": {
      "text/plain": [
       "'ython Production'"
      ]
     },
     "execution_count": 10,
     "metadata": {},
     "output_type": "execute_result"
    }
   ],
   "source": [
    "\"  python Production  \".strip('p ')"
   ]
  },
  {
   "cell_type": "code",
   "execution_count": 11,
   "metadata": {},
   "outputs": [
    {
     "data": {
      "text/plain": [
       "'ython Production'"
      ]
     },
     "execution_count": 11,
     "metadata": {},
     "output_type": "execute_result"
    }
   ],
   "source": [
    "\"  python Production  \".strip('p ')"
   ]
  },
  {
   "cell_type": "code",
   "execution_count": 12,
   "metadata": {},
   "outputs": [
    {
     "data": {
      "text/plain": [
       "'ython Production'"
      ]
     },
     "execution_count": 12,
     "metadata": {},
     "output_type": "execute_result"
    }
   ],
   "source": [
    "\n",
    "\"  python Production  \".strip('p t')"
   ]
  },
  {
   "cell_type": "code",
   "execution_count": 13,
   "metadata": {},
   "outputs": [
    {
     "data": {
      "text/plain": [
       "'ython Production'"
      ]
     },
     "execution_count": 13,
     "metadata": {},
     "output_type": "execute_result"
    }
   ],
   "source": [
    "\"  python Production  \".strip('p t')"
   ]
  },
  {
   "cell_type": "code",
   "execution_count": 14,
   "metadata": {},
   "outputs": [
    {
     "data": {
      "text/plain": [
       "'ython Production'"
      ]
     },
     "execution_count": 14,
     "metadata": {},
     "output_type": "execute_result"
    }
   ],
   "source": [
    "\"  python Production  \".strip('p tc')"
   ]
  },
  {
   "cell_type": "code",
   "execution_count": 15,
   "metadata": {},
   "outputs": [
    {
     "data": {
      "text/plain": [
       "'ython Producti'"
      ]
     },
     "execution_count": 15,
     "metadata": {},
     "output_type": "execute_result"
    }
   ],
   "source": [
    "\"  python Production  \".strip('p tcno')"
   ]
  },
  {
   "cell_type": "code",
   "execution_count": 16,
   "metadata": {},
   "outputs": [
    {
     "data": {
      "text/plain": [
       "'ython Produ'"
      ]
     },
     "execution_count": 16,
     "metadata": {},
     "output_type": "execute_result"
    }
   ],
   "source": [
    "\"  python Production  \".strip('p tcnio')"
   ]
  },
  {
   "cell_type": "code",
   "execution_count": 17,
   "metadata": {},
   "outputs": [
    {
     "data": {
      "text/plain": [
       "'ython Production  '"
      ]
     },
     "execution_count": 17,
     "metadata": {},
     "output_type": "execute_result"
    }
   ],
   "source": [
    "\"  python Production  \".lstrip('p tcnio')"
   ]
  },
  {
   "cell_type": "code",
   "execution_count": 18,
   "metadata": {},
   "outputs": [
    {
     "data": {
      "text/plain": [
       "'  python Produ'"
      ]
     },
     "execution_count": 18,
     "metadata": {},
     "output_type": "execute_result"
    }
   ],
   "source": [
    "\n",
    "\"  python Production  \".rstrip('p tcnio')"
   ]
  },
  {
   "cell_type": "code",
   "execution_count": 19,
   "metadata": {},
   "outputs": [
    {
     "data": {
      "text/plain": [
       "'thon Producti'"
      ]
     },
     "execution_count": 19,
     "metadata": {},
     "output_type": "execute_result"
    }
   ],
   "source": [
    "\n",
    "\"  python Production  \".strip(\" \").strip(\"pn\").strip(\"t\").strip(\"i\").strip(\"o\").strip(\"y\")"
   ]
  },
  {
   "cell_type": "code",
   "execution_count": 20,
   "metadata": {},
   "outputs": [
    {
     "data": {
      "text/plain": [
       "''"
      ]
     },
     "execution_count": 20,
     "metadata": {},
     "output_type": "execute_result"
    }
   ],
   "source": [
    "\"aaaaaaaaaaaaaaaaaaaaaa\".strip(\"a\")   # ''"
   ]
  },
  {
   "cell_type": "code",
   "execution_count": 21,
   "metadata": {},
   "outputs": [
    {
     "data": {
      "text/plain": [
       "' b '"
      ]
     },
     "execution_count": 21,
     "metadata": {},
     "output_type": "execute_result"
    }
   ],
   "source": [
    "\"aaaaaaaa b aaaaaaaaaaa\".strip(\"ab\")  # ' b '"
   ]
  },
  {
   "cell_type": "code",
   "execution_count": 22,
   "metadata": {},
   "outputs": [
    {
     "data": {
      "text/plain": [
       "''"
      ]
     },
     "execution_count": 22,
     "metadata": {},
     "output_type": "execute_result"
    }
   ],
   "source": [
    "\"aaaaaaaa b aaaaaaaaaaa\".strip(\"ab \")  # ''"
   ]
  },
  {
   "cell_type": "code",
   "execution_count": 23,
   "metadata": {},
   "outputs": [
    {
     "name": "stdout",
     "output_type": "stream",
     "text": [
      "1231231230\n"
     ]
    }
   ],
   "source": [
    "print(\"00001231231230\".lstrip(\"0\"))"
   ]
  },
  {
   "cell_type": "code",
   "execution_count": 24,
   "metadata": {},
   "outputs": [
    {
     "data": {
      "text/plain": [
       "'0000123'"
      ]
     },
     "execution_count": 24,
     "metadata": {},
     "output_type": "execute_result"
    }
   ],
   "source": [
    "\"123\".zfill(3)   #     '123'\n",
    "\"123\".zfill(4)   #    '0123'\n",
    "\"123\".zfill(7)   # '0000123'\n",
    "\"0\" * 4 + \"123\"  # '0000123'"
   ]
  },
  {
   "cell_type": "code",
   "execution_count": 25,
   "metadata": {},
   "outputs": [
    {
     "name": "stdout",
     "output_type": "stream",
     "text": [
      "['p', 'y', 't', 'h', 'o', 'n', ' ', 'p', 'r', 'o', 'g', 'r', 'a', 'm', 'm', 'i', 'n', 'g']\n"
     ]
    }
   ],
   "source": [
    "# How to convert a string to a list\n",
    "print(\n",
    "    list(\"python programming\")\n",
    ")"
   ]
  },
  {
   "cell_type": "code",
   "execution_count": 26,
   "metadata": {},
   "outputs": [
    {
     "name": "stdout",
     "output_type": "stream",
     "text": [
      "('p', 'y', 't', 'h', 'o', 'n', ' ', 'p', 'r', 'o', 'g', 'r', 'a', 'm', 'm', 'i', 'n', 'g')\n"
     ]
    }
   ],
   "source": [
    "print(\n",
    "    tuple(\"python programming\")\n",
    ")"
   ]
  },
  {
   "cell_type": "code",
   "execution_count": 27,
   "metadata": {},
   "outputs": [
    {
     "name": "stdout",
     "output_type": "stream",
     "text": [
      "{'n', ' ', 't', 'y', 'g', 'm', 'a', 'i', 'r', 'o', 'p', 'h'}\n"
     ]
    }
   ],
   "source": [
    "print(\n",
    "    set(\"python programming\")\n",
    ")"
   ]
  },
  {
   "cell_type": "code",
   "execution_count": 28,
   "metadata": {},
   "outputs": [
    {
     "data": {
      "text/plain": [
       "['Python', 'Production']"
      ]
     },
     "execution_count": 28,
     "metadata": {},
     "output_type": "execute_result"
    }
   ],
   "source": [
    "## split\n",
    "\n",
    "\"Python Production\".split()"
   ]
  },
  {
   "cell_type": "code",
   "execution_count": 29,
   "metadata": {},
   "outputs": [
    {
     "data": {
      "text/plain": [
       "['Python', 'Production']"
      ]
     },
     "execution_count": 29,
     "metadata": {},
     "output_type": "execute_result"
    }
   ],
   "source": [
    "\"Python         Production\".split()"
   ]
  },
  {
   "cell_type": "code",
   "execution_count": 30,
   "metadata": {},
   "outputs": [
    {
     "data": {
      "text/plain": [
       "['Python', 'Production']"
      ]
     },
     "execution_count": 30,
     "metadata": {},
     "output_type": "execute_result"
    }
   ],
   "source": [
    "\"Python Production\".split(\" \")"
   ]
  },
  {
   "cell_type": "code",
   "execution_count": 31,
   "metadata": {},
   "outputs": [
    {
     "data": {
      "text/plain": [
       "['Python', '', '', '', '', '', '', '', '', 'Production']"
      ]
     },
     "execution_count": 31,
     "metadata": {},
     "output_type": "execute_result"
    }
   ],
   "source": [
    "\"Python         Production\".split(\" \")"
   ]
  },
  {
   "cell_type": "code",
   "execution_count": 32,
   "metadata": {},
   "outputs": [
    {
     "data": {
      "text/plain": [
       "['Python Pro', 'uction']"
      ]
     },
     "execution_count": 32,
     "metadata": {},
     "output_type": "execute_result"
    }
   ],
   "source": [
    "\"Python Production\".split(\"d\")"
   ]
  },
  {
   "cell_type": "code",
   "execution_count": 33,
   "metadata": {},
   "outputs": [
    {
     "data": {
      "text/plain": [
       "['Py', 'hon Produc', 'ion']"
      ]
     },
     "execution_count": 33,
     "metadata": {},
     "output_type": "execute_result"
    }
   ],
   "source": [
    "\"Python Production\".split(\"t\")"
   ]
  },
  {
   "cell_type": "code",
   "execution_count": 34,
   "metadata": {},
   "outputs": [
    {
     "data": {
      "text/plain": [
       "['Pytho', ' Productio', '']"
      ]
     },
     "execution_count": 34,
     "metadata": {},
     "output_type": "execute_result"
    }
   ],
   "source": [
    "\"Python Production\".split(\"n\")"
   ]
  },
  {
   "cell_type": "code",
   "execution_count": 35,
   "metadata": {},
   "outputs": [
    {
     "data": {
      "text/plain": [
       "['', 'ython ', 'roduction']"
      ]
     },
     "execution_count": 35,
     "metadata": {},
     "output_type": "execute_result"
    }
   ],
   "source": [
    "\"Python Production\".split(\"P\")"
   ]
  },
  {
   "cell_type": "code",
   "execution_count": 36,
   "metadata": {},
   "outputs": [
    {
     "data": {
      "text/plain": [
       "['Python Production']"
      ]
     },
     "execution_count": 36,
     "metadata": {},
     "output_type": "execute_result"
    }
   ],
   "source": [
    "\"Python Production\".split(\"p\") # result is list data type"
   ]
  },
  {
   "cell_type": "code",
   "execution_count": 38,
   "metadata": {},
   "outputs": [
    {
     "data": {
      "text/plain": [
       "['Python ', 'uction']"
      ]
     },
     "execution_count": 38,
     "metadata": {},
     "output_type": "execute_result"
    }
   ],
   "source": [
    "\"Python Production\".split(\"Prod\")"
   ]
  },
  {
   "cell_type": "code",
   "execution_count": 39,
   "metadata": {},
   "outputs": [
    {
     "data": {
      "text/plain": [
       "['Python Production']"
      ]
     },
     "execution_count": 39,
     "metadata": {},
     "output_type": "execute_result"
    }
   ],
   "source": [
    "\"Python Production\".split(\"Prdo\")"
   ]
  },
  {
   "cell_type": "code",
   "execution_count": 40,
   "metadata": {},
   "outputs": [
    {
     "data": {
      "text/plain": [
       "['']"
      ]
     },
     "execution_count": 40,
     "metadata": {},
     "output_type": "execute_result"
    }
   ],
   "source": [
    "# Question:\n",
    "\"\".split()      # []\n",
    "\" \".split()  # []\n",
    "\" \".split(\" \")  # ['', '']\n",
    "\"\".split(\" \")  # ['']"
   ]
  },
  {
   "cell_type": "code",
   "execution_count": 41,
   "metadata": {},
   "outputs": [
    {
     "name": "stdout",
     "output_type": "stream",
     "text": [
      "['1201201301201']\n",
      "['12', '1201301201']\n",
      "['12', '12', '1301201']\n",
      "['12', '12', '13', '1201']\n",
      "['12', '12', '13', '12', '1']\n",
      "['12', '12', '13', '12', '1']\n"
     ]
    }
   ],
   "source": [
    "print(\"1201201301201\".split(\"0\", maxsplit=0))  # ['1201201301201']\n",
    "print(\"1201201301201\".split(\"0\", maxsplit=1))  # ['12', '1201301201']\n",
    "print(\"1201201301201\".split(\"0\", maxsplit=2))  # ['12', '12', '1301201']\n",
    "print(\"1201201301201\".split(\"0\", maxsplit=3))  # ['12', '12', '13', '1201']\n",
    "print(\"1201201301201\".split(\"0\", maxsplit=4))  # ['12', '12', '13', '12', '1']\n",
    "print(\"1201201301201\".split(\"0\", maxsplit=55)) # ['12', '12', '13', '12', '1']"
   ]
  },
  {
   "cell_type": "code",
   "execution_count": 42,
   "metadata": {},
   "outputs": [
    {
     "name": "stdout",
     "output_type": "stream",
     "text": [
      "['1201201301201']\n",
      "['12012013012', '1']\n",
      "['12012013', '12', '1']\n",
      "['12012', '13', '12', '1']\n",
      "['12', '12', '13', '12', '1']\n",
      "['12', '12', '13', '12', '1']\n"
     ]
    }
   ],
   "source": [
    "print(\"1201201301201\".rsplit(\"0\", maxsplit=0))  # ['1201201301201']\n",
    "print(\"1201201301201\".rsplit(\"0\", maxsplit=1))  # ['12012013012', '1']\n",
    "print(\"1201201301201\".rsplit(\"0\", maxsplit=2))  # ['12012013', '12', '1']\n",
    "print(\"1201201301201\".rsplit(\"0\", maxsplit=3))  # ['12012', '13', '12', '1']\n",
    "print(\"1201201301201\".rsplit(\"0\", maxsplit=4))  # ['12', '12', '13', '12', '1']\n",
    "print(\"1201201301201\".rsplit(\"0\", maxsplit=55)) # ['12', '12', '13', '12', '1']"
   ]
  },
  {
   "cell_type": "code",
   "execution_count": 43,
   "metadata": {},
   "outputs": [
    {
     "name": "stdout",
     "output_type": "stream",
     "text": [
      "['12', '12', '13', '12', '1']\n",
      "['12', '12', '13', '12', '1']\n"
     ]
    }
   ],
   "source": [
    "print(\"1201201301201\".split(\"0\"))\n",
    "print(\"1201201301201\".rsplit(\"0\")) "
   ]
  },
  {
   "cell_type": "code",
   "execution_count": 44,
   "metadata": {},
   "outputs": [
    {
     "name": "stdout",
     "output_type": "stream",
     "text": [
      "['12', '1201301201']\n",
      "['12012013012', '1']\n"
     ]
    }
   ],
   "source": [
    "print(\"1201201301201\".split(\"0\", maxsplit=1))   # ['12', '1201301201']\n",
    "print(\"1201201301201\".rsplit(\"0\", maxsplit=1))  # ['12012013012', '1']"
   ]
  },
  {
   "cell_type": "code",
   "execution_count": 45,
   "metadata": {},
   "outputs": [
    {
     "data": {
      "text/plain": [
       "['1', '2', '', '3', '']"
      ]
     },
     "execution_count": 45,
     "metadata": {},
     "output_type": "execute_result"
    }
   ],
   "source": [
    "# Question:\n",
    "\"1,2,3\".split(\",\")    # ['1', '2', '3']\n",
    "\"1,2,,3,\".split(\",\")  # ['1', '2', '', '3', '']"
   ]
  },
  {
   "cell_type": "code",
   "execution_count": 46,
   "metadata": {},
   "outputs": [
    {
     "data": {
      "text/plain": [
       "['', '', '', '1', '', '', '2', '', '3', '', '', '']"
      ]
     },
     "execution_count": 46,
     "metadata": {},
     "output_type": "execute_result"
    }
   ],
   "source": [
    "# default is with white space\n",
    "\"1 2 3\".split()              # ['1', '2', '3']\n",
    "\"   1   2  3   \".split()     # ['1', '2', '3']\n",
    "\"   1   2  3   \".split(\" \")  # ['', '', '', '1', '', '', '2', '', '3', '', '','']"
   ]
  },
  {
   "cell_type": "code",
   "execution_count": 47,
   "metadata": {},
   "outputs": [
    {
     "data": {
      "text/plain": [
       "['1,2,3,4,5']"
      ]
     },
     "execution_count": 47,
     "metadata": {},
     "output_type": "execute_result"
    }
   ],
   "source": [
    "\"1,2,3,4,5\".rsplit(None, 1)  # ['1,2,3,4,5']"
   ]
  },
  {
   "cell_type": "code",
   "execution_count": 48,
   "metadata": {},
   "outputs": [
    {
     "name": "stdout",
     "output_type": "stream",
     "text": [
      "['Python ', 'oPduction']\n",
      "('Python P', 'r', 'oduction')\n"
     ]
    }
   ],
   "source": [
    "# partition - will result in 3 values in tuple\n",
    "print(\"Python roPduction\".split(\"r\"))      # ['Python P', 'oduction']\n",
    "print(\"Python Production\".partition(\"r\"))  # ('Python P', 'r', 'oduction')"
   ]
  },
  {
   "cell_type": "code",
   "execution_count": 49,
   "metadata": {},
   "outputs": [
    {
     "name": "stdout",
     "output_type": "stream",
     "text": [
      "['Python Pro', 'uction']\n",
      "('Python Pro', 'd', 'uction')\n"
     ]
    }
   ],
   "source": [
    "print(\"Python Production\".split(\"d\"))      # ['Python Pro', 'uction']\n",
    "print(\"Python Production\".partition(\"d\"))  # ('Python Pro', 'd', 'uction')"
   ]
  },
  {
   "cell_type": "code",
   "execution_count": 50,
   "metadata": {},
   "outputs": [
    {
     "name": "stdout",
     "output_type": "stream",
     "text": [
      "['Py', 'hon Produc', 'ion']\n",
      "('Py', 't', 'hon Production')\n"
     ]
    }
   ],
   "source": [
    "\n",
    "print(\"Python Production\".split(\"t\"))      # ['Py', 'hon Produc', 'ion']\n",
    "print(\"Python Production\".partition(\"t\"))  # ('Py', 't', 'hon Production')"
   ]
  },
  {
   "cell_type": "code",
   "execution_count": 51,
   "metadata": {},
   "outputs": [
    {
     "name": "stdout",
     "output_type": "stream",
     "text": [
      "('Python Produc', 't', 'ion')\n"
     ]
    }
   ],
   "source": [
    "print(\"Python Production\".rpartition(\"t\"))  # ('Py', 't', 'hon Production')"
   ]
  },
  {
   "cell_type": "code",
   "execution_count": 52,
   "metadata": {},
   "outputs": [
    {
     "name": "stdout",
     "output_type": "stream",
     "text": [
      "['12', '12', '13', '12', '1']\n",
      "('12', '0', '1201301201')\n"
     ]
    }
   ],
   "source": [
    "print(\"1201201301201\".split(\"0\"))       # ['12', '12', '13', '12', '1']\n",
    "print(\"1201201301201\".partition(\"0\"))   # ('12', '0', '1201301201')"
   ]
  },
  {
   "cell_type": "code",
   "execution_count": 53,
   "metadata": {},
   "outputs": [
    {
     "name": "stdout",
     "output_type": "stream",
     "text": [
      "['12', '12', '13', '12', '1']\n",
      "('12012013012', '0', '1')\n"
     ]
    }
   ],
   "source": [
    "print(\"1201201301201\".rsplit(\"0\"))       # ['12', '12', '13', '12', '1']\n",
    "print(\"1201201301201\".rpartition(\"0\"))   # ('12012013012', '0', '1')"
   ]
  },
  {
   "cell_type": "code",
   "execution_count": 54,
   "metadata": {},
   "outputs": [
    {
     "name": "stdout",
     "output_type": "stream",
     "text": [
      "PythonProductionLanguage\n"
     ]
    }
   ],
   "source": [
    "# Question: How to convert list of strings to a single string\n",
    "print(\"Python\" + \"Production\" + \"Language\")  # PythonProductionLanguage"
   ]
  },
  {
   "cell_type": "code",
   "execution_count": 55,
   "metadata": {},
   "outputs": [
    {
     "name": "stdout",
     "output_type": "stream",
     "text": [
      "Python Production Language\n"
     ]
    }
   ],
   "source": [
    "print(\"Python\" + \" \" + \"Production\" + \" \" + \"Language\")  # Python Production Language"
   ]
  },
  {
   "cell_type": "code",
   "execution_count": 56,
   "metadata": {},
   "outputs": [
    {
     "name": "stdout",
     "output_type": "stream",
     "text": [
      "Python-Production-Language\n"
     ]
    }
   ],
   "source": [
    "print(\"Python\" + \"-\" + \"Production\" + \"-\" + \"Language\")"
   ]
  },
  {
   "cell_type": "code",
   "execution_count": 57,
   "metadata": {},
   "outputs": [
    {
     "data": {
      "text/plain": [
       "'PythonProductionLanguage'"
      ]
     },
     "execution_count": 57,
     "metadata": {},
     "output_type": "execute_result"
    }
   ],
   "source": [
    "''.join(['Python', 'Production', 'Language'])"
   ]
  },
  {
   "cell_type": "code",
   "execution_count": 58,
   "metadata": {},
   "outputs": [
    {
     "data": {
      "text/plain": [
       "'PythonProductionLanguage'"
      ]
     },
     "execution_count": 58,
     "metadata": {},
     "output_type": "execute_result"
    }
   ],
   "source": [
    "\"\".join([\"Python\", \"Production\", \"Language\"])"
   ]
  },
  {
   "cell_type": "code",
   "execution_count": 59,
   "metadata": {},
   "outputs": [
    {
     "data": {
      "text/plain": [
       "'Python Production Language'"
      ]
     },
     "execution_count": 59,
     "metadata": {},
     "output_type": "execute_result"
    }
   ],
   "source": [
    "\" \".join([\"Python\", \"Production\", \"Language\"])"
   ]
  },
  {
   "cell_type": "code",
   "execution_count": 60,
   "metadata": {},
   "outputs": [
    {
     "data": {
      "text/plain": [
       "'Python¬Production¬Language'"
      ]
     },
     "execution_count": 60,
     "metadata": {},
     "output_type": "execute_result"
    }
   ],
   "source": [
    "\"¬\".join([\"Python\", \"Production\", \"Language\"])"
   ]
  },
  {
   "cell_type": "code",
   "execution_count": 61,
   "metadata": {},
   "outputs": [
    {
     "data": {
      "text/plain": [
       "'Python@Production@Language'"
      ]
     },
     "execution_count": 61,
     "metadata": {},
     "output_type": "execute_result"
    }
   ],
   "source": [
    "\n",
    "\"@\".join([\"Python\", \"Production\", \"Language\"])"
   ]
  },
  {
   "cell_type": "code",
   "execution_count": 62,
   "metadata": {},
   "outputs": [
    {
     "name": "stdout",
     "output_type": "stream",
     "text": [
      "___ython ___roduction\n",
      "Python Production\n",
      "Rython Rroduction\n"
     ]
    }
   ],
   "source": [
    "print(\"___\".join(\"Python Production\".split(\"P\")))  # ___ython ___roduction\n",
    "print(\"P\".join(\"Python Production\".split(\"P\")))    # Python Production\n",
    "print(\"R\".join(\"Python Production\".split(\"P\")))    # Rython Rroduction"
   ]
  },
  {
   "cell_type": "code",
   "execution_count": 63,
   "metadata": {},
   "outputs": [
    {
     "name": "stdout",
     "output_type": "stream",
     "text": [
      "Rython Rroduction\n",
      "Python catuction\n",
      "Python Production\n"
     ]
    }
   ],
   "source": [
    "print(\"Python Production\".replace(\"P\", \"R\"))        # Rython Rroduction\n",
    "print(\"Python Production\".replace(\"Prod\", \"cat\"))   # Python catuction\n",
    "print(\"Python Production\".replace(\"Prod1\", \"cat\"))  # Python Production"
   ]
  },
  {
   "cell_type": "code",
   "execution_count": 64,
   "metadata": {},
   "outputs": [
    {
     "data": {
      "text/plain": [
       "'bbbbbbbbbbb'"
      ]
     },
     "execution_count": 64,
     "metadata": {},
     "output_type": "execute_result"
    }
   ],
   "source": [
    "\"aaaaaaaaaaa\".replace(\"a\", \"b\") "
   ]
  },
  {
   "cell_type": "code",
   "execution_count": 65,
   "metadata": {},
   "outputs": [
    {
     "data": {
      "text/plain": [
       "'bbaaaaaaaaa'"
      ]
     },
     "execution_count": 65,
     "metadata": {},
     "output_type": "execute_result"
    }
   ],
   "source": [
    "\"aaaaaaaaaaa\".replace(\"a\", \"b\", 2) "
   ]
  }
 ],
 "metadata": {
  "kernelspec": {
   "display_name": "Python 3",
   "language": "python",
   "name": "python3"
  },
  "language_info": {
   "codemirror_mode": {
    "name": "ipython",
    "version": 3
   },
   "file_extension": ".py",
   "mimetype": "text/x-python",
   "name": "python",
   "nbconvert_exporter": "python",
   "pygments_lexer": "ipython3",
   "version": "3.12.1"
  }
 },
 "nbformat": 4,
 "nbformat_minor": 2
}
