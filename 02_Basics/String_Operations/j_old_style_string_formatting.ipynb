{
 "cells": [
  {
   "cell_type": "markdown",
   "metadata": {},
   "source": [
    "String Formatting\n",
    "        - Types\n",
    "            1. Old Style formatting (or literal formatting)\n",
    "            2. New Style formatting\n",
    "            3. F-Strings  ( works from python 3.6+)\n",
    "OLD-Style formatting\n",
    "%d - integer\n",
    "%i - integer\n",
    "\n",
    "%c - single char\n",
    "%s - string/char\n",
    "\n",
    "%f - floating-point\n",
    "%F - floating-point\n",
    "\n",
    "%o - octal\n",
    "%x - hexadecimal lowercase\n",
    "%X - hexadecimal uppercase"
   ]
  },
  {
   "cell_type": "code",
   "execution_count": 1,
   "metadata": {},
   "outputs": [
    {
     "name": "stdout",
     "output_type": "stream",
     "text": [
      "\n",
      "My lucky number is %d\n",
      "My lucky number is 12\n",
      "My lucky number is 12\n",
      "My lucky number is 12\n"
     ]
    }
   ],
   "source": [
    "print(\"\" % ())\n",
    "print(\"My lucky number is %d\")\n",
    "print(\"My lucky number is %d\" % (12))\n",
    "print(\"My lucky number is %d\" % 12)\n",
    "print(\"My lucky number is %d\" % 12.34)  # int(12.34)"
   ]
  },
  {
   "cell_type": "code",
   "execution_count": 2,
   "metadata": {},
   "outputs": [
    {
     "ename": "TypeError",
     "evalue": "%d format: a real number is required, not str",
     "output_type": "error",
     "traceback": [
      "\u001b[0;31m---------------------------------------------------------------------------\u001b[0m",
      "\u001b[0;31mTypeError\u001b[0m                                 Traceback (most recent call last)",
      "Cell \u001b[0;32mIn[2], line 1\u001b[0m\n\u001b[0;32m----> 1\u001b[0m \u001b[38;5;28mprint\u001b[39m(\u001b[38;5;124;43m'\u001b[39;49m\u001b[38;5;124;43mMy lucky number is \u001b[39;49m\u001b[38;5;132;43;01m%d\u001b[39;49;00m\u001b[38;5;124;43m'\u001b[39;49m\u001b[43m \u001b[49m\u001b[38;5;241;43m%\u001b[39;49m\u001b[43m \u001b[49m\u001b[38;5;124;43m'\u001b[39;49m\u001b[38;5;124;43m12\u001b[39;49m\u001b[38;5;124;43m'\u001b[39;49m)\n",
      "\u001b[0;31mTypeError\u001b[0m: %d format: a real number is required, not str"
     ]
    }
   ],
   "source": [
    "print('My lucky number is %d' % '12')"
   ]
  },
  {
   "cell_type": "code",
   "execution_count": 3,
   "metadata": {},
   "outputs": [
    {
     "name": "stdout",
     "output_type": "stream",
     "text": [
      "My lucky number is 12\n",
      "My lucky number is 12.340000\n",
      "My lucky number is 12.000000\n",
      "My lucky number is 0.000000\n"
     ]
    }
   ],
   "source": [
    "print(\"My lucky number is %s\" % \"12\")\n",
    "print(\"My lucky number is %f\" % 12.34)\n",
    "print(\"My lucky number is %f\" % 12)  # float(12)\n",
    "print(\"My lucky number is %f\" % False)"
   ]
  },
  {
   "cell_type": "code",
   "execution_count": 4,
   "metadata": {},
   "outputs": [
    {
     "name": "stdout",
     "output_type": "stream",
     "text": [
      "\n",
      "My lucky number is True\n",
      "My lucky number is None\n",
      "My lucky number is 1\n",
      "My lucky number is 13.4\n",
      "My lucky number is 133224234\n",
      "My lucky number is python\n"
     ]
    }
   ],
   "source": [
    "print()  # str()\n",
    "print(\"My lucky number is %s\" % True)\n",
    "print(\"My lucky number is %s\" % None)\n",
    "print(\"My lucky number is %s\" % 1)\n",
    "print(\"My lucky number is %s\" % 13.4)\n",
    "print(\"My lucky number is %s\" % 133224234)\n",
    "print(\"My lucky number is %s\" % \"python\")"
   ]
  },
  {
   "cell_type": "code",
   "execution_count": 5,
   "metadata": {},
   "outputs": [
    {
     "name": "stdout",
     "output_type": "stream",
     "text": [
      "\n",
      "My lucky number is True\n",
      "My lucky number is None\n",
      "My lucky number is 1\n",
      "My lucky number is 13.4\n",
      "My lucky number is 133224234\n",
      "My lucky number is 'python'\n"
     ]
    }
   ],
   "source": [
    "print()  # repr()\n",
    "print(\"My lucky number is %r\" % True)\n",
    "print(\"My lucky number is %r\" % None)\n",
    "print(\"My lucky number is %r\" % 1)\n",
    "print(\"My lucky number is %r\" % 13.4)\n",
    "print(\"My lucky number is %r\" % 133224234)\n",
    "print(\"My lucky number is %r\" % \"python\")"
   ]
  },
  {
   "cell_type": "code",
   "execution_count": 6,
   "metadata": {},
   "outputs": [
    {
     "name": "stdout",
     "output_type": "stream",
     "text": [
      "42 0o42\n",
      "22 0x22\n",
      "22 0x22\n"
     ]
    }
   ],
   "source": [
    "# %o - octal\n",
    "print(\"%o\" % 34, oct(34))\n",
    "# %x - hexadecimal lowercase\n",
    "print(\"%x\" % 34, hex(34))\n",
    "# %X - hexadecimal uppercase\n",
    "print(\"%X\" % 34, hex(34))\n",
    "# %b - binary\n",
    "# print('%b' % (12), bin(12))\n",
    "# ValueError: unsupported format character 'b' (0x62) at index 1"
   ]
  },
  {
   "cell_type": "code",
   "execution_count": 7,
   "metadata": {},
   "outputs": [
    {
     "name": "stdout",
     "output_type": "stream",
     "text": [
      "12\n",
      "1\n",
      "1\n"
     ]
    }
   ],
   "source": [
    "print(\"%s\" % \"12\")\n",
    "print(\"%c\" % \"1\")\n",
    "print(\"%s\" % \"1\")"
   ]
  },
  {
   "cell_type": "code",
   "execution_count": 8,
   "metadata": {},
   "outputs": [
    {
     "name": "stdout",
     "output_type": "stream",
     "text": [
      "\n",
      "12.340000\n",
      "12.340000\n",
      "12.342231\n",
      "\n",
      "12.34\n",
      "12.34\n",
      "12.3422\n",
      "\n",
      "1.234000e+01\n",
      "1.234000E+01\n",
      "1.234223E+01\n"
     ]
    }
   ],
   "source": [
    "print()  # float()  -- 6 digits post decimal\n",
    "print(\"%f\" % 12.34)             # 12.340000\n",
    "print(\"%F\" % 12.34)             # 12.340000\n",
    "print(\"%F\" % 12.34223123123123) # 12.342231\n",
    "\n",
    "print()\n",
    "print(\"%g\" % 12.34)                 # 12.34\n",
    "print(\"%G\" % 12.34)                 # 12.34\n",
    "print(\"%G\" % 12.34223123123123)     # 12.3422\n",
    "\n",
    "print()\n",
    "print(\"%e\" % 12.34)                 # 1.234000e+01\n",
    "print(\"%E\" % 12.34)                 # 1.234000E+01\n",
    "print(\"%E\" % 12.34223123123123)     # 1.234223E+01"
   ]
  },
  {
   "cell_type": "code",
   "execution_count": 9,
   "metadata": {},
   "outputs": [
    {
     "name": "stdout",
     "output_type": "stream",
     "text": [
      "lucky My lucky number is 786 only.\n",
      "pi value is 3.141600!!!!!!!!!!\n",
      "pi value is   3.141600!!!!!!!!!!\n",
      "pi value is      3.142!!!!!!!!!!\n",
      "pi value is 000003.142!!!!!!!!!!\n"
     ]
    }
   ],
   "source": [
    "print(\"lucky My lucky number is %d only.\" % 786)\n",
    "print(\"pi value is %f!!!!!!!!!!\" % 3.1416)\n",
    "print(\"pi value is %10f!!!!!!!!!!\" % 3.1416)\n",
    "print(\"pi value is %10.3f!!!!!!!!!!\" % 3.1416)\n",
    "print(\"pi value is %010.3f!!!!!!!!!!\" % 3.1416)"
   ]
  },
  {
   "cell_type": "code",
   "execution_count": 2,
   "metadata": {},
   "outputs": [
    {
     "name": "stdout",
     "output_type": "stream",
     "text": [
      "My name is Rohit. I am 99 old paying a tax of 15.500000\n"
     ]
    }
   ],
   "source": [
    "print(\"My name is %s. I am %d old paying a tax of %f\" % (\"Rohit\", 99, 15.5))"
   ]
  }
 ],
 "metadata": {
  "kernelspec": {
   "display_name": "Python 3",
   "language": "python",
   "name": "python3"
  },
  "language_info": {
   "codemirror_mode": {
    "name": "ipython",
    "version": 3
   },
   "file_extension": ".py",
   "mimetype": "text/x-python",
   "name": "python",
   "nbconvert_exporter": "python",
   "pygments_lexer": "ipython3",
   "version": "3.12.1"
  }
 },
 "nbformat": 4,
 "nbformat_minor": 2
}
