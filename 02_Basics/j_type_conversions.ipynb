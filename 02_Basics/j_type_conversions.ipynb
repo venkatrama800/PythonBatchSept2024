{
 "cells": [
  {
   "cell_type": "markdown",
   "metadata": {},
   "source": [
    "Data Type Conversions\n",
    "- int, float, complex, boolean, string, None\n",
    "\n",
    "    int - decimal       - int() -base 10  (0-9)\n",
    "        - binary        - bin() -base  2  (0-1)\n",
    "        - hexadecimal   - hex()\n",
    "        - octal         - oct()\n",
    "    float\n",
    "        float()\n",
    "    String\n",
    "        str()\n",
    "\n",
    "\n",
    "int -> float\n",
    "int -> str\n",
    "\n",
    "float -> int\n",
    "float -> str\n",
    "\n",
    "str  -> int\n",
    "str -> float"
   ]
  },
  {
   "cell_type": "code",
   "execution_count": 1,
   "metadata": {},
   "outputs": [
    {
     "name": "stdout",
     "output_type": "stream",
     "text": [
      "num= 12 <class 'int'>\n"
     ]
    }
   ],
   "source": [
    "num = 12\n",
    "print(\"num=\", num, type(num))"
   ]
  },
  {
   "cell_type": "code",
   "execution_count": 2,
   "metadata": {},
   "outputs": [
    {
     "name": "stdout",
     "output_type": "stream",
     "text": [
      "12 12.0\n"
     ]
    }
   ],
   "source": [
    "# int -> float\n",
    "print(12, float(12))  # 12 12.0"
   ]
  },
  {
   "cell_type": "code",
   "execution_count": 3,
   "metadata": {},
   "outputs": [
    {
     "name": "stdout",
     "output_type": "stream",
     "text": [
      "12 12\n"
     ]
    }
   ],
   "source": [
    "# int -> str\n",
    "print(12, str(12)) "
   ]
  },
  {
   "cell_type": "code",
   "execution_count": 4,
   "metadata": {},
   "outputs": [
    {
     "name": "stdout",
     "output_type": "stream",
     "text": [
      "3.1416 3\n"
     ]
    }
   ],
   "source": [
    "# float -> int\n",
    "print(3.1416, int(3.1416))"
   ]
  },
  {
   "cell_type": "code",
   "execution_count": 5,
   "metadata": {},
   "outputs": [
    {
     "name": "stdout",
     "output_type": "stream",
     "text": [
      "3.1416 3.1416\n"
     ]
    }
   ],
   "source": [
    "print(3.1416, str(3.1416))"
   ]
  },
  {
   "cell_type": "code",
   "execution_count": 6,
   "metadata": {},
   "outputs": [
    {
     "name": "stdout",
     "output_type": "stream",
     "text": [
      "23 23\n",
      "23  23\n"
     ]
    }
   ],
   "source": [
    "# str  -> int\n",
    "print(\"23\",  int(\"23\"))  # '23 ', 23 \n",
    "print(\"23 \", int(\"23 \"))  # '23 ', 23\n",
    "# print('2 3', int('2 3'))  # ValueError: invalid literal for int() with base 10: '2 3'\n",
    "# print('two', int('two'))  # ValueError: invalid literal for int() with base 10: 't"
   ]
  },
  {
   "cell_type": "code",
   "execution_count": 7,
   "metadata": {},
   "outputs": [],
   "source": [
    "# print('23.24', int('23.24')) # ValueError: invalid literal for int() with base 10: '23.24'"
   ]
  },
  {
   "cell_type": "code",
   "execution_count": 8,
   "metadata": {},
   "outputs": [
    {
     "name": "stdout",
     "output_type": "stream",
     "text": [
      "23    23.0\n",
      "23.24 23.24\n",
      "23.   23.0\n"
     ]
    }
   ],
   "source": [
    "# str -> float\n",
    "print(\"23   \", float(\"23\"))     # '23   ', 23.0\n",
    "print(\"23.24\", float(\"23.24\"))  # '23.24', 23.24\n",
    "print(\"23.  \", float(\"23.\"))    # '23.  ', 23.0\n",
    "# print('2 3. ', float('2 3.')) # ValueError: could not convert string to float: '2 3.'"
   ]
  },
  {
   "cell_type": "code",
   "execution_count": 9,
   "metadata": {},
   "outputs": [
    {
     "data": {
      "text/plain": [
       "0"
      ]
     },
     "execution_count": 9,
     "metadata": {},
     "output_type": "execute_result"
    }
   ],
   "source": [
    "int()"
   ]
  },
  {
   "cell_type": "code",
   "execution_count": 10,
   "metadata": {},
   "outputs": [
    {
     "data": {
      "text/plain": [
       "0.0"
      ]
     },
     "execution_count": 10,
     "metadata": {},
     "output_type": "execute_result"
    }
   ],
   "source": [
    "float()"
   ]
  },
  {
   "cell_type": "code",
   "execution_count": 11,
   "metadata": {},
   "outputs": [
    {
     "data": {
      "text/plain": [
       "False"
      ]
     },
     "execution_count": 11,
     "metadata": {},
     "output_type": "execute_result"
    }
   ],
   "source": [
    "bool()"
   ]
  },
  {
   "cell_type": "code",
   "execution_count": 12,
   "metadata": {},
   "outputs": [
    {
     "data": {
      "text/plain": [
       "-inf"
      ]
     },
     "execution_count": 12,
     "metadata": {},
     "output_type": "execute_result"
    }
   ],
   "source": [
    "float()                 # 0.0\n",
    "float(\"+1.23\")          # 1.23\n",
    "float(\"   -12345\\n\")    # -12345.0\n",
    "float(\"1e-003\")         # 0.001\n",
    "float(\"+1E6\")           # 1000000.0\n",
    "float(\"-Infinity\")      # -inf"
   ]
  },
  {
   "cell_type": "code",
   "execution_count": 13,
   "metadata": {},
   "outputs": [
    {
     "data": {
      "text/plain": [
       "-inf"
      ]
     },
     "execution_count": 13,
     "metadata": {},
     "output_type": "execute_result"
    }
   ],
   "source": [
    "float('-inf')"
   ]
  },
  {
   "cell_type": "code",
   "execution_count": 14,
   "metadata": {},
   "outputs": [
    {
     "data": {
      "text/plain": [
       "inf"
      ]
     },
     "execution_count": 14,
     "metadata": {},
     "output_type": "execute_result"
    }
   ],
   "source": [
    "float('inf')"
   ]
  },
  {
   "cell_type": "code",
   "execution_count": 15,
   "metadata": {},
   "outputs": [
    {
     "name": "stdout",
     "output_type": "stream",
     "text": [
      "str(12)           12\n",
      "str(121233.12323) 121233.12323\n",
      "str(-0.000012)    -1.2e-05\n",
      "str(True)         True\n",
      "str(None)         None\n"
     ]
    }
   ],
   "source": [
    "\n",
    "# NOTE: Anything can be converted to str; but not vice versa\n",
    "print(\"str(12)          \", str(12))\n",
    "print(\"str(121233.12323)\", str(121233.12323))\n",
    "print(\"str(-0.000012)   \", str(-0.000012))\n",
    "print(\"str(True)        \", str(True))\n",
    "print(\"str(None)        \", str(None))"
   ]
  },
  {
   "cell_type": "code",
   "execution_count": 16,
   "metadata": {},
   "outputs": [
    {
     "name": "stdout",
     "output_type": "stream",
     "text": [
      "num1 = 33 <class 'int'>\n"
     ]
    }
   ],
   "source": [
    "# int Value is same in all four representations\n",
    "# decimal, binary, hexadecimal & octal\n",
    "\n",
    "num1 = 33\n",
    "print(\"num1 =\", num1, type(num1))  # -> Decimal form"
   ]
  },
  {
   "cell_type": "code",
   "execution_count": 17,
   "metadata": {},
   "outputs": [
    {
     "name": "stdout",
     "output_type": "stream",
     "text": [
      "23 0b10111 <class 'str'>\n"
     ]
    }
   ],
   "source": [
    "# decimal -> binary form\n",
    "print(23, bin(23), type(bin(23)))\n",
    "\n",
    "\n",
    "#      128 64 32 16   8 4 2 1\n",
    "\n",
    "# 23     0  0  0  1   0 1 1 1 "
   ]
  },
  {
   "cell_type": "code",
   "execution_count": 18,
   "metadata": {},
   "outputs": [],
   "source": [
    "# print(23.24, bin(23.24), type(bin(23.24))) # TypeError: 'float' object cannot be interpreted as an integer"
   ]
  },
  {
   "cell_type": "code",
   "execution_count": 19,
   "metadata": {},
   "outputs": [
    {
     "name": "stdout",
     "output_type": "stream",
     "text": [
      "23.24 0b10111\n"
     ]
    }
   ],
   "source": [
    "\n",
    "print(23.24, bin(int(23.24)))  # 23.24, '0b10111'"
   ]
  },
  {
   "cell_type": "code",
   "execution_count": 20,
   "metadata": {},
   "outputs": [
    {
     "name": "stdout",
     "output_type": "stream",
     "text": [
      "bin(9) 0b1001\n"
     ]
    }
   ],
   "source": [
    "print(\"bin(9)\", bin(9))  # '0b1001'"
   ]
  },
  {
   "cell_type": "code",
   "execution_count": 21,
   "metadata": {},
   "outputs": [
    {
     "data": {
      "text/plain": [
       "9"
      ]
     },
     "execution_count": 21,
     "metadata": {},
     "output_type": "execute_result"
    }
   ],
   "source": [
    "0b1001"
   ]
  },
  {
   "cell_type": "code",
   "execution_count": 22,
   "metadata": {},
   "outputs": [
    {
     "name": "stdout",
     "output_type": "stream",
     "text": [
      "0b1001 9\n",
      "1001   1001\n",
      "bin(9) 9\n"
     ]
    }
   ],
   "source": [
    "# binary -> decimal form\n",
    "print(\"0b1001\", int(\"0b1001\", base=0))  # 9\n",
    "print(\"1001  \", int(\"1001\", base=0))    # 1001\n",
    "print(\"bin(9)\", int(bin(9), base=0))    # 9"
   ]
  },
  {
   "cell_type": "code",
   "execution_count": 23,
   "metadata": {},
   "outputs": [
    {
     "name": "stdout",
     "output_type": "stream",
     "text": [
      "4\n",
      "5\n"
     ]
    }
   ],
   "source": [
    "print((9).bit_length())  # 4 <- '0b1001'\n",
    "print((23).bit_length())  # 5 <- '0b10111'"
   ]
  },
  {
   "cell_type": "code",
   "execution_count": 24,
   "metadata": {},
   "outputs": [
    {
     "name": "stdout",
     "output_type": "stream",
     "text": [
      "oct(9)   0o11\n",
      "oct(-23) -0o27\n"
     ]
    }
   ],
   "source": [
    "\n",
    "# Octal -> 0-7\n",
    "# decimal -> octal\n",
    "print(\"oct(9)  \", oct(9))  # '0o11'\n",
    "print(\"oct(-23)\", oct(-23))  # '-0o27'"
   ]
  },
  {
   "cell_type": "code",
   "execution_count": 25,
   "metadata": {},
   "outputs": [
    {
     "data": {
      "text/plain": [
       "('0o12', '12')"
      ]
     },
     "execution_count": 25,
     "metadata": {},
     "output_type": "execute_result"
    }
   ],
   "source": [
    "\"%#o\" % 10, \"%o\" % 10  # ('0o12', '12')\n",
    "format(10, \"#o\"), format(10, \"o\")  # ('0o12', '12')\n",
    "f\"{10:#o}\", f\"{10:o}\"  # ('0o12', '12')"
   ]
  },
  {
   "cell_type": "code",
   "execution_count": 26,
   "metadata": {},
   "outputs": [
    {
     "name": "stdout",
     "output_type": "stream",
     "text": [
      "9\n",
      "9\n",
      "9\n",
      "11\n"
     ]
    }
   ],
   "source": [
    "# octal -> decimal\n",
    "print(int(oct(9), base=8))  # 9\n",
    "print(int(\"0o11\", base=8))  # 9\n",
    "print(int(\"11\", base=8))    # 9\n",
    "print(int(\"11\"))  # 11"
   ]
  },
  {
   "cell_type": "code",
   "execution_count": 27,
   "metadata": {},
   "outputs": [
    {
     "name": "stdout",
     "output_type": "stream",
     "text": [
      "hex(9)   0x9\n",
      "hex(-23) -0x17\n"
     ]
    }
   ],
   "source": [
    "# Hexadecimal - 0-9 A-F\n",
    "# decimal -> hexadecimal\n",
    "print(\"hex(9)  \", hex(9))  # '0x9'\n",
    "print(\"hex(-23)\", hex(-23))  # '-0x17'"
   ]
  },
  {
   "cell_type": "code",
   "execution_count": 28,
   "metadata": {},
   "outputs": [
    {
     "name": "stdout",
     "output_type": "stream",
     "text": [
      "-23\n",
      "-23\n",
      "-23\n",
      "-17\n"
     ]
    }
   ],
   "source": [
    "# hexadecimal -> decimal\n",
    "print(int(hex(-23), base=16))  # -23\n",
    "print(int(\"-0x17\", base=16))  # -23\n",
    "print(int(\"-17\", base=16))  # -23\n",
    "print(int(\"-17\"))  # -17"
   ]
  },
  {
   "cell_type": "code",
   "execution_count": 29,
   "metadata": {},
   "outputs": [
    {
     "data": {
      "text/plain": [
       "True"
      ]
     },
     "execution_count": 29,
     "metadata": {},
     "output_type": "execute_result"
    }
   ],
   "source": [
    "2.0.is_integer()"
   ]
  },
  {
   "cell_type": "code",
   "execution_count": 30,
   "metadata": {},
   "outputs": [
    {
     "name": "stdout",
     "output_type": "stream",
     "text": [
      "True\n",
      "False\n",
      "False\n"
     ]
    }
   ],
   "source": [
    "# Checks ##################\n",
    "# is_integer -> Return True if the float is an integer.\n",
    "print((-2.0).is_integer())      # True\n",
    "print((-2.1).is_integer())      # False\n",
    "print((-1.9999).is_integer())   # False"
   ]
  },
  {
   "cell_type": "code",
   "execution_count": 31,
   "metadata": {},
   "outputs": [
    {
     "name": "stdout",
     "output_type": "stream",
     "text": [
      "42\n",
      "42\n",
      "42\n",
      "66\n",
      "66\n"
     ]
    }
   ],
   "source": [
    "# ---- telugu numbers\n",
    "print(int(\"42\"))            # 42\n",
    "print(int(\"४२\"))            # 42\n",
    "print(int(\"٤٢\"))            # 42\n",
    "print(int(\"४२\", 16))        # 66\n",
    "print(int(\"४२\", base=16))   # 66"
   ]
  },
  {
   "cell_type": "code",
   "execution_count": 32,
   "metadata": {},
   "outputs": [
    {
     "name": "stdout",
     "output_type": "stream",
     "text": [
      "౦ 0\n",
      "౧ 1\n",
      "౨ 2\n",
      "౩ 3\n",
      "౪ 4\n",
      "౫ 5\n",
      "౬ 6\n",
      "౭ 7\n",
      "౮ 8\n",
      "౯ 9\n"
     ]
    }
   ],
   "source": [
    "# Telugu numbers\n",
    "for num in [\"౦\", \"౧\", \"౨\", \"౩\", \"౪\", \"౫\", \"౬\", \"౭\", \"౮\", \"౯\"]:\n",
    "    print(num, int(num, base=16))"
   ]
  },
  {
   "cell_type": "code",
   "execution_count": 33,
   "metadata": {},
   "outputs": [],
   "source": [
    "\n",
    "# Ref: https://unicode-table.com/"
   ]
  }
 ],
 "metadata": {
  "kernelspec": {
   "display_name": "Python 3",
   "language": "python",
   "name": "python3"
  },
  "language_info": {
   "codemirror_mode": {
    "name": "ipython",
    "version": 3
   },
   "file_extension": ".py",
   "mimetype": "text/x-python",
   "name": "python",
   "nbconvert_exporter": "python",
   "pygments_lexer": "ipython3",
   "version": "3.12.1"
  }
 },
 "nbformat": 4,
 "nbformat_minor": 2
}
