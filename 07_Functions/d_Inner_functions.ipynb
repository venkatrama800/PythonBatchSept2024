{
 "cells": [
  {
   "cell_type": "markdown",
   "metadata": {},
   "source": [
    "### Inner Functions\n"
   ]
  },
  {
   "cell_type": "code",
   "execution_count": 1,
   "metadata": {},
   "outputs": [
    {
     "name": "stdout",
     "output_type": "stream",
     "text": [
      "In outer function\n"
     ]
    }
   ],
   "source": [
    "def outer():\n",
    "    print(\"In outer function\")\n",
    "\n",
    "outer()"
   ]
  },
  {
   "cell_type": "code",
   "execution_count": 2,
   "metadata": {},
   "outputs": [
    {
     "name": "stdout",
     "output_type": "stream",
     "text": [
      "In outer function\n"
     ]
    }
   ],
   "source": [
    "def outer():\n",
    "    print(\"In outer function\")\n",
    "\n",
    "    def inner():\n",
    "        print(\"In inner function\")\n",
    "\n",
    "outer()"
   ]
  },
  {
   "cell_type": "code",
   "execution_count": 3,
   "metadata": {},
   "outputs": [
    {
     "ename": "NameError",
     "evalue": "name 'inner' is not defined",
     "output_type": "error",
     "traceback": [
      "\u001b[0;31m---------------------------------------------------------------------------\u001b[0m",
      "\u001b[0;31mNameError\u001b[0m                                 Traceback (most recent call last)",
      "Cell \u001b[0;32mIn[3], line 1\u001b[0m\n\u001b[0;32m----> 1\u001b[0m \u001b[43minner\u001b[49m()\n",
      "\u001b[0;31mNameError\u001b[0m: name 'inner' is not defined"
     ]
    }
   ],
   "source": [
    "inner()"
   ]
  },
  {
   "cell_type": "code",
   "execution_count": 4,
   "metadata": {},
   "outputs": [
    {
     "name": "stdout",
     "output_type": "stream",
     "text": [
      "In outer function\n",
      "In inner function\n"
     ]
    }
   ],
   "source": [
    "def outer():\n",
    "    print(\"In outer function\")\n",
    "\n",
    "    def inner():\n",
    "        print(\"In inner function\")\n",
    "    inner()\n",
    "\n",
    "outer()"
   ]
  },
  {
   "cell_type": "markdown",
   "metadata": {},
   "source": [
    "### Closures\n",
    "\n",
    "    Closures can avoid the use of global values and provides some form of data hiding.\n",
    "\n",
    "    It can also provide an object oriented solution to the problem."
   ]
  },
  {
   "cell_type": "code",
   "execution_count": 5,
   "metadata": {},
   "outputs": [
    {
     "name": "stdout",
     "output_type": "stream",
     "text": [
      "In outer function\n",
      "inner.__closure__:786\n",
      "In Inner function 786\n",
      "result <class 'NoneType'> None\n"
     ]
    }
   ],
   "source": [
    "def outer():\n",
    "    print(\"In outer function\")\n",
    "    nnum = 786\n",
    "\n",
    "    def inner():\n",
    "        print(\"In Inner function\", nnum)\n",
    "\n",
    "    print(f\"inner.__closure__:{inner.__closure__[0].cell_contents}\")\n",
    "    inner()\n",
    "\n",
    "\n",
    "result = outer()\n",
    "print(\"result\", type(result), result)"
   ]
  },
  {
   "cell_type": "code",
   "execution_count": 6,
   "metadata": {},
   "outputs": [
    {
     "name": "stdout",
     "output_type": "stream",
     "text": [
      "In outer function\n",
      "inner.__closure__                 :(<cell at 0x7ce3d43662f0: int object at 0x7ce3bdc426b0>,)\n",
      "inner.__closure__[0].cell_contents:786\n",
      "result <class 'function'> <function outer.<locals>.inner at 0x7ce3d8003920>\n"
     ]
    }
   ],
   "source": [
    "def outer():\n",
    "    print(\"In outer function\")\n",
    "    nnum = 786\n",
    "    num2 = 999\n",
    "\n",
    "    def inner():\n",
    "        print(\"In Inner function\", nnum)\n",
    "\n",
    "    print(f\"inner.__closure__                 :{inner.__closure__}\")\n",
    "    print(f\"inner.__closure__[0].cell_contents:{inner.__closure__[0].cell_contents}\")\n",
    "    return inner\n",
    "\n",
    "\n",
    "result = outer()\n",
    "print(\"result\", type(result), result)"
   ]
  },
  {
   "cell_type": "code",
   "execution_count": 7,
   "metadata": {},
   "outputs": [
    {
     "name": "stdout",
     "output_type": "stream",
     "text": [
      "In outer function\n",
      "In Inner function 786\n",
      "result <class 'NoneType'> None\n"
     ]
    }
   ],
   "source": [
    "def outer():\n",
    "    print(\"In outer function\")\n",
    "    nnum = 786\n",
    "\n",
    "    def inner():\n",
    "        print(\"In Inner function\", nnum)\n",
    "\n",
    "    inner()\n",
    "\n",
    "\n",
    "result = outer()\n",
    "print(\"result\", type(result), result)"
   ]
  },
  {
   "cell_type": "code",
   "execution_count": 8,
   "metadata": {},
   "outputs": [
    {
     "name": "stdout",
     "output_type": "stream",
     "text": [
      "In outer function\n",
      "In Inner function 786\n",
      "result <class 'NoneType'> None\n"
     ]
    }
   ],
   "source": [
    "def outer():\n",
    "    print(\"In outer function\")\n",
    "    nnum = 786\n",
    "\n",
    "    def inner():\n",
    "        print(\"In Inner function\", nnum)\n",
    "\n",
    "    return inner()\n",
    "\n",
    "\n",
    "result = outer()\n",
    "print(\"result\", type(result), result)"
   ]
  },
  {
   "cell_type": "code",
   "execution_count": 9,
   "metadata": {},
   "outputs": [
    {
     "name": "stdout",
     "output_type": "stream",
     "text": [
      "In outer function\n",
      "result <class 'function'> <function outer.<locals>.inner at 0x7ce3d4201da0>\n"
     ]
    }
   ],
   "source": [
    "def outer():\n",
    "    print(\"In outer function\")\n",
    "    nnum = 786\n",
    "\n",
    "    def inner():\n",
    "        print(\"In Inner function\", nnum)\n",
    "\n",
    "    return inner \n",
    "\n",
    "\n",
    "result = outer()\n",
    "print(\"result\", type(result), result)"
   ]
  },
  {
   "cell_type": "code",
   "execution_count": 10,
   "metadata": {},
   "outputs": [
    {
     "data": {
      "text/plain": [
       "<function __main__.outer.<locals>.inner()>"
      ]
     },
     "execution_count": 10,
     "metadata": {},
     "output_type": "execute_result"
    }
   ],
   "source": [
    "result"
   ]
  },
  {
   "cell_type": "code",
   "execution_count": 11,
   "metadata": {},
   "outputs": [
    {
     "name": "stdout",
     "output_type": "stream",
     "text": [
      "In Inner function 786\n"
     ]
    }
   ],
   "source": [
    "result()"
   ]
  },
  {
   "cell_type": "code",
   "execution_count": 12,
   "metadata": {},
   "outputs": [
    {
     "name": "stdout",
     "output_type": "stream",
     "text": [
      "In outer function\n",
      "result <class 'function'> <function outer.<locals>.inner at 0x7ce3d4200ea0>\n",
      "In Inner function 786\n"
     ]
    }
   ],
   "source": [
    "def outer():\n",
    "    print(\"In outer function\")\n",
    "    nnum = 786\n",
    "\n",
    "    def inner():\n",
    "        print(\"In Inner function\", nnum)\n",
    "\n",
    "    return inner \n",
    "\n",
    "\n",
    "result = outer()\n",
    "print(\"result\", type(result), result)\n",
    "\n",
    "result()"
   ]
  },
  {
   "cell_type": "code",
   "execution_count": 14,
   "metadata": {},
   "outputs": [
    {
     "name": "stdout",
     "output_type": "stream",
     "text": [
      "None\n"
     ]
    }
   ],
   "source": [
    "def generate_power_func(n):\n",
    "    def nth_power(x):\n",
    "        return x ** n\n",
    "    \n",
    "\n",
    "raised_to_4 = generate_power_func(4)\n",
    "print(raised_to_4)"
   ]
  },
  {
   "cell_type": "code",
   "execution_count": 15,
   "metadata": {},
   "outputs": [
    {
     "name": "stdout",
     "output_type": "stream",
     "text": [
      "<function generate_power_func.<locals>.nth_power at 0x7ce3d4203ec0>\n"
     ]
    }
   ],
   "source": [
    "def generate_power_func(n):\n",
    "    def nth_power(x):\n",
    "        return x ** n\n",
    "    return nth_power\n",
    "\n",
    "raised_to_4 = generate_power_func(4)\n",
    "print(raised_to_4)"
   ]
  },
  {
   "cell_type": "code",
   "execution_count": 16,
   "metadata": {},
   "outputs": [
    {
     "data": {
      "text/plain": [
       "16"
      ]
     },
     "execution_count": 16,
     "metadata": {},
     "output_type": "execute_result"
    }
   ],
   "source": [
    "raised_to_4(2)"
   ]
  },
  {
   "cell_type": "code",
   "execution_count": 17,
   "metadata": {},
   "outputs": [],
   "source": [
    "# assignment - implement the partial functions, using closures"
   ]
  },
  {
   "cell_type": "code",
   "execution_count": 2,
   "metadata": {},
   "outputs": [
    {
     "name": "stdout",
     "output_type": "stream",
     "text": [
      "94.5\n",
      "90.3\n"
     ]
    }
   ],
   "source": [
    "def price_calculator(base_price, tax_rate):\n",
    "    \n",
    "    def calculate(discount):\n",
    "        return (base_price * (1 - discount) * (1 + tax_rate))\n",
    "    \n",
    "    return calculate\n",
    "\n",
    "\n",
    "cal_price_with_state_tax = price_calculator(100, 0.05)\n",
    "\n",
    "print(cal_price_with_state_tax(discount=0.1)) # 10 %\n",
    "print(cal_price_with_state_tax(discount=0.14)) # 14 %"
   ]
  },
  {
   "cell_type": "code",
   "execution_count": 4,
   "metadata": {},
   "outputs": [
    {
     "name": "stdout",
     "output_type": "stream",
     "text": [
      "486.00000000000006\n",
      "464.40000000000003\n"
     ]
    }
   ],
   "source": [
    "cal_price_with_city_tax = price_calculator(500, 0.08)\n",
    "\n",
    "print(cal_price_with_city_tax(discount=0.1)) # 10 %\n",
    "print(cal_price_with_city_tax(discount=0.14)) # 14 %"
   ]
  },
  {
   "cell_type": "markdown",
   "metadata": {},
   "source": [
    "## Decorators"
   ]
  },
  {
   "cell_type": "markdown",
   "metadata": {},
   "source": [
    "#### Without decorators\n"
   ]
  },
  {
   "cell_type": "code",
   "execution_count": 21,
   "metadata": {},
   "outputs": [],
   "source": [
    "def add(a, b):\n",
    "    return a + b\n"
   ]
  },
  {
   "cell_type": "code",
   "execution_count": 19,
   "metadata": {},
   "outputs": [
    {
     "data": {
      "text/plain": [
       "22"
      ]
     },
     "execution_count": 19,
     "metadata": {},
     "output_type": "execute_result"
    }
   ],
   "source": [
    "add(10, 12)"
   ]
  },
  {
   "cell_type": "code",
   "execution_count": 20,
   "metadata": {},
   "outputs": [
    {
     "ename": "TypeError",
     "evalue": "unsupported operand type(s) for +: 'int' and 'str'",
     "output_type": "error",
     "traceback": [
      "\u001b[0;31m---------------------------------------------------------------------------\u001b[0m",
      "\u001b[0;31mTypeError\u001b[0m                                 Traceback (most recent call last)",
      "Cell \u001b[0;32mIn[20], line 1\u001b[0m\n\u001b[0;32m----> 1\u001b[0m \u001b[43madd\u001b[49m\u001b[43m(\u001b[49m\u001b[38;5;241;43m10\u001b[39;49m\u001b[43m,\u001b[49m\u001b[43m \u001b[49m\u001b[38;5;124;43m'\u001b[39;49m\u001b[38;5;124;43m12\u001b[39;49m\u001b[38;5;124;43m'\u001b[39;49m\u001b[43m)\u001b[49m\n",
      "Cell \u001b[0;32mIn[18], line 2\u001b[0m, in \u001b[0;36madd\u001b[0;34m(a, b)\u001b[0m\n\u001b[1;32m      1\u001b[0m \u001b[38;5;28;01mdef\u001b[39;00m \u001b[38;5;21madd\u001b[39m(a, b):\n\u001b[0;32m----> 2\u001b[0m     \u001b[38;5;28;01mreturn\u001b[39;00m \u001b[43ma\u001b[49m\u001b[43m \u001b[49m\u001b[38;5;241;43m+\u001b[39;49m\u001b[43m \u001b[49m\u001b[43mb\u001b[49m\n",
      "\u001b[0;31mTypeError\u001b[0m: unsupported operand type(s) for +: 'int' and 'str'"
     ]
    }
   ],
   "source": [
    "add(10, '12')"
   ]
  },
  {
   "cell_type": "code",
   "execution_count": 22,
   "metadata": {},
   "outputs": [
    {
     "data": {
      "text/plain": [
       "5.0"
      ]
     },
     "execution_count": 22,
     "metadata": {},
     "output_type": "execute_result"
    }
   ],
   "source": [
    "def div(a, b):\n",
    "    return  a/b\n",
    "\n",
    "\n",
    "div(10, 2)"
   ]
  },
  {
   "cell_type": "code",
   "execution_count": 23,
   "metadata": {},
   "outputs": [
    {
     "ename": "ZeroDivisionError",
     "evalue": "division by zero",
     "output_type": "error",
     "traceback": [
      "\u001b[0;31m---------------------------------------------------------------------------\u001b[0m",
      "\u001b[0;31mZeroDivisionError\u001b[0m                         Traceback (most recent call last)",
      "Cell \u001b[0;32mIn[23], line 1\u001b[0m\n\u001b[0;32m----> 1\u001b[0m \u001b[43mdiv\u001b[49m\u001b[43m(\u001b[49m\u001b[38;5;241;43m10\u001b[39;49m\u001b[43m,\u001b[49m\u001b[43m \u001b[49m\u001b[38;5;241;43m0\u001b[39;49m\u001b[43m)\u001b[49m\n",
      "Cell \u001b[0;32mIn[22], line 2\u001b[0m, in \u001b[0;36mdiv\u001b[0;34m(a, b)\u001b[0m\n\u001b[1;32m      1\u001b[0m \u001b[38;5;28;01mdef\u001b[39;00m \u001b[38;5;21mdiv\u001b[39m(a, b):\n\u001b[0;32m----> 2\u001b[0m     \u001b[38;5;28;01mreturn\u001b[39;00m  \u001b[43ma\u001b[49m\u001b[38;5;241;43m/\u001b[39;49m\u001b[43mb\u001b[49m\n",
      "\u001b[0;31mZeroDivisionError\u001b[0m: division by zero"
     ]
    }
   ],
   "source": [
    "div(10, 0)"
   ]
  },
  {
   "cell_type": "code",
   "execution_count": 27,
   "metadata": {},
   "outputs": [
    {
     "name": "stdout",
     "output_type": "stream",
     "text": [
      "22   =\n",
      "unsupported operand type(s) for +: 'int' and 'str' =\n"
     ]
    }
   ],
   "source": [
    "def add(a, b):\n",
    "    try:\n",
    "         result = a+ b\n",
    "    except Exception as ex:\n",
    "         return ex\n",
    "    else:\n",
    "         return result\n",
    "    \n",
    "\n",
    "def div(a, b):\n",
    "    try:\n",
    "         result = a/ b\n",
    "    except Exception as ex:\n",
    "         return ex\n",
    "    else:\n",
    "         return result\n",
    "    \n",
    "\n",
    "print(f'{add(10, 12)}   =')\n",
    "print(f'{add(10, \"12\")} =')"
   ]
  },
  {
   "cell_type": "code",
   "execution_count": 28,
   "metadata": {},
   "outputs": [
    {
     "name": "stdout",
     "output_type": "stream",
     "text": [
      "5.0   =\n",
      "division by zero =\n"
     ]
    }
   ],
   "source": [
    "print(f'{div(10, 2)}   =')\n",
    "print(f'{div(10, 0)} =')"
   ]
  },
  {
   "cell_type": "code",
   "execution_count": 29,
   "metadata": {},
   "outputs": [
    {
     "name": "stdout",
     "output_type": "stream",
     "text": [
      "22   =\n",
      "unsupported operand type(s) for +: 'int' and 'str' =\n"
     ]
    }
   ],
   "source": [
    "def outer(func):\n",
    "    def inner(num1, num2):\n",
    "        try:\n",
    "            result = num1 + num2\n",
    "        except Exception as ex:\n",
    "            return ex\n",
    "        else:\n",
    "            return result\n",
    "    return inner\n",
    "\n",
    "def add(a, b):\n",
    "    return a + b\n",
    "\n",
    "add_with_exception_handling = outer(add)\n",
    "\n",
    "print(f'{add_with_exception_handling(10, 12)}   =')\n",
    "print(f'{add_with_exception_handling(10, \"12\")} =')"
   ]
  },
  {
   "cell_type": "code",
   "execution_count": 32,
   "metadata": {},
   "outputs": [
    {
     "name": "stdout",
     "output_type": "stream",
     "text": [
      "div_with_exception_handling(10, 2) =5.0\n",
      "div_with_exception_handling(10, 0) =ZeroDivisionError('division by zero')\n"
     ]
    }
   ],
   "source": [
    "def outer(func):\n",
    "    def inner(num1, num2):\n",
    "        try:\n",
    "            result = num1 / num2\n",
    "        except Exception as ex:\n",
    "            return ex\n",
    "        else:\n",
    "            return result\n",
    "    return inner\n",
    "\n",
    "def div(a, b):\n",
    "    return a / b\n",
    "\n",
    "div_with_exception_handling = outer(div)\n",
    "\n",
    "print(f'{div_with_exception_handling(10, 2) =}')\n",
    "print(f'{div_with_exception_handling(10, 0) =}')"
   ]
  },
  {
   "cell_type": "code",
   "execution_count": 35,
   "metadata": {},
   "outputs": [
    {
     "name": "stdout",
     "output_type": "stream",
     "text": [
      "add_with_exception_handling(10, 12) =22\n",
      "add_with_exception_handling(10, \"12\") =TypeError(\"unsupported operand type(s) for +: 'int' and 'str'\")\n",
      "div_with_exception_handling(10, 2) =5.0\n",
      "div_with_exception_handling(10, 0) =ZeroDivisionError('division by zero')\n"
     ]
    }
   ],
   "source": [
    "def outer(func):\n",
    "    def inner(num1, num2):\n",
    "        try:\n",
    "            result = func(num1, num2) # num1 + num2\n",
    "        except Exception as ex:\n",
    "            return ex\n",
    "        else:\n",
    "            return result\n",
    "    return inner\n",
    "\n",
    "def add(a, b):\n",
    "    return a + b\n",
    "\n",
    "add_with_exception_handling = outer(add)\n",
    "\n",
    "print(f'{add_with_exception_handling(10, 12) =}')\n",
    "print(f'{add_with_exception_handling(10, \"12\") =}')\n",
    "\n",
    "\n",
    "def div(a, b):\n",
    "    return a / b\n",
    "\n",
    "div_with_exception_handling = outer(div)\n",
    "\n",
    "print(f'{div_with_exception_handling(10, 2) =}')\n",
    "print(f'{div_with_exception_handling(10, 0) =}')"
   ]
  },
  {
   "cell_type": "markdown",
   "metadata": {},
   "source": [
    "### Synatic Sugar"
   ]
  },
  {
   "cell_type": "code",
   "execution_count": 37,
   "metadata": {},
   "outputs": [
    {
     "name": "stdout",
     "output_type": "stream",
     "text": [
      "add(10, 12)   =22\n",
      "add(10, \"12\") =TypeError(\"unsupported operand type(s) for +: 'int' and 'str'\")\n",
      "div(10, 2) =5.0\n",
      "div(10, 0) =ZeroDivisionError('division by zero')\n"
     ]
    }
   ],
   "source": [
    "def outer(func):\n",
    "    def inner(num1, num2):\n",
    "        try:\n",
    "            result = func(num1, num2) # num1 + num2\n",
    "        except Exception as ex:\n",
    "            return ex\n",
    "        else:\n",
    "            return result\n",
    "    return inner\n",
    "\n",
    "@outer\n",
    "def add(a, b):\n",
    "    return a + b\n",
    "\n",
    "# add_with_exception_handling = outer(add)\n",
    "\n",
    "# print(f'{add_with_exception_handling(10, 12) =}')\n",
    "# print(f'{add_with_exception_handling(10, \"12\") =}')\n",
    "\n",
    "print(f'{add(10, 12)   =}')\n",
    "print(f'{add(10, \"12\") =}')\n",
    "\n",
    "@outer\n",
    "def div(a, b):\n",
    "    return a / b\n",
    "\n",
    "# div_with_exception_handling = outer(div)\n",
    "\n",
    "# print(f'{div_with_exception_handling(10, 2) =}')\n",
    "# print(f'{div_with_exception_handling(10, 0) =}')\n",
    "\n",
    "\n",
    "print(f'{div(10, 2) =}')\n",
    "print(f'{div(10, 0) =}')"
   ]
  },
  {
   "cell_type": "code",
   "execution_count": 38,
   "metadata": {},
   "outputs": [
    {
     "name": "stdout",
     "output_type": "stream",
     "text": [
      "add(10, 12)   =22\n",
      "add(10, \"12\") =TypeError(\"unsupported operand type(s) for +: 'int' and 'str'\")\n",
      "div(10, 2) =5.0\n",
      "div(10, 0) =ZeroDivisionError('division by zero')\n"
     ]
    }
   ],
   "source": [
    "def exception_handler(func):\n",
    "    def inner(num1, num2):\n",
    "        try:\n",
    "            result = func(num1, num2) # num1 + num2\n",
    "        except Exception as ex:\n",
    "            return ex\n",
    "        else:\n",
    "            return result\n",
    "    return inner\n",
    "\n",
    "\n",
    "@exception_handler\n",
    "def add(a, b):\n",
    "    return a + b\n",
    "\n",
    "\n",
    "@exception_handler\n",
    "def div(a, b):\n",
    "    return a / b\n",
    "\n",
    "\n",
    "print(f'{add(10, 12)   =}')\n",
    "print(f'{add(10, \"12\") =}')\n",
    "\n",
    "print(f'{div(10, 2) =}')\n",
    "print(f'{div(10, 0) =}')"
   ]
  },
  {
   "cell_type": "code",
   "execution_count": 39,
   "metadata": {},
   "outputs": [
    {
     "name": "stdout",
     "output_type": "stream",
     "text": [
      "div(10, 2) =5.0\n",
      "div(10, 0) =ZeroDivisionError('division by zero')\n"
     ]
    },
    {
     "ename": "TypeError",
     "evalue": "exception_handler.<locals>.inner() takes 2 positional arguments but 3 were given",
     "output_type": "error",
     "traceback": [
      "\u001b[0;31m---------------------------------------------------------------------------\u001b[0m",
      "\u001b[0;31mTypeError\u001b[0m                                 Traceback (most recent call last)",
      "Cell \u001b[0;32mIn[39], line 27\u001b[0m\n\u001b[1;32m     23\u001b[0m \u001b[38;5;28mprint\u001b[39m(\u001b[38;5;124mf\u001b[39m\u001b[38;5;124m'\u001b[39m\u001b[38;5;132;01m{\u001b[39;00mdiv(\u001b[38;5;241m10\u001b[39m,\u001b[38;5;250m \u001b[39m\u001b[38;5;241m2\u001b[39m)\u001b[38;5;250m \u001b[39m\u001b[38;5;132;01m=}\u001b[39;00m\u001b[38;5;124m'\u001b[39m)\n\u001b[1;32m     24\u001b[0m \u001b[38;5;28mprint\u001b[39m(\u001b[38;5;124mf\u001b[39m\u001b[38;5;124m'\u001b[39m\u001b[38;5;132;01m{\u001b[39;00mdiv(\u001b[38;5;241m10\u001b[39m,\u001b[38;5;250m \u001b[39m\u001b[38;5;241m0\u001b[39m)\u001b[38;5;250m \u001b[39m\u001b[38;5;132;01m=}\u001b[39;00m\u001b[38;5;124m'\u001b[39m)\n\u001b[0;32m---> 27\u001b[0m \u001b[38;5;28mprint\u001b[39m(\u001b[38;5;124mf\u001b[39m\u001b[38;5;124m'\u001b[39m\u001b[38;5;132;01m{\u001b[39;00m\u001b[43madd\u001b[49m\u001b[43m(\u001b[49m\u001b[38;5;241;43m10\u001b[39;49m\u001b[43m,\u001b[49m\u001b[38;5;250;43m \u001b[39;49m\u001b[38;5;241;43m12\u001b[39;49m\u001b[43m,\u001b[49m\u001b[38;5;250;43m \u001b[39;49m\u001b[38;5;241;43m10\u001b[39;49m\u001b[43m)\u001b[49m\u001b[38;5;250m   \u001b[39m\u001b[38;5;132;01m=}\u001b[39;00m\u001b[38;5;124m'\u001b[39m)\n\u001b[1;32m     28\u001b[0m \u001b[38;5;28mprint\u001b[39m(\u001b[38;5;124mf\u001b[39m\u001b[38;5;124m'\u001b[39m\u001b[38;5;132;01m{\u001b[39;00madd(\u001b[38;5;241m10\u001b[39m,\u001b[38;5;250m \u001b[39m\u001b[38;5;124m\"\u001b[39m\u001b[38;5;124m12\u001b[39m\u001b[38;5;124m\"\u001b[39m,\u001b[38;5;250m \u001b[39m\u001b[38;5;241m10\u001b[39m)\u001b[38;5;250m \u001b[39m\u001b[38;5;132;01m=}\u001b[39;00m\u001b[38;5;124m'\u001b[39m)\n",
      "\u001b[0;31mTypeError\u001b[0m: exception_handler.<locals>.inner() takes 2 positional arguments but 3 were given"
     ]
    }
   ],
   "source": [
    "def exception_handler(func):\n",
    "    def inner(num1, num2):\n",
    "        try:\n",
    "            result = func(num1, num2) # num1 + num2\n",
    "        except Exception as ex:\n",
    "            return ex\n",
    "        else:\n",
    "            return result\n",
    "    return inner\n",
    "\n",
    "\n",
    "@exception_handler\n",
    "def add(a, b, c):\n",
    "    return a + b + c\n",
    "\n",
    "\n",
    "\n",
    "@exception_handler\n",
    "def div(a, b):\n",
    "    return a / b\n",
    "\n",
    "\n",
    "print(f'{div(10, 2) =}')\n",
    "print(f'{div(10, 0) =}')\n",
    "\n",
    "\n",
    "print(f'{add(10, 12, 10)   =}')\n",
    "print(f'{add(10, \"12\", 10) =}')\n"
   ]
  },
  {
   "cell_type": "code",
   "execution_count": 41,
   "metadata": {},
   "outputs": [
    {
     "name": "stdout",
     "output_type": "stream",
     "text": [
      "div(10, 2) =5.0\n",
      "div(10, 0) =ZeroDivisionError('division by zero')\n",
      "add(10, 12, 10)   =32\n",
      "add(10, \"12\", 10) =TypeError(\"unsupported operand type(s) for +: 'int' and 'str'\")\n"
     ]
    }
   ],
   "source": [
    "def exception_handler(func):\n",
    "    def inner(*args, **kwargs):  # num1, num2\n",
    "        try:\n",
    "            result = func(*args, **kwargs) # num1 + num2\n",
    "        except Exception as ex:\n",
    "            return ex\n",
    "        else:\n",
    "            return result\n",
    "    return inner\n",
    "\n",
    "\n",
    "@exception_handler\n",
    "def add(a, b, c):\n",
    "    return a + b + c\n",
    "\n",
    "\n",
    "@exception_handler\n",
    "def div(a, b):\n",
    "    return a / b\n",
    "\n",
    "\n",
    "print(f'{div(10, 2) =}')\n",
    "print(f'{div(10, 0) =}')\n",
    "\n",
    "\n",
    "print(f'{add(10, 12, 10)   =}')\n",
    "print(f'{add(10, \"12\", 10) =}')\n"
   ]
  },
  {
   "cell_type": "markdown",
   "metadata": {},
   "source": [
    "### Decorator Hierarchy"
   ]
  },
  {
   "cell_type": "code",
   "execution_count": 42,
   "metadata": {},
   "outputs": [],
   "source": [
    "def makebold(fn):\n",
    "    def wrapped(*args, **kwargs):\n",
    "        print(\"makebold - args\", args)\n",
    "        print(\"makebold  - kwargs\", kwargs)\n",
    "        print()\n",
    "        return \"<b>\" + fn(*args, **kwargs) + \"</b>\"\n",
    "\n",
    "    return wrapped\n",
    "\n",
    "\n",
    "def makeitalic(fn):\n",
    "    def wrapped(*args, **kwargs):\n",
    "        print(\"makeitalic - args\", args)\n",
    "        print(\"makeitalic  - kwargs\", kwargs)\n",
    "        print()\n",
    "        return \"<i>\" + fn(*args, **kwargs) + \"</i>\"\n",
    "\n",
    "    return wrapped"
   ]
  },
  {
   "cell_type": "code",
   "execution_count": 46,
   "metadata": {},
   "outputs": [
    {
     "name": "stdout",
     "output_type": "stream",
     "text": [
      "makeitalic - args ('udhay', 9000000)\n",
      "makeitalic  - kwargs {}\n",
      "\n",
      "makebold - args ('udhay', 9000000)\n",
      "makebold  - kwargs {}\n",
      "\n",
      "<i><b>hello world:udhay\t salary:9000000</b></i>\n"
     ]
    }
   ],
   "source": [
    "@makeitalic\n",
    "@makebold\n",
    "def hello(name, salary=20000000):\n",
    "    return f\"hello world:{name}\\t salary:{salary}\"\n",
    "\n",
    "\n",
    "print(hello(\"udhay\", 9000000)) "
   ]
  },
  {
   "cell_type": "code",
   "execution_count": 47,
   "metadata": {},
   "outputs": [
    {
     "name": "stdout",
     "output_type": "stream",
     "text": [
      "makeitalic - args ('udhay', 9000000)\n",
      "makeitalic  - kwargs {}\n",
      "\n",
      "makebold - args ('udhay', 9000000)\n",
      "makebold  - kwargs {}\n",
      "\n",
      "makeitalic - args ('udhay', 9000000)\n",
      "makeitalic  - kwargs {}\n",
      "\n",
      "makebold - args ('udhay', 9000000)\n",
      "makebold  - kwargs {}\n",
      "\n"
     ]
    },
    {
     "data": {
      "text/plain": [
       "'<i><b><i><b>hello world:udhay\\t salary:9000000</b></i></b></i>'"
      ]
     },
     "execution_count": 47,
     "metadata": {},
     "output_type": "execute_result"
    }
   ],
   "source": [
    "makeitalic(makebold(hello))(\"udhay\", 9000000)"
   ]
  },
  {
   "cell_type": "code",
   "execution_count": 51,
   "metadata": {},
   "outputs": [
    {
     "name": "stdout",
     "output_type": "stream",
     "text": [
      "makebold - args ('udhay', 9000000)\n",
      "makebold  - kwargs {}\n",
      "\n",
      "makeitalic - args ('udhay', 9000000)\n",
      "makeitalic  - kwargs {}\n",
      "\n"
     ]
    },
    {
     "data": {
      "text/plain": [
       "'<b><i>hello world:udhay\\t salary:9000000</i></b>'"
      ]
     },
     "execution_count": 51,
     "metadata": {},
     "output_type": "execute_result"
    }
   ],
   "source": [
    "@makebold\n",
    "@makeitalic\n",
    "def hello(name, salary=20000000):\n",
    "    return f\"hello world:{name}\\t salary:{salary}\"\n",
    "\n",
    "\n",
    "hello(\"udhay\", 9000000)"
   ]
  },
  {
   "cell_type": "code",
   "execution_count": 52,
   "metadata": {},
   "outputs": [
    {
     "name": "stdout",
     "output_type": "stream",
     "text": [
      "makebold - args ('udhay',)\n",
      "makebold  - kwargs {'salary': 20000000}\n",
      "\n",
      "makeitalic - args ('udhay',)\n",
      "makeitalic  - kwargs {'salary': 20000000}\n",
      "\n",
      "makebold - args ('udhay',)\n",
      "makebold  - kwargs {'salary': 20000000}\n",
      "\n",
      "makeitalic - args ('udhay',)\n",
      "makeitalic  - kwargs {'salary': 20000000}\n",
      "\n"
     ]
    },
    {
     "data": {
      "text/plain": [
       "'<b><i><b><i>hello world:udhay\\t salary:20000000</i></b></i></b>'"
      ]
     },
     "execution_count": 52,
     "metadata": {},
     "output_type": "execute_result"
    }
   ],
   "source": [
    "makebold(makeitalic(hello))(\"udhay\", salary=20000000)"
   ]
  },
  {
   "cell_type": "code",
   "execution_count": 53,
   "metadata": {},
   "outputs": [
    {
     "name": "stdout",
     "output_type": "stream",
     "text": [
      "function -start \n",
      "function - before end\n",
      "46\n",
      "function -start \n",
      "function - before end\n",
      "408\n"
     ]
    }
   ],
   "source": [
    "def addition(num1, num2):\n",
    "    print(\"function -start \")\n",
    "    result = num1 + num2\n",
    "    print(\"function - before end\")\n",
    "    return result\n",
    "\n",
    "\n",
    "def multiplication(num1, num2):\n",
    "    print(\"function -start \")\n",
    "    result = num1 * num2\n",
    "    print(\"function - before end\")\n",
    "    return result\n",
    "\n",
    "\n",
    "print(addition(12, 34))\n",
    "print(multiplication(12, 34))"
   ]
  },
  {
   "cell_type": "code",
   "execution_count": 54,
   "metadata": {},
   "outputs": [
    {
     "name": "stdout",
     "output_type": "stream",
     "text": [
      "function -start \n",
      "function - before end\n",
      "36\n",
      "function -start \n",
      "function - before end\n",
      "46\n"
     ]
    }
   ],
   "source": [
    "def print_statements(func):\n",
    "    def inner(*args, **kwargs):\n",
    "        print(\"function -start \")\n",
    "        result =  func(*args, **kwargs)  #                    num1 + num2\n",
    "        print(\"function - before end\")\n",
    "        return result\n",
    "    return inner\n",
    "\n",
    "\n",
    "\n",
    "@print_statements\n",
    "def addition11111(num1, num2):\n",
    "    result = num1 + num2\n",
    "    return result\n",
    "\n",
    "\n",
    "@print_statements\n",
    "def multiplication1111(num1, num2):\n",
    "    result = num1 * num2\n",
    "    return result\n",
    "\n",
    "\n",
    "print(multiplication1111(12, 3))\n",
    "print(addition11111(12, 34))"
   ]
  },
  {
   "cell_type": "code",
   "execution_count": 55,
   "metadata": {},
   "outputs": [],
   "source": [
    "## Assignment -- implenet a time taken decorator which will calculate the amouunt of time taken by a function"
   ]
  },
  {
   "cell_type": "code",
   "execution_count": 59,
   "metadata": {},
   "outputs": [
    {
     "name": "stdout",
     "output_type": "stream",
     "text": [
      "0:00:00.000025\n"
     ]
    }
   ],
   "source": [
    "from datetime import datetime \n",
    "\n",
    "start_time = datetime.now()\n",
    "end_time = datetime.now()\n",
    "\n",
    "time_taken = end_time - start_time \n",
    "print(time_taken)"
   ]
  },
  {
   "cell_type": "code",
   "execution_count": 13,
   "metadata": {},
   "outputs": [
    {
     "name": "stdout",
     "output_type": "stream",
     "text": [
      "TIME TAKEN: 0:00:00.000007\n",
      "[1, 1, 2, 3, 5, 8, 13, 21, 34, 55, 89, 144, 233, 377, 610, 987, 1597, 2584, 4181]\n"
     ]
    }
   ],
   "source": [
    "from datetime import datetime\n",
    "\n",
    "\n",
    "def fib(n):\n",
    "    start_time = datetime.now()\n",
    "    results = []\n",
    "    n1, n2 = 0, 1\n",
    "    for _ in range(n):\n",
    "        n1, n2 = n2, n1 + n2\n",
    "        results.append(n1)\n",
    "    print(f'TIME TAKEN: {datetime.now() - start_time}')\n",
    "    return results\n",
    "\n",
    "\n",
    "print(fib(19))"
   ]
  },
  {
   "cell_type": "code",
   "execution_count": 14,
   "metadata": {},
   "outputs": [
    {
     "name": "stdout",
     "output_type": "stream",
     "text": [
      "TIME TAKEN: 0:00:00.000005\n",
      "[1, 1, 2, 3, 5, 8, 13, 21, 34, 55, 89, 144, 233, 377, 610, 987, 1597, 2584, 4181]\n"
     ]
    }
   ],
   "source": [
    "\n",
    "print(fib(19))"
   ]
  },
  {
   "cell_type": "code",
   "execution_count": 15,
   "metadata": {},
   "outputs": [
    {
     "name": "stdout",
     "output_type": "stream",
     "text": [
      "TIME TAKEN: 0:00:00.000005\n",
      "[1, 1, 2, 3, 5, 8, 13, 21, 34, 55, 89, 144, 233, 377, 610, 987, 1597, 2584, 4181, 6765, 10946, 17711, 28657]\n"
     ]
    }
   ],
   "source": [
    "print(fib(23))"
   ]
  },
  {
   "cell_type": "code",
   "execution_count": 17,
   "metadata": {},
   "outputs": [
    {
     "name": "stdout",
     "output_type": "stream",
     "text": [
      " fib sequence generator\n",
      "TIME TAKEN: 0:00:00.000054\n",
      "[1, 1, 2, 3, 5, 8, 13, 21, 34, 55, 89, 144, 233, 377, 610, 987, 1597, 2584, 4181]\n"
     ]
    }
   ],
   "source": [
    "def time_taken(func):\n",
    "    def inner(*args, **kwargs):\n",
    "        start_time = datetime.now()\n",
    "\n",
    "        result = func(*args, **kwargs)\n",
    "        print(f'{func.__doc__}')\n",
    "        print(f'TIME TAKEN: {datetime.now() - start_time}')\n",
    "        return result\n",
    "\n",
    "    return inner \n",
    "\n",
    "\n",
    "@time_taken\n",
    "def fib(n):\n",
    "    \"\"\" fib sequence generator\"\"\"\n",
    "    results = []\n",
    "    n1, n2 = 0, 1\n",
    "    for _ in range(n):\n",
    "        n1, n2 = n2, n1 + n2\n",
    "        results.append(n1)\n",
    "    return results\n",
    "\n",
    "\n",
    "print(fib(19))"
   ]
  },
  {
   "cell_type": "code",
   "execution_count": 20,
   "metadata": {},
   "outputs": [
    {
     "name": "stdout",
     "output_type": "stream",
     "text": [
      "Arguments passed to decorator are arg1 andarg2\n",
      "Function arguments are (1, 2, 3)\n",
      "1\n",
      "2\n",
      "3\n"
     ]
    }
   ],
   "source": [
    "# decoator with args\n",
    "\n",
    "\n",
    "def decorator(arg1, arg2):\n",
    "    def inner(func):\n",
    "        def inner2(*args, **kwargs):\n",
    "            print(f\"Arguments passed to decorator are {arg1} and{arg2}\")\n",
    "            print(f\"Function arguments are {args}\")\n",
    "            return func(*args, **kwargs)  \n",
    "        return inner2\n",
    "    return inner \n",
    "\n",
    "\n",
    "\n",
    "@decorator(\"arg1\", \"arg2\")\n",
    "def print_args(*args):\n",
    "    for arg in args:\n",
    "        print(arg)\n",
    "\n",
    "\n",
    "print_args(1, 2, 3)\n"
   ]
  },
  {
   "cell_type": "code",
   "execution_count": 21,
   "metadata": {},
   "outputs": [
    {
     "name": "stdout",
     "output_type": "stream",
     "text": [
      "for    78 numbers:->Time Taken: 58.88 ms\n",
      "for   900 numbers:->Time Taken: 23.143 ms\n",
      "for  9000 numbers:->Time Taken: 148.647 ms\n"
     ]
    }
   ],
   "source": [
    "import time \n",
    "\n",
    "def time_taken(metric):\n",
    "    def inner(func):\n",
    "        def wrapper(*args, **kwargs):\n",
    "            start_time = time.perf_counter_ns()\n",
    "            result = func(*args, **kwargs)\n",
    "            end_time = time.perf_counter_ns()\n",
    "            if metric == \"ms\":\n",
    "                print(f\"Time Taken: {(end_time - start_time) / 1000} ms\")\n",
    "            else:\n",
    "                print(f\"Time Taken: {end_time - start_time} ns\")\n",
    "            return result\n",
    "\n",
    "        return wrapper\n",
    "\n",
    "    return inner\n",
    "\n",
    "\n",
    "@time_taken(\"ms\")\n",
    "def my_func(num):\n",
    "    for _ in range(num):\n",
    "        pass\n",
    "    print(f\"for {num:5} numbers\", end=\":->\")\n",
    "\n",
    "\n",
    "my_func(78)\n",
    "my_func(900)\n",
    "my_func(9000)"
   ]
  },
  {
   "cell_type": "code",
   "execution_count": 22,
   "metadata": {},
   "outputs": [
    {
     "name": "stdout",
     "output_type": "stream",
     "text": [
      "Arguements passed to decorator arg1 and arg2\n",
      "Args passed inside decorated function .arg1 and arg2\n",
      "1\n",
      "2\n",
      "3\n"
     ]
    }
   ],
   "source": [
    "class ClassDecorator(object):\n",
    "    def __init__(self, arg1, arg2):\n",
    "        print(\"Arguements passed to decorator %s and %s\" % (arg1, arg2))\n",
    "        self.arg1 = arg1\n",
    "        self.arg2 = arg2\n",
    "\n",
    "    def __call__(self, foo, *args, **kwargs):\n",
    "        def inner_func(*args, **kwargs):\n",
    "            print(\n",
    "                \"Args passed inside decorated function .%s and %s\"\n",
    "                % (self.arg1, self.arg2)\n",
    "            )\n",
    "            return foo(*args, **kwargs)\n",
    "\n",
    "        return inner_func\n",
    "\n",
    "\n",
    "@ClassDecorator(\"arg1\", \"arg2\")\n",
    "def print_args(*args):\n",
    "    for arg in args:\n",
    "        print(arg)\n",
    "\n",
    "\n",
    "print_args(1, 2, 3)"
   ]
  },
  {
   "cell_type": "code",
   "execution_count": 23,
   "metadata": {},
   "outputs": [
    {
     "name": "stdout",
     "output_type": "stream",
     "text": [
      "Calculating fibonacci(2)\n",
      "Calculating fibonacci(1)\n",
      "Calculating fibonacci(0)\n",
      "\n",
      "Calculating fibonacci(4)\n",
      "Calculating fibonacci(3)\n",
      "\n",
      "Calculating fibonacci(8)\n",
      "Calculating fibonacci(7)\n",
      "Calculating fibonacci(6)\n",
      "Calculating fibonacci(5)\n",
      "\n",
      "\n",
      "fibonacci.cache_info() =CacheInfo(hits=8, misses=9, maxsize=4, currsize=4)\n"
     ]
    }
   ],
   "source": [
    "import functools\n",
    "\n",
    "\n",
    "@functools.lru_cache(maxsize=4)\n",
    "def fibonacci(num):\n",
    "    print(f\"Calculating fibonacci({num})\")\n",
    "    if num < 2:\n",
    "        return num\n",
    "    return fibonacci(num - 1) + fibonacci(num - 2)\n",
    "\n",
    "fibonacci(2)\n",
    "print()\n",
    "\n",
    "fibonacci(4)\n",
    "print()\n",
    "\n",
    "fibonacci(8)\n",
    "print()\n",
    "\n",
    "print(f\"\\n{fibonacci.cache_info() =}\")"
   ]
  },
  {
   "cell_type": "code",
   "execution_count": null,
   "metadata": {},
   "outputs": [],
   "source": []
  }
 ],
 "metadata": {
  "kernelspec": {
   "display_name": "Python 3",
   "language": "python",
   "name": "python3"
  },
  "language_info": {
   "codemirror_mode": {
    "name": "ipython",
    "version": 3
   },
   "file_extension": ".py",
   "mimetype": "text/x-python",
   "name": "python",
   "nbconvert_exporter": "python",
   "pygments_lexer": "ipython3",
   "version": "3.12.1"
  }
 },
 "nbformat": 4,
 "nbformat_minor": 2
}
