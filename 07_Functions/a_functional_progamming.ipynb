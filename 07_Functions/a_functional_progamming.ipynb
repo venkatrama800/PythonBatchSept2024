{
 "cells": [
  {
   "cell_type": "markdown",
   "metadata": {},
   "source": [
    "# Advantage of Functional Programming\n",
    "\n",
    "        - Code reusability\n",
    "        - To modularize the problem\n",
    "        - Better maintenance of the code\n",
    "            - Pure functions are easier to reason about\n",
    "            - Testing is easier, and pure functions lend themselves well to techniques like property-based testing\n",
    "            - Debugging is easier"
   ]
  },
  {
   "cell_type": "code",
   "execution_count": 4,
   "metadata": {},
   "outputs": [],
   "source": [
    "# Function Definition\n",
    "def hello():\n",
    "    print(\"Hello world\")\n",
    "    # return None - default"
   ]
  },
  {
   "cell_type": "code",
   "execution_count": 3,
   "metadata": {},
   "outputs": [
    {
     "name": "stdout",
     "output_type": "stream",
     "text": [
      "<function hello at 0x776bde6efe20>\n"
     ]
    }
   ],
   "source": [
    "print(hello)\n"
   ]
  },
  {
   "cell_type": "code",
   "execution_count": 5,
   "metadata": {},
   "outputs": [
    {
     "data": {
      "text/plain": [
       "function"
      ]
     },
     "execution_count": 5,
     "metadata": {},
     "output_type": "execute_result"
    }
   ],
   "source": [
    "type(hello)"
   ]
  },
  {
   "cell_type": "markdown",
   "metadata": {},
   "source": [
    "__NOTE:__ Function are treated as first-class objects in Python.\n",
    "\n"
   ]
  },
  {
   "cell_type": "code",
   "execution_count": 6,
   "metadata": {},
   "outputs": [
    {
     "name": "stdout",
     "output_type": "stream",
     "text": [
      "['__annotations__', '__builtins__', '__call__', '__class__', '__closure__', '__code__', '__defaults__', '__delattr__', '__dict__', '__dir__', '__doc__', '__eq__', '__format__', '__ge__', '__get__', '__getattribute__', '__getstate__', '__globals__', '__gt__', '__hash__', '__init__', '__init_subclass__', '__kwdefaults__', '__le__', '__lt__', '__module__', '__name__', '__ne__', '__new__', '__qualname__', '__reduce__', '__reduce_ex__', '__repr__', '__setattr__', '__sizeof__', '__str__', '__subclasshook__', '__type_params__']\n"
     ]
    }
   ],
   "source": [
    "print(dir(hello))"
   ]
  },
  {
   "cell_type": "code",
   "execution_count": 5,
   "metadata": {},
   "outputs": [
    {
     "data": {
      "text/plain": [
       "'<function hello at 0x749690331580>'"
      ]
     },
     "execution_count": 5,
     "metadata": {},
     "output_type": "execute_result"
    }
   ],
   "source": [
    "hello.__str__()\n"
   ]
  },
  {
   "cell_type": "code",
   "execution_count": 6,
   "metadata": {},
   "outputs": [
    {
     "data": {
      "text/plain": [
       "'<function hello at 0x749690331580>'"
      ]
     },
     "execution_count": 6,
     "metadata": {},
     "output_type": "execute_result"
    }
   ],
   "source": [
    "str(hello)\n"
   ]
  },
  {
   "cell_type": "code",
   "execution_count": 7,
   "metadata": {},
   "outputs": [
    {
     "data": {
      "text/plain": [
       "'<function hello at 0x749690331580>'"
      ]
     },
     "execution_count": 7,
     "metadata": {},
     "output_type": "execute_result"
    }
   ],
   "source": [
    "hello.__repr__()"
   ]
  },
  {
   "cell_type": "code",
   "execution_count": 8,
   "metadata": {},
   "outputs": [
    {
     "data": {
      "text/plain": [
       "'<function hello at 0x749690331580>'"
      ]
     },
     "execution_count": 8,
     "metadata": {},
     "output_type": "execute_result"
    }
   ],
   "source": [
    "repr(hello)"
   ]
  },
  {
   "cell_type": "code",
   "execution_count": 9,
   "metadata": {},
   "outputs": [
    {
     "data": {
      "text/plain": [
       "'hello'"
      ]
     },
     "execution_count": 9,
     "metadata": {},
     "output_type": "execute_result"
    }
   ],
   "source": [
    "hello.__qualname__  # introduced in Python 3.3\n"
   ]
  },
  {
   "cell_type": "code",
   "execution_count": 10,
   "metadata": {},
   "outputs": [
    {
     "data": {
      "text/plain": [
       "144"
      ]
     },
     "execution_count": 10,
     "metadata": {},
     "output_type": "execute_result"
    }
   ],
   "source": [
    "hello.__sizeof__()"
   ]
  },
  {
   "cell_type": "code",
   "execution_count": 11,
   "metadata": {},
   "outputs": [
    {
     "data": {
      "text/plain": [
       "8011875823960"
      ]
     },
     "execution_count": 11,
     "metadata": {},
     "output_type": "execute_result"
    }
   ],
   "source": [
    "hello.__hash__()"
   ]
  },
  {
   "cell_type": "code",
   "execution_count": 12,
   "metadata": {},
   "outputs": [
    {
     "data": {
      "text/plain": [
       "True"
      ]
     },
     "execution_count": 12,
     "metadata": {},
     "output_type": "execute_result"
    }
   ],
   "source": [
    "callable(hello)"
   ]
  },
  {
   "cell_type": "code",
   "execution_count": 13,
   "metadata": {},
   "outputs": [
    {
     "data": {
      "text/plain": [
       "False"
      ]
     },
     "execution_count": 13,
     "metadata": {},
     "output_type": "execute_result"
    }
   ],
   "source": [
    "num1 = 213123\n",
    "\n",
    "callable(num1)"
   ]
  },
  {
   "cell_type": "code",
   "execution_count": 14,
   "metadata": {},
   "outputs": [
    {
     "name": "stdout",
     "output_type": "stream",
     "text": [
      "Hello world\n"
     ]
    }
   ],
   "source": [
    "hello.__call__()"
   ]
  },
  {
   "cell_type": "code",
   "execution_count": 15,
   "metadata": {},
   "outputs": [
    {
     "name": "stdout",
     "output_type": "stream",
     "text": [
      "Hello world\n"
     ]
    }
   ],
   "source": [
    "hello()"
   ]
  },
  {
   "cell_type": "code",
   "execution_count": 16,
   "metadata": {},
   "outputs": [
    {
     "data": {
      "text/plain": [
       "<code object hello at 0x749690319d10, file \"/tmp/ipykernel_11874/3139197744.py\", line 2>"
      ]
     },
     "execution_count": 16,
     "metadata": {},
     "output_type": "execute_result"
    }
   ],
   "source": [
    "hello.__code__"
   ]
  },
  {
   "cell_type": "code",
   "execution_count": 17,
   "metadata": {},
   "outputs": [],
   "source": [
    "# funtion Definition\n",
    "\n",
    "def hello_world(name):\n",
    "    return f\"Hello World! {name}\""
   ]
  },
  {
   "cell_type": "code",
   "execution_count": 18,
   "metadata": {},
   "outputs": [
    {
     "name": "stdout",
     "output_type": "stream",
     "text": [
      "TypeError(\"hello_world() missing 1 required positional argument: 'name'\")\n"
     ]
    }
   ],
   "source": [
    "try:\n",
    "    hello_world()\n",
    "except TypeError as ex:\n",
    "    print(repr(ex))"
   ]
  },
  {
   "cell_type": "code",
   "execution_count": 19,
   "metadata": {},
   "outputs": [
    {
     "data": {
      "text/plain": [
       "'Hello World! Programmer!!!'"
      ]
     },
     "execution_count": 19,
     "metadata": {},
     "output_type": "execute_result"
    }
   ],
   "source": [
    "hello_world(\"Programmer!!!\")"
   ]
  },
  {
   "cell_type": "code",
   "execution_count": 20,
   "metadata": {},
   "outputs": [
    {
     "ename": "TypeError",
     "evalue": "hello_world() takes 1 positional argument but 2 were given",
     "output_type": "error",
     "traceback": [
      "\u001b[0;31m---------------------------------------------------------------------------\u001b[0m",
      "\u001b[0;31mTypeError\u001b[0m                                 Traceback (most recent call last)",
      "Cell \u001b[0;32mIn[20], line 1\u001b[0m\n\u001b[0;32m----> 1\u001b[0m \u001b[43mhello_world\u001b[49m\u001b[43m(\u001b[49m\u001b[38;5;124;43m\"\u001b[39;49m\u001b[38;5;124;43mProgrammer!!!\u001b[39;49m\u001b[38;5;124;43m\"\u001b[39;49m\u001b[43m,\u001b[49m\u001b[43m \u001b[49m\u001b[38;5;124;43m\"\u001b[39;49m\u001b[38;5;124;43mSprinter\u001b[39;49m\u001b[38;5;124;43m\"\u001b[39;49m\u001b[43m)\u001b[49m\n",
      "\u001b[0;31mTypeError\u001b[0m: hello_world() takes 1 positional argument but 2 were given"
     ]
    }
   ],
   "source": [
    "hello_world(\"Programmer!!!\", \"Sprinter\")"
   ]
  },
  {
   "cell_type": "code",
   "execution_count": 21,
   "metadata": {},
   "outputs": [],
   "source": [
    "def person_details(name, age):\n",
    "    return f\"{name} is {age} years old\""
   ]
  },
  {
   "cell_type": "code",
   "execution_count": 22,
   "metadata": {},
   "outputs": [
    {
     "ename": "TypeError",
     "evalue": "person_details() missing 2 required positional arguments: 'name' and 'age'",
     "output_type": "error",
     "traceback": [
      "\u001b[0;31m---------------------------------------------------------------------------\u001b[0m",
      "\u001b[0;31mTypeError\u001b[0m                                 Traceback (most recent call last)",
      "Cell \u001b[0;32mIn[22], line 1\u001b[0m\n\u001b[0;32m----> 1\u001b[0m \u001b[43mperson_details\u001b[49m\u001b[43m(\u001b[49m\u001b[43m)\u001b[49m\n",
      "\u001b[0;31mTypeError\u001b[0m: person_details() missing 2 required positional arguments: 'name' and 'age'"
     ]
    }
   ],
   "source": [
    "person_details()\n"
   ]
  },
  {
   "cell_type": "code",
   "execution_count": 23,
   "metadata": {},
   "outputs": [
    {
     "ename": "TypeError",
     "evalue": "person_details() missing 1 required positional argument: 'age'",
     "output_type": "error",
     "traceback": [
      "\u001b[0;31m---------------------------------------------------------------------------\u001b[0m",
      "\u001b[0;31mTypeError\u001b[0m                                 Traceback (most recent call last)",
      "Cell \u001b[0;32mIn[23], line 1\u001b[0m\n\u001b[0;32m----> 1\u001b[0m \u001b[43mperson_details\u001b[49m\u001b[43m(\u001b[49m\u001b[38;5;124;43m\"\u001b[39;49m\u001b[38;5;124;43mGudo Vann Rusum\u001b[39;49m\u001b[38;5;124;43m\"\u001b[39;49m\u001b[43m)\u001b[49m\n",
      "\u001b[0;31mTypeError\u001b[0m: person_details() missing 1 required positional argument: 'age'"
     ]
    }
   ],
   "source": [
    "person_details(\"Gudo Vann Rusum\")\n"
   ]
  },
  {
   "cell_type": "code",
   "execution_count": 24,
   "metadata": {},
   "outputs": [
    {
     "data": {
      "text/plain": [
       "'Gudo Vann Rusum is 67 years old'"
      ]
     },
     "execution_count": 24,
     "metadata": {},
     "output_type": "execute_result"
    }
   ],
   "source": [
    "person_details(\"Gudo Vann Rusum\", 67)"
   ]
  },
  {
   "cell_type": "code",
   "execution_count": 25,
   "metadata": {},
   "outputs": [
    {
     "ename": "TypeError",
     "evalue": "person_details() takes 2 positional arguments but 3 were given",
     "output_type": "error",
     "traceback": [
      "\u001b[0;31m---------------------------------------------------------------------------\u001b[0m",
      "\u001b[0;31mTypeError\u001b[0m                                 Traceback (most recent call last)",
      "Cell \u001b[0;32mIn[25], line 1\u001b[0m\n\u001b[0;32m----> 1\u001b[0m \u001b[43mperson_details\u001b[49m\u001b[43m(\u001b[49m\u001b[38;5;124;43m\"\u001b[39;49m\u001b[38;5;124;43mGudo Vann Rusum\u001b[39;49m\u001b[38;5;124;43m\"\u001b[39;49m\u001b[43m,\u001b[49m\u001b[43m \u001b[49m\u001b[38;5;241;43m67\u001b[39;49m\u001b[43m,\u001b[49m\u001b[43m \u001b[49m\u001b[38;5;241;43m2019\u001b[39;49m\u001b[43m)\u001b[49m\n",
      "\u001b[0;31mTypeError\u001b[0m: person_details() takes 2 positional arguments but 3 were given"
     ]
    }
   ],
   "source": [
    "person_details(\"Gudo Vann Rusum\", 67, 2019)"
   ]
  },
  {
   "cell_type": "code",
   "execution_count": 26,
   "metadata": {},
   "outputs": [],
   "source": [
    "# NOTE: Ensure to pass the exact number of arguments in function call, as in function definition.\n"
   ]
  },
  {
   "cell_type": "code",
   "execution_count": 27,
   "metadata": {},
   "outputs": [
    {
     "name": "stdout",
     "output_type": "stream",
     "text": [
      "result = None <class 'NoneType'>\n"
     ]
    }
   ],
   "source": [
    "def some_function():\n",
    "    pass\n",
    "    # default return is None type object\n",
    "\n",
    "\n",
    "result = some_function()\n",
    "print(\"result =\", result, type(result))"
   ]
  },
  {
   "cell_type": "code",
   "execution_count": 28,
   "metadata": {},
   "outputs": [
    {
     "name": "stdout",
     "output_type": "stream",
     "text": [
      "result = None <class 'NoneType'>\n"
     ]
    }
   ],
   "source": [
    "def some_function():\n",
    "    return None\n",
    "\n",
    "\n",
    "result = some_function()\n",
    "print(\"result =\", result, type(result))"
   ]
  },
  {
   "cell_type": "code",
   "execution_count": 29,
   "metadata": {},
   "outputs": [
    {
     "name": "stdout",
     "output_type": "stream",
     "text": [
      "result = 12 <class 'int'>\n"
     ]
    }
   ],
   "source": [
    "def some_function():\n",
    "    return 12\n",
    "\n",
    "\n",
    "result = some_function()\n",
    "print(\"result =\", result, type(result))"
   ]
  },
  {
   "cell_type": "code",
   "execution_count": 30,
   "metadata": {},
   "outputs": [
    {
     "name": "stdout",
     "output_type": "stream",
     "text": [
      "result = 12.0 <class 'float'>\n"
     ]
    }
   ],
   "source": [
    "def some_function():\n",
    "    return 12.0\n",
    "\n",
    "\n",
    "result = some_function()\n",
    "print(\"result =\", result, type(result))"
   ]
  },
  {
   "cell_type": "code",
   "execution_count": 31,
   "metadata": {},
   "outputs": [
    {
     "name": "stdout",
     "output_type": "stream",
     "text": [
      "result = {12: 34} <class 'dict'>\n"
     ]
    }
   ],
   "source": [
    "def some_function():\n",
    "    return {12: 34}\n",
    "\n",
    "\n",
    "result = some_function()\n",
    "print(\"result =\", result, type(result))"
   ]
  },
  {
   "cell_type": "code",
   "execution_count": 32,
   "metadata": {},
   "outputs": [
    {
     "name": "stdout",
     "output_type": "stream",
     "text": [
      "result = Gudo's age is 67 <class 'str'>\n"
     ]
    }
   ],
   "source": [
    "def some_function():\n",
    "    return \"%s's age is %d\" % (\"Gudo\", 67)\n",
    "\n",
    "\n",
    "result = some_function()\n",
    "print(\"result =\", result, type(result))"
   ]
  },
  {
   "cell_type": "code",
   "execution_count": 33,
   "metadata": {},
   "outputs": [
    {
     "name": "stdout",
     "output_type": "stream",
     "text": [
      "result = (12.0,) <class 'tuple'>\n"
     ]
    }
   ],
   "source": [
    "def some_function():\n",
    "    return 12.0,  # ,(comma) at the end of statement makes the difference\n",
    "\n",
    "\n",
    "result = some_function()\n",
    "print(\"result =\", result, type(result))"
   ]
  },
  {
   "cell_type": "code",
   "execution_count": 34,
   "metadata": {},
   "outputs": [
    {
     "name": "stdout",
     "output_type": "stream",
     "text": [
      "result = ((12,),) <class 'tuple'>\n"
     ]
    }
   ],
   "source": [
    "def some_function():\n",
    "    return ((12,),)\n",
    "\n",
    "\n",
    "result = some_function()\n",
    "print(\"result =\", result, type(result))"
   ]
  },
  {
   "cell_type": "code",
   "execution_count": 35,
   "metadata": {},
   "outputs": [
    {
     "name": "stdout",
     "output_type": "stream",
     "text": [
      "result = (123, 45) <class 'tuple'>\n"
     ]
    }
   ],
   "source": [
    "def some_other_function():\n",
    "    return 123, 45\n",
    "\n",
    "\n",
    "result = some_other_function()\n",
    "print(\"result =\", result, type(result))"
   ]
  },
  {
   "cell_type": "code",
   "execution_count": 36,
   "metadata": {},
   "outputs": [
    {
     "name": "stdout",
     "output_type": "stream",
     "text": [
      "result1      = 123\n",
      "result2      = 45\n"
     ]
    }
   ],
   "source": [
    "def some_other_function():\n",
    "    return 123, 45\n",
    "\n",
    "\n",
    "# tuple unpacking\n",
    "result1, result2 = some_other_function()\n",
    "print(\"result1      =\", result1)\n",
    "print(\"result2      =\", result2)"
   ]
  },
  {
   "cell_type": "code",
   "execution_count": 37,
   "metadata": {},
   "outputs": [
    {
     "name": "stdout",
     "output_type": "stream",
     "text": [
      "11 22 33\n"
     ]
    }
   ],
   "source": [
    "# list unpacking\n",
    "r1, r2, r3 = [11, 22, 33]\n",
    "print(r1, r2, r3)"
   ]
  },
  {
   "cell_type": "code",
   "execution_count": 38,
   "metadata": {},
   "outputs": [
    {
     "ename": "ValueError",
     "evalue": "too many values to unpack (expected 2)",
     "output_type": "error",
     "traceback": [
      "\u001b[0;31m---------------------------------------------------------------------------\u001b[0m",
      "\u001b[0;31mValueError\u001b[0m                                Traceback (most recent call last)",
      "Cell \u001b[0;32mIn[38], line 1\u001b[0m\n\u001b[0;32m----> 1\u001b[0m m1, m2 \u001b[38;5;241m=\u001b[39m [\u001b[38;5;241m11\u001b[39m, \u001b[38;5;241m22\u001b[39m, \u001b[38;5;241m33\u001b[39m]\n",
      "\u001b[0;31mValueError\u001b[0m: too many values to unpack (expected 2)"
     ]
    }
   ],
   "source": [
    "m1, m2 = [11, 22, 33]\n"
   ]
  },
  {
   "cell_type": "markdown",
   "metadata": {},
   "source": [
    "#### Function Overwriting\n"
   ]
  },
  {
   "cell_type": "code",
   "execution_count": 39,
   "metadata": {},
   "outputs": [
    {
     "name": "stdout",
     "output_type": "stream",
     "text": [
      "786\n"
     ]
    }
   ],
   "source": [
    "lucky_number = 1111\n",
    "lucky_number = 786\n",
    "print(lucky_number)"
   ]
  },
  {
   "cell_type": "code",
   "execution_count": 40,
   "metadata": {},
   "outputs": [
    {
     "name": "stdout",
     "output_type": "stream",
     "text": [
      "5\n"
     ]
    },
    {
     "ename": "TypeError",
     "evalue": "myfunc() takes 2 positional arguments but 3 were given",
     "output_type": "error",
     "traceback": [
      "\u001b[0;31m---------------------------------------------------------------------------\u001b[0m",
      "\u001b[0;31mTypeError\u001b[0m                                 Traceback (most recent call last)",
      "Cell \u001b[0;32mIn[40], line 25\u001b[0m\n\u001b[1;32m     21\u001b[0m     \u001b[38;5;28;01mreturn\u001b[39;00m num1 \u001b[38;5;241m+\u001b[39m num2\n\u001b[1;32m     24\u001b[0m \u001b[38;5;28mprint\u001b[39m(myfunc(\u001b[38;5;241m2\u001b[39m, \u001b[38;5;241m3\u001b[39m))\n\u001b[0;32m---> 25\u001b[0m \u001b[38;5;28mprint\u001b[39m(\u001b[43mmyfunc\u001b[49m\u001b[43m(\u001b[49m\u001b[38;5;241;43m2\u001b[39;49m\u001b[43m,\u001b[49m\u001b[43m \u001b[49m\u001b[38;5;241;43m3\u001b[39;49m\u001b[43m,\u001b[49m\u001b[43m \u001b[49m\u001b[38;5;241;43m5\u001b[39;49m\u001b[43m)\u001b[49m)\n",
      "\u001b[0;31mTypeError\u001b[0m: myfunc() takes 2 positional arguments but 3 were given"
     ]
    }
   ],
   "source": [
    "# Two functions with same name, but different number of arguments in definition\n",
    "\n",
    "def myfunc(var1, var2, var3):\n",
    "    \"\"\"\n",
    "    Function to perform arithmetic Multiplication operation\n",
    "    :param var1: Number\n",
    "    :param var2: Number\n",
    "    :param var3: Number\n",
    "    :return: result of addition operation\n",
    "    \"\"\"\n",
    "    return var1 + var2 + var3\n",
    "\n",
    "\n",
    "def myfunc(num1, num2):\n",
    "    \"\"\"\n",
    "    Function to perform arithmetic Addition operation\n",
    "    :param num1: Number\n",
    "    :param num2: Number\n",
    "    :return: result of addition operation\n",
    "    \"\"\"\n",
    "    return num1 + num2\n",
    "\n",
    "\n",
    "print(myfunc(2, 3))\n",
    "print(myfunc(2, 3, 5))"
   ]
  },
  {
   "cell_type": "code",
   "execution_count": 41,
   "metadata": {},
   "outputs": [
    {
     "name": "stdout",
     "output_type": "stream",
     "text": [
      "10\n"
     ]
    },
    {
     "ename": "TypeError",
     "evalue": "myfunc() missing 1 required positional argument: 'var3'",
     "output_type": "error",
     "traceback": [
      "\u001b[0;31m---------------------------------------------------------------------------\u001b[0m",
      "\u001b[0;31mTypeError\u001b[0m                                 Traceback (most recent call last)",
      "Cell \u001b[0;32mIn[41], line 24\u001b[0m\n\u001b[1;32m     20\u001b[0m     \u001b[38;5;28;01mreturn\u001b[39;00m var1 \u001b[38;5;241m+\u001b[39m var2 \u001b[38;5;241m+\u001b[39m var3\n\u001b[1;32m     23\u001b[0m \u001b[38;5;28mprint\u001b[39m(myfunc(\u001b[38;5;241m2\u001b[39m, \u001b[38;5;241m3\u001b[39m, \u001b[38;5;241m5\u001b[39m))\n\u001b[0;32m---> 24\u001b[0m \u001b[38;5;28mprint\u001b[39m(\u001b[43mmyfunc\u001b[49m\u001b[43m(\u001b[49m\u001b[38;5;241;43m2\u001b[39;49m\u001b[43m,\u001b[49m\u001b[43m \u001b[49m\u001b[38;5;241;43m3\u001b[39;49m\u001b[43m)\u001b[49m)\n",
      "\u001b[0;31mTypeError\u001b[0m: myfunc() missing 1 required positional argument: 'var3'"
     ]
    }
   ],
   "source": [
    "# Two functions with same name, but different number of arguments in definition\n",
    "def myfunc(num1, num2):\n",
    "    \"\"\"\n",
    "    Function to perform arithmetic Addition operation\n",
    "    :param num1: Number\n",
    "    :param num2: Number\n",
    "    :return: result of addition operation\n",
    "    \"\"\"\n",
    "    return num1 + num2\n",
    "\n",
    "\n",
    "def myfunc(var1, var2, var3):\n",
    "    \"\"\"\n",
    "    Function to perform arithmetic Addition operation\n",
    "    :param var1: Number\n",
    "    :param var2: Number\n",
    "    :param var3: Number\n",
    "    :return: result of addition operation\n",
    "    \"\"\"\n",
    "    return var1 + var2 + var3\n",
    "\n",
    "\n",
    "print(myfunc(2, 3, 5))\n",
    "print(myfunc(2, 3))"
   ]
  },
  {
   "cell_type": "markdown",
   "metadata": {},
   "source": [
    "### Default Arguments\n"
   ]
  },
  {
   "cell_type": "code",
   "execution_count": 42,
   "metadata": {},
   "outputs": [
    {
     "name": "stdout",
     "output_type": "stream",
     "text": [
      "10\n",
      "5\n"
     ]
    }
   ],
   "source": [
    "def myfunc(var1, var2, var3=0):\n",
    "    \"\"\"\n",
    "    Function to perform arithmetic add operation\n",
    "    :param var1: Number\n",
    "    :param var2: Number\n",
    "    :param var3: Number\n",
    "    :return: result of addition operation\n",
    "    \"\"\"\n",
    "    return var1 + var2 + var3\n",
    "\n",
    "\n",
    "print(myfunc(2, 3, 5))\n",
    "print(myfunc(2, 3))"
   ]
  },
  {
   "cell_type": "code",
   "execution_count": 43,
   "metadata": {},
   "outputs": [
    {
     "name": "stdout",
     "output_type": "stream",
     "text": [
      "30\n",
      "6\n"
     ]
    }
   ],
   "source": [
    "def multiplication(var1, var2, var3=1):\n",
    "    \"\"\"\n",
    "    Function to perform arithmetic Multiplication operation\n",
    "    :param var1: Number\n",
    "    :param var2: Number\n",
    "    :param var3: Number\n",
    "    :return: result of addition operation\n",
    "    \"\"\"\n",
    "    return var1 * var2 * var3\n",
    "\n",
    "\n",
    "print(multiplication(2, 3, 5))\n",
    "print(multiplication(2, 3))"
   ]
  },
  {
   "cell_type": "code",
   "execution_count": 44,
   "metadata": {},
   "outputs": [],
   "source": [
    "def greetings(name, msg=\"Birthday\"):\n",
    "    return f\"Hi, {name}! Happy {msg}!!!\""
   ]
  },
  {
   "cell_type": "code",
   "execution_count": 45,
   "metadata": {},
   "outputs": [
    {
     "name": "stdout",
     "output_type": "stream",
     "text": [
      "['__annotations__', '__builtins__', '__call__', '__class__', '__closure__', '__code__', '__defaults__', '__delattr__', '__dict__', '__dir__', '__doc__', '__eq__', '__format__', '__ge__', '__get__', '__getattribute__', '__getstate__', '__globals__', '__gt__', '__hash__', '__init__', '__init_subclass__', '__kwdefaults__', '__le__', '__lt__', '__module__', '__name__', '__ne__', '__new__', '__qualname__', '__reduce__', '__reduce_ex__', '__repr__', '__setattr__', '__sizeof__', '__str__', '__subclasshook__', '__type_params__']\n"
     ]
    }
   ],
   "source": [
    "print(dir(greetings))"
   ]
  },
  {
   "cell_type": "code",
   "execution_count": 46,
   "metadata": {},
   "outputs": [
    {
     "data": {
      "text/plain": [
       "('Birthday',)"
      ]
     },
     "execution_count": 46,
     "metadata": {},
     "output_type": "execute_result"
    }
   ],
   "source": [
    "greetings.__defaults__"
   ]
  },
  {
   "cell_type": "code",
   "execution_count": 47,
   "metadata": {},
   "outputs": [
    {
     "ename": "TypeError",
     "evalue": "greetings() missing 1 required positional argument: 'name'",
     "output_type": "error",
     "traceback": [
      "\u001b[0;31m---------------------------------------------------------------------------\u001b[0m",
      "\u001b[0;31mTypeError\u001b[0m                                 Traceback (most recent call last)",
      "Cell \u001b[0;32mIn[47], line 1\u001b[0m\n\u001b[0;32m----> 1\u001b[0m \u001b[43mgreetings\u001b[49m\u001b[43m(\u001b[49m\u001b[43m)\u001b[49m\n",
      "\u001b[0;31mTypeError\u001b[0m: greetings() missing 1 required positional argument: 'name'"
     ]
    }
   ],
   "source": [
    "greetings()"
   ]
  },
  {
   "cell_type": "code",
   "execution_count": 48,
   "metadata": {},
   "outputs": [
    {
     "data": {
      "text/plain": [
       "'Hi, Udhay! Happy Birthday!!!'"
      ]
     },
     "execution_count": 48,
     "metadata": {},
     "output_type": "execute_result"
    }
   ],
   "source": [
    "greetings(\"Udhay\")"
   ]
  },
  {
   "cell_type": "code",
   "execution_count": 49,
   "metadata": {},
   "outputs": [
    {
     "data": {
      "text/plain": [
       "'Hi, Prakash! Happy Wedding Anniversary!!!'"
      ]
     },
     "execution_count": 49,
     "metadata": {},
     "output_type": "execute_result"
    }
   ],
   "source": [
    "greetings(\"Prakash\", \"Wedding Anniversary\")"
   ]
  },
  {
   "cell_type": "code",
   "execution_count": 50,
   "metadata": {},
   "outputs": [],
   "source": [
    "# NOTE: Non-default arguments must be passed during function call\n"
   ]
  },
  {
   "cell_type": "code",
   "execution_count": 51,
   "metadata": {},
   "outputs": [
    {
     "ename": "SyntaxError",
     "evalue": "parameter without a default follows parameter with a default (120744486.py, line 5)",
     "output_type": "error",
     "traceback": [
      "\u001b[0;36m  Cell \u001b[0;32mIn[51], line 5\u001b[0;36m\u001b[0m\n\u001b[0;31m    def greetings(msg = 'Birthday', name):\u001b[0m\n\u001b[0m                                    ^\u001b[0m\n\u001b[0;31mSyntaxError\u001b[0m\u001b[0;31m:\u001b[0m parameter without a default follows parameter with a default\n"
     ]
    }
   ],
   "source": [
    "# def greetings(name, msg=\"Birthday\"):\n",
    "#     return f\"Hi, {name}! Happy {msg}!!!\"\n",
    "\n",
    "\n",
    "def greetings(msg = 'Birthday', name):\n",
    "    return f'Hi, {name}! Happy {msg}!!!'"
   ]
  },
  {
   "cell_type": "code",
   "execution_count": 52,
   "metadata": {},
   "outputs": [],
   "source": [
    "# __NOTE:__ default args should be at the end only "
   ]
  },
  {
   "cell_type": "code",
   "execution_count": 53,
   "metadata": {},
   "outputs": [
    {
     "name": "stdout",
     "output_type": "stream",
     "text": [
      "0 27 1\n"
     ]
    },
    {
     "data": {
      "text/plain": [
       "'Honorificabilitudinitatibus'"
      ]
     },
     "execution_count": 53,
     "metadata": {},
     "output_type": "execute_result"
    }
   ],
   "source": [
    "def string_slicing(input_string, start_index=0, final_index=None, step=1):\n",
    "    if final_index is None:\n",
    "        final_index = len(input_string)\n",
    "\n",
    "    print(start_index, final_index, step)\n",
    "    return input_string[start_index:final_index:step]\n",
    "\n",
    "\n",
    "string_slicing(\"Honorificabilitudinitatibus\")"
   ]
  },
  {
   "cell_type": "code",
   "execution_count": 54,
   "metadata": {},
   "outputs": [
    {
     "name": "stdout",
     "output_type": "stream",
     "text": [
      "0 27 1\n"
     ]
    },
    {
     "data": {
      "text/plain": [
       "'Honorificabilitudinitatibus'"
      ]
     },
     "execution_count": 54,
     "metadata": {},
     "output_type": "execute_result"
    }
   ],
   "source": [
    "def string_slicing(input_string, start_index=0, final_index=None, step=1):\n",
    "    final_index = final_index or len(input_string)\n",
    "\n",
    "    print(start_index, final_index, step)\n",
    "    return input_string[start_index:final_index:step]\n",
    "\n",
    "\n",
    "string_slicing(\"Honorificabilitudinitatibus\")"
   ]
  },
  {
   "cell_type": "code",
   "execution_count": 55,
   "metadata": {},
   "outputs": [
    {
     "name": "stdout",
     "output_type": "stream",
     "text": [
      "3 19 2\n"
     ]
    },
    {
     "data": {
      "text/plain": [
       "'oiiaiiui'"
      ]
     },
     "execution_count": 55,
     "metadata": {},
     "output_type": "execute_result"
    }
   ],
   "source": [
    "string_slicing(\"Honorificabilitudinitatibus\", 3, 19, 2)"
   ]
  },
  {
   "cell_type": "code",
   "execution_count": 56,
   "metadata": {},
   "outputs": [
    {
     "data": {
      "text/plain": [
       "(0, None, 1)"
      ]
     },
     "execution_count": 56,
     "metadata": {},
     "output_type": "execute_result"
    }
   ],
   "source": [
    "string_slicing.__defaults__"
   ]
  },
  {
   "cell_type": "markdown",
   "metadata": {},
   "source": [
    "### Problem with mutable default arguments\n"
   ]
  },
  {
   "cell_type": "code",
   "execution_count": 57,
   "metadata": {},
   "outputs": [],
   "source": [
    "def extend_list(val, mylist=[]):\n",
    "    print(f\"id(mylist) = {id(mylist)} mylist={mylist}  \")\n",
    "    mylist.append(val)\n",
    "    return mylist"
   ]
  },
  {
   "cell_type": "code",
   "execution_count": 58,
   "metadata": {},
   "outputs": [
    {
     "data": {
      "text/plain": [
       "([],)"
      ]
     },
     "execution_count": 58,
     "metadata": {},
     "output_type": "execute_result"
    }
   ],
   "source": [
    "extend_list.__defaults__\n"
   ]
  },
  {
   "cell_type": "code",
   "execution_count": 59,
   "metadata": {},
   "outputs": [
    {
     "name": "stdout",
     "output_type": "stream",
     "text": [
      "id(mylist) = 128189771328064 mylist=[]  \n"
     ]
    },
    {
     "data": {
      "text/plain": [
       "[10]"
      ]
     },
     "execution_count": 59,
     "metadata": {},
     "output_type": "execute_result"
    }
   ],
   "source": [
    "list1 = extend_list(10)\n",
    "list1"
   ]
  },
  {
   "cell_type": "code",
   "execution_count": 60,
   "metadata": {},
   "outputs": [
    {
     "name": "stdout",
     "output_type": "stream",
     "text": [
      "id(mylist) = 128189771219264 mylist=[]  \n"
     ]
    },
    {
     "data": {
      "text/plain": [
       "[123]"
      ]
     },
     "execution_count": 60,
     "metadata": {},
     "output_type": "execute_result"
    }
   ],
   "source": [
    "list2 = extend_list(123, [])\n",
    "list2"
   ]
  },
  {
   "cell_type": "code",
   "execution_count": 61,
   "metadata": {},
   "outputs": [
    {
     "name": "stdout",
     "output_type": "stream",
     "text": [
      "id(mylist) = 128189771328064 mylist=[10]  \n"
     ]
    },
    {
     "data": {
      "text/plain": [
       "[10, 'a']"
      ]
     },
     "execution_count": 61,
     "metadata": {},
     "output_type": "execute_result"
    }
   ],
   "source": [
    "list3 = extend_list(\"a\")\n",
    "list3"
   ]
  },
  {
   "cell_type": "code",
   "execution_count": 62,
   "metadata": {},
   "outputs": [
    {
     "data": {
      "text/plain": [
       "(128189771328064, 128189771219264, 128189771328064)"
      ]
     },
     "execution_count": 62,
     "metadata": {},
     "output_type": "execute_result"
    }
   ],
   "source": [
    "id(list1), id(list2), id(list3)\n"
   ]
  },
  {
   "cell_type": "code",
   "execution_count": 63,
   "metadata": {},
   "outputs": [],
   "source": [
    "# NOTE: Best practice is to use a sentinel value to denote an empty list or dictionary or set.\n",
    "\n"
   ]
  },
  {
   "cell_type": "code",
   "execution_count": 64,
   "metadata": {},
   "outputs": [],
   "source": [
    "# Best practice\n",
    "\n",
    "\n",
    "# def extend_list(val, mylist= []):\n",
    "#     print(f'id(mylist) = {id(mylist)} mylist={mylist}  ')\n",
    "#     mylist.append(val)\n",
    "#     return mylist\n",
    "\n",
    "\n",
    "def extend_list(val, mylist=None):\n",
    "    if mylist is None:\n",
    "        mylist = []\n",
    "    print(f\"id(mylist) = {id(mylist)} mylist={mylist}  \")\n",
    "    mylist.append(val)\n",
    "    return mylist"
   ]
  },
  {
   "cell_type": "code",
   "execution_count": 65,
   "metadata": {},
   "outputs": [
    {
     "name": "stdout",
     "output_type": "stream",
     "text": [
      "id(mylist) = 128189769972096 mylist=[]  \n",
      "[10]\n",
      "id(mylist) = 128189771288576 mylist=[]  \n",
      "[123]\n",
      "id(mylist) = 128189769970560 mylist=[]  \n",
      "['a']\n"
     ]
    }
   ],
   "source": [
    "list1 = extend_list(10)\n",
    "print(list1)\n",
    "\n",
    "list2 = extend_list(123, [])\n",
    "print(list2)\n",
    "\n",
    "list3 = extend_list(\"a\")\n",
    "print(list3)"
   ]
  },
  {
   "cell_type": "code",
   "execution_count": 66,
   "metadata": {},
   "outputs": [
    {
     "data": {
      "text/plain": [
       "(128189769972096, 128189771288576, 128189769970560)"
      ]
     },
     "execution_count": 66,
     "metadata": {},
     "output_type": "execute_result"
    }
   ],
   "source": [
    "id(list1), id(list2), id(list3)"
   ]
  },
  {
   "cell_type": "code",
   "execution_count": 67,
   "metadata": {},
   "outputs": [
    {
     "data": {
      "text/plain": [
       "(None,)"
      ]
     },
     "execution_count": 67,
     "metadata": {},
     "output_type": "execute_result"
    }
   ],
   "source": [
    "extend_list.__defaults__\n"
   ]
  },
  {
   "cell_type": "markdown",
   "metadata": {},
   "source": [
    "### Variadic Functions\n",
    "\n",
    "\n",
    "    Function which can accept any number of arguments\n",
    "\n",
    "    Ex: print() function\n"
   ]
  },
  {
   "cell_type": "code",
   "execution_count": 68,
   "metadata": {},
   "outputs": [
    {
     "name": "stdout",
     "output_type": "stream",
     "text": [
      "\n"
     ]
    }
   ],
   "source": [
    "print()"
   ]
  },
  {
   "cell_type": "code",
   "execution_count": 69,
   "metadata": {},
   "outputs": [
    {
     "name": "stdout",
     "output_type": "stream",
     "text": [
      "12\n"
     ]
    }
   ],
   "source": [
    "print(12)\n"
   ]
  },
  {
   "cell_type": "code",
   "execution_count": 72,
   "metadata": {},
   "outputs": [
    {
     "name": "stdout",
     "output_type": "stream",
     "text": [
      "12 34 None {12: '34'} [10]\n"
     ]
    }
   ],
   "source": [
    "print(12, \"34\", None, {12: \"34\"}, list1)"
   ]
  },
  {
   "cell_type": "code",
   "execution_count": 73,
   "metadata": {},
   "outputs": [
    {
     "data": {
      "text/plain": [
       "<function __main__.hello()>"
      ]
     },
     "execution_count": 73,
     "metadata": {},
     "output_type": "execute_result"
    }
   ],
   "source": [
    "hello"
   ]
  },
  {
   "cell_type": "code",
   "execution_count": 74,
   "metadata": {},
   "outputs": [
    {
     "name": "stdout",
     "output_type": "stream",
     "text": [
      "Hello world\n"
     ]
    }
   ],
   "source": [
    "hello()"
   ]
  },
  {
   "cell_type": "code",
   "execution_count": 75,
   "metadata": {},
   "outputs": [],
   "source": [
    "hello.__defaults__"
   ]
  },
  {
   "cell_type": "code",
   "execution_count": 76,
   "metadata": {},
   "outputs": [],
   "source": [
    "hello.__kwdefaults__"
   ]
  },
  {
   "cell_type": "code",
   "execution_count": 77,
   "metadata": {},
   "outputs": [
    {
     "name": "stdout",
     "output_type": "stream",
     "text": [
      "None\n"
     ]
    }
   ],
   "source": [
    "print(hello.__kwdefaults__)"
   ]
  },
  {
   "cell_type": "code",
   "execution_count": 78,
   "metadata": {},
   "outputs": [
    {
     "ename": "TypeError",
     "evalue": "hello() got an unexpected keyword argument 'lucky_number'",
     "output_type": "error",
     "traceback": [
      "\u001b[0;31m---------------------------------------------------------------------------\u001b[0m",
      "\u001b[0;31mTypeError\u001b[0m                                 Traceback (most recent call last)",
      "Cell \u001b[0;32mIn[78], line 1\u001b[0m\n\u001b[0;32m----> 1\u001b[0m \u001b[43mhello\u001b[49m\u001b[43m(\u001b[49m\u001b[43mlucky_number\u001b[49m\u001b[38;5;241;43m=\u001b[39;49m\u001b[38;5;241;43m99\u001b[39;49m\u001b[43m)\u001b[49m\n",
      "\u001b[0;31mTypeError\u001b[0m: hello() got an unexpected keyword argument 'lucky_number'"
     ]
    }
   ],
   "source": [
    "hello(lucky_number=99)\n"
   ]
  },
  {
   "cell_type": "code",
   "execution_count": 87,
   "metadata": {},
   "outputs": [
    {
     "name": "stdout",
     "output_type": "stream",
     "text": [
      "\n",
      "type(given)=<class 'tuple'> given = ()\n",
      "--------------------\n",
      "\n",
      "type(given)=<class 'tuple'> given = (99,)\n",
      "--------------------\n",
      "\n",
      "type(given)=<class 'tuple'> given = (99, -0.2312)\n",
      "--------------------\n",
      "\n",
      "type(given)=<class 'tuple'> given = (99, -0.2312, 12, '34', None, {12: '34'}, [10])\n",
      "--------------------\n"
     ]
    }
   ],
   "source": [
    "# Function Definition\n",
    "def hello(*given):\n",
    "    print(f\"\\n{type(given)=} {given = }\")\n",
    "    print(\"-\" * 20)\n",
    "\n",
    "# works for any number of arguments\n",
    "hello()\n",
    "hello(99)\n",
    "hello(99, -0.2312)\n",
    "hello(99, -0.2312, 12, \"34\", None, {12: \"34\"}, list1)"
   ]
  },
  {
   "cell_type": "code",
   "execution_count": 88,
   "metadata": {},
   "outputs": [
    {
     "name": "stdout",
     "output_type": "stream",
     "text": [
      "\n",
      "type(given)   <class 'tuple'>\n",
      "type(feed_in)  <class 'dict'>\n",
      "given   ()\n",
      "feed_in {}\n",
      "--------------------\n",
      "\n",
      "type(given)   <class 'tuple'>\n",
      "type(feed_in)  <class 'dict'>\n",
      "given   (99,)\n",
      "feed_in {}\n",
      "--------------------\n",
      "\n",
      "type(given)   <class 'tuple'>\n",
      "type(feed_in)  <class 'dict'>\n",
      "given   (99, -0.2312)\n",
      "feed_in {}\n",
      "--------------------\n",
      "\n",
      "type(given)   <class 'tuple'>\n",
      "type(feed_in)  <class 'dict'>\n",
      "given   (99, -0.2312, 12, '34', None, {12: '34'}, [10])\n",
      "feed_in {}\n",
      "--------------------\n",
      "\n",
      "type(given)   <class 'tuple'>\n",
      "type(feed_in)  <class 'dict'>\n",
      "given   ()\n",
      "feed_in {'language': 'Python'}\n",
      "--------------------\n",
      "\n",
      "type(given)   <class 'tuple'>\n",
      "type(feed_in)  <class 'dict'>\n",
      "given   ()\n",
      "feed_in {'language': 'Python', 'env': 'dev'}\n",
      "--------------------\n",
      "\n",
      "type(given)   <class 'tuple'>\n",
      "type(feed_in)  <class 'dict'>\n",
      "given   ()\n",
      "feed_in {'language': 'Python', 'version': 3, 'subversion': 8}\n",
      "--------------------\n"
     ]
    }
   ],
   "source": [
    "# Function Definition\n",
    "def hello(*given, **feed_in):\n",
    "    print(\"\\ntype(given)  \", type(given))\n",
    "    print(\"type(feed_in) \", type(feed_in))\n",
    "\n",
    "    print(\"given   \" + str(given))\n",
    "    print(\"feed_in \" + str(feed_in))\n",
    "    print(\"-\" * 20)\n",
    "\n",
    "\n",
    "# works for any number of arguments & keyword arguments\n",
    "hello()\n",
    "hello(99)\n",
    "hello(99, -0.2312)\n",
    "hello(99, -0.2312, 12, \"34\", None, {12: \"34\"}, list1)\n",
    "\n",
    "hello(language=\"Python\")\n",
    "hello(language=\"Python\", env=\"dev\")\n",
    "hello(language=\"Python\", version=3, subversion=8)"
   ]
  },
  {
   "cell_type": "code",
   "execution_count": 89,
   "metadata": {},
   "outputs": [
    {
     "name": "stdout",
     "output_type": "stream",
     "text": [
      "\n",
      "type(given)   <class 'tuple'>\n",
      "type(feed_in)  <class 'dict'>\n",
      "given   ()\n",
      "feed_in {'brand': 'Ford', 'model': 'Mustang', 'year': 1964}\n",
      "--------------------\n"
     ]
    }
   ],
   "source": [
    "hello(brand=\"Ford\", model=\"Mustang\", year=1964)"
   ]
  },
  {
   "cell_type": "code",
   "execution_count": 90,
   "metadata": {},
   "outputs": [
    {
     "name": "stdout",
     "output_type": "stream",
     "text": [
      "\n",
      "type(given)   <class 'tuple'>\n",
      "type(feed_in)  <class 'dict'>\n",
      "given   ({'brand': 'Ford', 'model': 'Mustang', 'year': 1964},)\n",
      "feed_in {}\n",
      "--------------------\n"
     ]
    }
   ],
   "source": [
    "# dictionary unpacking\n",
    "my_dict = {\"brand\": \"Ford\", \"model\": \"Mustang\", \"year\": 1964}\n",
    "hello(my_dict)"
   ]
  },
  {
   "cell_type": "code",
   "execution_count": 91,
   "metadata": {},
   "outputs": [
    {
     "name": "stdout",
     "output_type": "stream",
     "text": [
      "\n",
      "type(given)   <class 'tuple'>\n",
      "type(feed_in)  <class 'dict'>\n",
      "given   ()\n",
      "feed_in {'brand': 'Ford', 'model': 'Mustang', 'year': 1964}\n",
      "--------------------\n"
     ]
    }
   ],
   "source": [
    "hello(**my_dict)"
   ]
  },
  {
   "cell_type": "code",
   "execution_count": 92,
   "metadata": {},
   "outputs": [
    {
     "name": "stdout",
     "output_type": "stream",
     "text": [
      "\n",
      "type(given)   <class 'tuple'>\n",
      "type(feed_in)  <class 'dict'>\n",
      "given   (212.34, 'India', 798787987987975)\n",
      "feed_in {'number': 34, 'mystring': 'sdas', 'larger_number': 342432, 'brand': 'Ford', 'model': 'Mustang', 'year': 1964}\n",
      "--------------------\n"
     ]
    }
   ],
   "source": [
    "hello(\n",
    "    212.34,\n",
    "    \"India\",\n",
    "    798787987987975,  # variable args\n",
    "\n",
    "    number=34,\n",
    "    mystring=\"sdas\",\n",
    "    larger_number=342432,  # variable keyword args\n",
    "    \n",
    "    **my_dict  # variable keyword args, unpacked from dict\n",
    ")"
   ]
  },
  {
   "cell_type": "markdown",
   "metadata": {},
   "source": [
    "### Function with keyword ONLY arguments (only in python 3.x)\n",
    "\n",
    "    Named arguments appearing after '*' can only be passed by keyword\n",
    "\n"
   ]
  },
  {
   "cell_type": "code",
   "execution_count": 95,
   "metadata": {},
   "outputs": [
    {
     "name": "stdout",
     "output_type": "stream",
     "text": [
      "\n",
      "type(maxsize)   <class 'int'>\n",
      "type(block)  <class 'bool'>\n",
      "maxsize   8192\n",
      "block True\n",
      "--------------------\n"
     ]
    }
   ],
   "source": [
    "# Function Definition\n",
    "def recv(maxsize, *, block=True):\n",
    "    print(\"\\ntype(maxsize)  \", type(maxsize))\n",
    "    print(\"type(block) \", type(block))\n",
    "\n",
    "    print(\"maxsize   \" + str(maxsize))\n",
    "    print(\"block \" + str(block))\n",
    "    print(\"-\" * 20)\n",
    "\n",
    "\n",
    "# Function Call\n",
    "recv(8192)  # default case\n"
   ]
  },
  {
   "cell_type": "code",
   "execution_count": 96,
   "metadata": {},
   "outputs": [
    {
     "ename": "TypeError",
     "evalue": "recv() takes 1 positional argument but 2 were given",
     "output_type": "error",
     "traceback": [
      "\u001b[0;31m---------------------------------------------------------------------------\u001b[0m",
      "\u001b[0;31mTypeError\u001b[0m                                 Traceback (most recent call last)",
      "Cell \u001b[0;32mIn[96], line 1\u001b[0m\n\u001b[0;32m----> 1\u001b[0m \u001b[43mrecv\u001b[49m\u001b[43m(\u001b[49m\u001b[38;5;241;43m8192\u001b[39;49m\u001b[43m,\u001b[49m\u001b[43m \u001b[49m\u001b[38;5;28;43;01mFalse\u001b[39;49;00m\u001b[43m)\u001b[49m\n",
      "\u001b[0;31mTypeError\u001b[0m: recv() takes 1 positional argument but 2 were given"
     ]
    }
   ],
   "source": [
    "recv(8192, False)\n"
   ]
  },
  {
   "cell_type": "code",
   "execution_count": 97,
   "metadata": {},
   "outputs": [
    {
     "name": "stdout",
     "output_type": "stream",
     "text": [
      "\n",
      "type(maxsize)   <class 'int'>\n",
      "type(block)  <class 'bool'>\n",
      "maxsize   8192\n",
      "block False\n",
      "--------------------\n",
      "\n",
      "type(maxsize)   <class 'int'>\n",
      "type(block)  <class 'bool'>\n",
      "maxsize   8192\n",
      "block False\n",
      "--------------------\n"
     ]
    }
   ],
   "source": [
    "recv(8192, block=False)\n",
    "\n",
    "recv(maxsize=8192, block=False)"
   ]
  },
  {
   "cell_type": "code",
   "execution_count": 98,
   "metadata": {},
   "outputs": [
    {
     "ename": "SyntaxError",
     "evalue": "positional argument follows keyword argument (3414474753.py, line 1)",
     "output_type": "error",
     "traceback": [
      "\u001b[0;36m  Cell \u001b[0;32mIn[98], line 1\u001b[0;36m\u001b[0m\n\u001b[0;31m    recv(maxsize=8192, False)\u001b[0m\n\u001b[0m                            ^\u001b[0m\n\u001b[0;31mSyntaxError\u001b[0m\u001b[0;31m:\u001b[0m positional argument follows keyword argument\n"
     ]
    }
   ],
   "source": [
    "recv(maxsize=8192, False)\n"
   ]
  },
  {
   "cell_type": "markdown",
   "metadata": {},
   "source": [
    "### Scoping - Global vs Local\n",
    "\n",
    "    Variables can accessed within functions, without passing as args in function call\n"
   ]
  },
  {
   "cell_type": "code",
   "execution_count": 99,
   "metadata": {},
   "outputs": [
    {
     "name": "stdout",
     "output_type": "stream",
     "text": [
      "in      --- alphabets {'a': 1, 'b': 2}\n",
      "outside --- alphabets {'a': 1, 'b': 2}\n"
     ]
    }
   ],
   "source": [
    "alphabets = {\"a\": 1, \"b\": 2}  # mutable object\n",
    "\n",
    "\n",
    "def computation():\n",
    "    print(\"in      --- alphabets\", alphabets)\n",
    "\n",
    "\n",
    "computation()\n",
    "print(\"outside --- alphabets\", alphabets)"
   ]
  },
  {
   "cell_type": "code",
   "execution_count": 101,
   "metadata": {},
   "outputs": [
    {
     "name": "stdout",
     "output_type": "stream",
     "text": [
      "in - before - alphabets {'a': 1, 'b': 2}\n",
      "in - after  - alphabets {'a': 1, 'b': 2, 'c': 3}\n",
      "outside --   - alphabets {'a': 1, 'b': 2, 'c': 3}\n"
     ]
    }
   ],
   "source": [
    "alphabets = {\"a\": 1, \"b\": 2}  # mutable object\n",
    "\n",
    "\n",
    "def computation():\n",
    "    print(\"in - before - alphabets\", alphabets)\n",
    "    alphabets[\"c\"] = 3\n",
    "    print(\"in - after  - alphabets\", alphabets)\n",
    "\n",
    "\n",
    "computation()\n",
    "print(\"outside --   - alphabets\", alphabets)"
   ]
  },
  {
   "cell_type": "code",
   "execution_count": 103,
   "metadata": {},
   "outputs": [
    {
     "name": "stdout",
     "output_type": "stream",
     "text": [
      "in - before - alphabets {'a': 1, 'b': 2}\n",
      "in - after - alphabets {'a': 1, 'b': 2, 'c': 3}\n",
      "id(alphabets_local):128189771356736\n",
      "outside --- alphabets {'a': 1, 'b': 2, 'c': 3}\n",
      "id(alphabets):128189771356736\n"
     ]
    }
   ],
   "source": [
    "alphabets = {\"a\": 1, \"b\": 2}  # mutable object\n",
    "\n",
    "\n",
    "def computation(alphabets_local):\n",
    "    print(\"in - before - alphabets\", alphabets_local)\n",
    "    alphabets_local[\"c\"] = 3\n",
    "    print(\"in - after - alphabets\", alphabets_local)\n",
    "    print(f\"id(alphabets_local):{id(alphabets_local)}\")\n",
    "\n",
    "\n",
    "computation(alphabets)\n",
    "print(\"outside --- alphabets\", alphabets)\n",
    "\n",
    "print(f\"id(alphabets):{id(alphabets)}\")\n",
    "# print(f\"id(alphabets_local):{id(alphabets_local)}\")  NameError: name 'alphabets_local' is not defined"
   ]
  },
  {
   "cell_type": "code",
   "execution_count": 104,
   "metadata": {},
   "outputs": [
    {
     "name": "stdout",
     "output_type": "stream",
     "text": [
      "in - before - alphabets {'a': 1, 'b': 2}\n",
      "in - after - alphabets {'a': 1, 'b': 2, 'c': 3}\n",
      "id(alphabets_local):128189771356736\n",
      "outside --- alphabets {'a': 1, 'b': 2}\n",
      "id(alphabets):128189769921024\n"
     ]
    }
   ],
   "source": [
    "alphabets = {\"a\": 1, \"b\": 2}  # mutable object\n",
    "\n",
    "\n",
    "def computation(alphabets_local):\n",
    "    alphabets_local = alphabets_local.copy()\n",
    "    \n",
    "    print(\"in - before - alphabets\", alphabets_local)\n",
    "    alphabets_local[\"c\"] = 3\n",
    "    print(\"in - after - alphabets\", alphabets_local)\n",
    "    print(f\"id(alphabets_local):{id(alphabets_local)}\")\n",
    "\n",
    "\n",
    "computation(alphabets)\n",
    "print(\"outside --- alphabets\", alphabets)\n",
    "\n",
    "print(f\"id(alphabets):{id(alphabets)}\")\n",
    "# print(f\"id(alphabets_local):{id(alphabets_local)}\")  NameError: name 'alphabets_local' is not defined"
   ]
  },
  {
   "cell_type": "code",
   "execution_count": null,
   "metadata": {},
   "outputs": [],
   "source": [
    "# By Default, \n",
    "#     for mutable object, It is call by reference == changes in function will reflect clear_output\n",
    "#                         call by value  with did .copy()"
   ]
  },
  {
   "cell_type": "code",
   "execution_count": 105,
   "metadata": {},
   "outputs": [
    {
     "name": "stdout",
     "output_type": "stream",
     "text": [
      "in      --- pi 3.1416\n",
      "outside --- pi 3.1416\n"
     ]
    }
   ],
   "source": [
    "pi = 3.1416   # immutable object\n",
    "\n",
    "\n",
    "def computation():\n",
    "    print(\"in      --- pi\", pi)\n",
    "\n",
    "\n",
    "computation()\n",
    "print(\"outside --- pi\", pi)   # without passing as input, we can use"
   ]
  },
  {
   "cell_type": "code",
   "execution_count": 106,
   "metadata": {},
   "outputs": [
    {
     "ename": "UnboundLocalError",
     "evalue": "cannot access local variable 'pi' where it is not associated with a value",
     "output_type": "error",
     "traceback": [
      "\u001b[0;31m---------------------------------------------------------------------------\u001b[0m",
      "\u001b[0;31mUnboundLocalError\u001b[0m                         Traceback (most recent call last)",
      "Cell \u001b[0;32mIn[106], line 11\u001b[0m\n\u001b[1;32m      6\u001b[0m     pi \u001b[38;5;241m=\u001b[39m \u001b[38;5;241m23432\u001b[39m\n\u001b[1;32m      7\u001b[0m     \u001b[38;5;28mprint\u001b[39m(\u001b[38;5;124m\"\u001b[39m\u001b[38;5;124min after     --- pi\u001b[39m\u001b[38;5;124m\"\u001b[39m, pi)\n\u001b[0;32m---> 11\u001b[0m \u001b[43mcomputation\u001b[49m\u001b[43m(\u001b[49m\u001b[43m)\u001b[49m\n\u001b[1;32m     12\u001b[0m \u001b[38;5;28mprint\u001b[39m(\u001b[38;5;124m\"\u001b[39m\u001b[38;5;124moutside --- pi\u001b[39m\u001b[38;5;124m\"\u001b[39m, pi)   \u001b[38;5;66;03m# without passing as input, we can use\u001b[39;00m\n",
      "Cell \u001b[0;32mIn[106], line 5\u001b[0m, in \u001b[0;36mcomputation\u001b[0;34m()\u001b[0m\n\u001b[1;32m      4\u001b[0m \u001b[38;5;28;01mdef\u001b[39;00m \u001b[38;5;21mcomputation\u001b[39m():\n\u001b[0;32m----> 5\u001b[0m     \u001b[38;5;28mprint\u001b[39m(\u001b[38;5;124m\"\u001b[39m\u001b[38;5;124min before     --- pi\u001b[39m\u001b[38;5;124m\"\u001b[39m, \u001b[43mpi\u001b[49m)\n\u001b[1;32m      6\u001b[0m     pi \u001b[38;5;241m=\u001b[39m \u001b[38;5;241m23432\u001b[39m\n\u001b[1;32m      7\u001b[0m     \u001b[38;5;28mprint\u001b[39m(\u001b[38;5;124m\"\u001b[39m\u001b[38;5;124min after     --- pi\u001b[39m\u001b[38;5;124m\"\u001b[39m, pi)\n",
      "\u001b[0;31mUnboundLocalError\u001b[0m: cannot access local variable 'pi' where it is not associated with a value"
     ]
    }
   ],
   "source": [
    "pi = 3.1416   # immutable object\n",
    "\n",
    "\n",
    "def computation():\n",
    "    print(\"in before     --- pi\", pi)\n",
    "    pi = 23432                                # without passing as arg, we can modify global objects\n",
    "    print(\"in after     --- pi\", pi)\n",
    "    \n",
    "\n",
    "\n",
    "computation()\n",
    "print(\"outside --- pi\", pi)   "
   ]
  },
  {
   "cell_type": "code",
   "execution_count": 110,
   "metadata": {},
   "outputs": [
    {
     "name": "stdout",
     "output_type": "stream",
     "text": [
      "in before     --- pi 3.1416 128189750097296\n",
      "in after      --- pi 23432 128189750093232\n",
      "outside --     - pi 3.1416 128189750097296\n"
     ]
    }
   ],
   "source": [
    "pi = 3.1416   # immutable object\n",
    "\n",
    "\n",
    "def computation(pi):\n",
    "    print(\"in before     --- pi\", pi, id(pi))\n",
    "    pi = 23432                               \n",
    "    print(\"in after      --- pi\", pi, id(pi))\n",
    "    \n",
    "\n",
    "\n",
    "computation(pi)\n",
    "print(\"outside --     - pi\", pi, id(pi))     #  call by value "
   ]
  },
  {
   "cell_type": "code",
   "execution_count": 111,
   "metadata": {},
   "outputs": [
    {
     "ename": "SyntaxError",
     "evalue": "name 'pi' is parameter and global (18971933.py, line 5)",
     "output_type": "error",
     "traceback": [
      "\u001b[0;36m  Cell \u001b[0;32mIn[111], line 5\u001b[0;36m\u001b[0m\n\u001b[0;31m    global pi\u001b[0m\n\u001b[0m    ^\u001b[0m\n\u001b[0;31mSyntaxError\u001b[0m\u001b[0;31m:\u001b[0m name 'pi' is parameter and global\n"
     ]
    }
   ],
   "source": [
    "pi = 3.1416   # immutable object\n",
    "\n",
    "\n",
    "def computation(pi):\n",
    "    global pi\n",
    "    print(\"in before     --- pi\", pi, id(pi))\n",
    "    pi = 23432                               \n",
    "    print(\"in after      --- pi\", pi, id(pi))\n",
    "    \n",
    "\n",
    "\n",
    "computation(pi)\n",
    "print(\"outside --     - pi\", pi, id(pi))     #  call by value "
   ]
  },
  {
   "cell_type": "code",
   "execution_count": 112,
   "metadata": {},
   "outputs": [
    {
     "name": "stdout",
     "output_type": "stream",
     "text": [
      "in before     --- pi 3.1416 128190012299696\n",
      "in after      --- pi 23432 128189750084016\n",
      "outside --     - pi 23432 128189750084016\n"
     ]
    }
   ],
   "source": [
    "pi = 3.1416   # immutable object\n",
    "\n",
    "\n",
    "def computation():\n",
    "    global pi\n",
    "    print(\"in before     --- pi\", pi, id(pi))\n",
    "    pi = 23432                               \n",
    "    print(\"in after      --- pi\", pi, id(pi))\n",
    "    \n",
    "\n",
    "\n",
    "computation()\n",
    "print(\"outside --     - pi\", pi, id(pi))     #  call by reference "
   ]
  },
  {
   "cell_type": "code",
   "execution_count": 113,
   "metadata": {},
   "outputs": [],
   "source": [
    "# By Default, \n",
    "#     for mutable object, It is call by reference == changes in function will reflect output\n",
    "#                         call by value  with did .copy()\n",
    "#     for immutable object, It is call by value == changes in function will NOT reflect output\n",
    "#                         call by reference  with global declaration"
   ]
  },
  {
   "cell_type": "code",
   "execution_count": 114,
   "metadata": {},
   "outputs": [],
   "source": [
    "# call by value ---> changes in function will NOT reflect output\n",
    "# call by refrence ---> changes in function will reflect output"
   ]
  },
  {
   "cell_type": "code",
   "execution_count": 115,
   "metadata": {},
   "outputs": [],
   "source": []
  },
  {
   "cell_type": "code",
   "execution_count": 116,
   "metadata": {},
   "outputs": [
    {
     "data": {
      "text/plain": [
       "{'__name__': '__main__',\n",
       " '__doc__': 'Automatically created module for IPython interactive environment',\n",
       " '__package__': None,\n",
       " '__loader__': None,\n",
       " '__spec__': None,\n",
       " '__builtin__': <module 'builtins' (built-in)>,\n",
       " '__builtins__': <module 'builtins' (built-in)>,\n",
       " '_ih': ['',\n",
       "  '# Function Definition\\ndef hello():\\n    print(\"Hello world\")\\n    # return None - default',\n",
       "  'print(hello)',\n",
       "  'type(hello)',\n",
       "  'print(dir(hello))',\n",
       "  'hello.__str__()',\n",
       "  'str(hello)',\n",
       "  'hello.__repr__()',\n",
       "  'repr(hello)',\n",
       "  'hello.__qualname__  # introduced in Python 3.3',\n",
       "  'hello.__sizeof__()',\n",
       "  'hello.__hash__()',\n",
       "  'callable(hello)',\n",
       "  'num1 = 213123\\n\\ncallable(num1)',\n",
       "  'hello.__call__()',\n",
       "  'hello()',\n",
       "  'hello.__code__',\n",
       "  '# funtion Definition\\n\\ndef hello_world(name):\\n    return f\"Hello World! {name}\"',\n",
       "  'try:\\n    hello_world()\\nexcept TypeError as ex:\\n    print(repr(ex))',\n",
       "  'hello_world(\"Programmer!!!\")',\n",
       "  'hello_world(\"Programmer!!!\", \"Sprinter\")',\n",
       "  'def person_details(name, age):\\n    return f\"{name} is {age} years old\"',\n",
       "  'person_details()',\n",
       "  'person_details(\"Gudo Vann Rusum\")',\n",
       "  'person_details(\"Gudo Vann Rusum\", 67)',\n",
       "  'person_details(\"Gudo Vann Rusum\", 67, 2019)',\n",
       "  '# NOTE: Ensure to pass the exact number of arguments in function call, as in function definition.',\n",
       "  'def some_function():\\n    pass\\n    # default return is None type object\\n\\n\\nresult = some_function()\\nprint(\"result =\", result, type(result))',\n",
       "  'def some_function():\\n    return None\\n\\n\\nresult = some_function()\\nprint(\"result =\", result, type(result))',\n",
       "  'def some_function():\\n    return 12\\n\\n\\nresult = some_function()\\nprint(\"result =\", result, type(result))',\n",
       "  'def some_function():\\n    return 12.0\\n\\n\\nresult = some_function()\\nprint(\"result =\", result, type(result))',\n",
       "  'def some_function():\\n    return {12: 34}\\n\\n\\nresult = some_function()\\nprint(\"result =\", result, type(result))',\n",
       "  'def some_function():\\n    return \"%s\\'s age is %d\" % (\"Gudo\", 67)\\n\\n\\nresult = some_function()\\nprint(\"result =\", result, type(result))',\n",
       "  'def some_function():\\n    return 12.0,  # ,(comma) at the end of statement makes the difference\\n\\n\\nresult = some_function()\\nprint(\"result =\", result, type(result))',\n",
       "  'def some_function():\\n    return ((12,),)\\n\\n\\nresult = some_function()\\nprint(\"result =\", result, type(result))',\n",
       "  'def some_other_function():\\n    return 123, 45\\n\\n\\nresult = some_other_function()\\nprint(\"result =\", result, type(result))',\n",
       "  'def some_other_function():\\n    return 123, 45\\n\\n\\n# tuple unpacking\\nresult1, result2 = some_other_function()\\nprint(\"result1      =\", result1)\\nprint(\"result2      =\", result2)',\n",
       "  '# list unpacking\\nr1, r2, r3 = [11, 22, 33]\\nprint(r1, r2, r3)',\n",
       "  'm1, m2 = [11, 22, 33]',\n",
       "  'lucky_number = 1111\\nlucky_number = 786\\nprint(lucky_number)',\n",
       "  '# Two functions with same name, but different number of arguments in definition\\n\\ndef myfunc(var1, var2, var3):\\n    \"\"\"\\n    Function to perform arithmetic Multiplication operation\\n    :param var1: Number\\n    :param var2: Number\\n    :param var3: Number\\n    :return: result of addition operation\\n    \"\"\"\\n    return var1 + var2 + var3\\n\\n\\ndef myfunc(num1, num2):\\n    \"\"\"\\n    Function to perform arithmetic Addition operation\\n    :param num1: Number\\n    :param num2: Number\\n    :return: result of addition operation\\n    \"\"\"\\n    return num1 + num2\\n\\n\\nprint(myfunc(2, 3))\\nprint(myfunc(2, 3, 5))',\n",
       "  '# Two functions with same name, but different number of arguments in definition\\ndef myfunc(num1, num2):\\n    \"\"\"\\n    Function to perform arithmetic Addition operation\\n    :param num1: Number\\n    :param num2: Number\\n    :return: result of addition operation\\n    \"\"\"\\n    return num1 + num2\\n\\n\\ndef myfunc(var1, var2, var3):\\n    \"\"\"\\n    Function to perform arithmetic Addition operation\\n    :param var1: Number\\n    :param var2: Number\\n    :param var3: Number\\n    :return: result of addition operation\\n    \"\"\"\\n    return var1 + var2 + var3\\n\\n\\nprint(myfunc(2, 3, 5))\\nprint(myfunc(2, 3))',\n",
       "  'def myfunc(var1, var2, var3=0):\\n    \"\"\"\\n    Function to perform arithmetic add operation\\n    :param var1: Number\\n    :param var2: Number\\n    :param var3: Number\\n    :return: result of addition operation\\n    \"\"\"\\n    return var1 + var2 + var3\\n\\n\\nprint(myfunc(2, 3, 5))\\nprint(myfunc(2, 3))',\n",
       "  'def multiplication(var1, var2, var3=1):\\n    \"\"\"\\n    Function to perform arithmetic Multiplication operation\\n    :param var1: Number\\n    :param var2: Number\\n    :param var3: Number\\n    :return: result of addition operation\\n    \"\"\"\\n    return var1 * var2 * var3\\n\\n\\nprint(multiplication(2, 3, 5))\\nprint(multiplication(2, 3))',\n",
       "  'def greetings(name, msg=\"Birthday\"):\\n    return f\"Hi, {name}! Happy {msg}!!!\"',\n",
       "  'print(dir(greetings))',\n",
       "  'greetings.__defaults__',\n",
       "  'greetings()',\n",
       "  'greetings(\"Udhay\")',\n",
       "  'greetings(\"Prakash\", \"Wedding Anniversary\")',\n",
       "  '# NOTE: Non-default arguments must be passed during function call',\n",
       "  '# def greetings(name, msg=\"Birthday\"):\\n#     return f\"Hi, {name}! Happy {msg}!!!\"\\n\\n\\ndef greetings(msg = \\'Birthday\\', name):\\n    return f\\'Hi, {name}! Happy {msg}!!!\\'',\n",
       "  '# __NOTE:__ default args should be at the end only ',\n",
       "  'def string_slicing(input_string, start_index=0, final_index=None, step=1):\\n    if final_index is None:\\n        final_index = len(input_string)\\n\\n    print(start_index, final_index, step)\\n    return input_string[start_index:final_index:step]\\n\\n\\nstring_slicing(\"Honorificabilitudinitatibus\")',\n",
       "  'def string_slicing(input_string, start_index=0, final_index=None, step=1):\\n    final_index = final_index or len(input_string)\\n\\n    print(start_index, final_index, step)\\n    return input_string[start_index:final_index:step]\\n\\n\\nstring_slicing(\"Honorificabilitudinitatibus\")',\n",
       "  'string_slicing(\"Honorificabilitudinitatibus\", 3, 19, 2)',\n",
       "  'string_slicing.__defaults__',\n",
       "  'def extend_list(val, mylist=[]):\\n    print(f\"id(mylist) = {id(mylist)} mylist={mylist}  \")\\n    mylist.append(val)\\n    return mylist',\n",
       "  'extend_list.__defaults__',\n",
       "  'list1 = extend_list(10)\\nlist1',\n",
       "  'list2 = extend_list(123, [])\\nlist2',\n",
       "  'list3 = extend_list(\"a\")\\nlist3',\n",
       "  'id(list1), id(list2), id(list3)',\n",
       "  '# NOTE: Best practice is to use a sentinel value to denote an empty list or dictionary or set.',\n",
       "  '# Best practice\\n\\n\\n# def extend_list(val, mylist= []):\\n#     print(f\\'id(mylist) = {id(mylist)} mylist={mylist}  \\')\\n#     mylist.append(val)\\n#     return mylist\\n\\n\\ndef extend_list(val, mylist=None):\\n    if mylist is None:\\n        mylist = []\\n    print(f\"id(mylist) = {id(mylist)} mylist={mylist}  \")\\n    mylist.append(val)\\n    return mylist',\n",
       "  'list1 = extend_list(10)\\nprint(list1)\\n\\nlist2 = extend_list(123, [])\\nprint(list2)\\n\\nlist3 = extend_list(\"a\")\\nprint(list3)',\n",
       "  'id(list1), id(list2), id(list3)',\n",
       "  'extend_list.__defaults__',\n",
       "  'print()',\n",
       "  'print(12)',\n",
       "  'print(12, \"34\", None, {12: \"34\"}, [sa]])',\n",
       "  'print(12, \"34\", None, {12: \"34\"}, list1])',\n",
       "  'print(12, \"34\", None, {12: \"34\"}, list1)',\n",
       "  'hello',\n",
       "  'hello()',\n",
       "  'hello.__defaults__',\n",
       "  'hello.__kwdefaults__',\n",
       "  'print(hello.__kwdefaults__)',\n",
       "  'hello(lucky_number=99)',\n",
       "  '# Function Definition\\ndef hello():\\n    pass\\n\\n# works for any number of arguments\\nhello()\\nhello(99)\\nhello(99, -0.2312)\\nhello(99, -0.2312, 12, \"34\", None, {12: \"34\"}, list1)',\n",
       "  '# Function Definition\\ndef hello(given):\\n    pass\\n\\n# works for any number of arguments\\nhello()\\nhello(99)\\nhello(99, -0.2312)\\nhello(99, -0.2312, 12, \"34\", None, {12: \"34\"}, list1)',\n",
       "  '# Function Definition\\ndef hello(*given):\\n    pass\\n\\n# works for any number of arguments\\nhello()\\nhello(99)\\nhello(99, -0.2312)\\nhello(99, -0.2312, 12, \"34\", None, {12: \"34\"}, list1)',\n",
       "  '# Function Definition\\ndef hello(* given):\\n    pass\\n\\n# works for any number of arguments\\nhello()\\nhello(99)\\nhello(99, -0.2312)\\nhello(99, -0.2312, 12, \"34\", None, {12: \"34\"}, list1)',\n",
       "  '# Function Definition\\ndef hello(*given):\\n    pass\\n\\n# works for any number of arguments\\nhello()\\nhello(99)\\nhello(99, -0.2312)\\nhello(99, -0.2312, 12, \"34\", None, {12: \"34\"}, list1)',\n",
       "  '# Function Definition\\ndef hello(*given):\\n    print(\"\\\\n{type(given)=} {given = }\")\\n    print(\"-\" * 20)\\n\\n# works for any number of arguments\\nhello()\\nhello(99)\\nhello(99, -0.2312)\\nhello(99, -0.2312, 12, \"34\", None, {12: \"34\"}, list1)',\n",
       "  '# Function Definition\\ndef hello(*given):\\n    print(f\"\\\\n{type(given)=} {given = }\")\\n    print(\"-\" * 20)\\n\\n# works for any number of arguments\\nhello()\\nhello(99)\\nhello(99, -0.2312)\\nhello(99, -0.2312, 12, \"34\", None, {12: \"34\"}, list1)',\n",
       "  '# Function Definition\\ndef hello(* given):\\n    print(f\"\\\\n{type(given)=} {given = }\")\\n    print(\"-\" * 20)\\n\\n# works for any number of arguments\\nhello()\\nhello(99)\\nhello(99, -0.2312)\\nhello(99, -0.2312, 12, \"34\", None, {12: \"34\"}, list1)',\n",
       "  '# Function Definition\\ndef hello(*given):\\n    print(f\"\\\\n{type(given)=} {given = }\")\\n    print(\"-\" * 20)\\n\\n# works for any number of arguments\\nhello()\\nhello(99)\\nhello(99, -0.2312)\\nhello(99, -0.2312, 12, \"34\", None, {12: \"34\"}, list1)',\n",
       "  '# Function Definition\\ndef hello(*given, **feed_in):\\n    print(\"\\\\ntype(given)  \", type(given))\\n    print(\"type(feed_in) \", type(feed_in))\\n\\n    print(\"given   \" + str(given))\\n    print(\"feed_in \" + str(feed_in))\\n    print(\"-\" * 20)\\n\\n\\n# works for any number of arguments & keyword arguments\\nhello()\\nhello(99)\\nhello(99, -0.2312)\\nhello(99, -0.2312, 12, \"34\", None, {12: \"34\"}, list1)\\n\\nhello(language=\"Python\")\\nhello(language=\"Python\", env=\"dev\")\\nhello(language=\"Python\", version=3, subversion=8)',\n",
       "  'hello(brand=\"Ford\", model=\"Mustang\", year=1964)',\n",
       "  '# dictionary unpacking\\nmy_dict = {\"brand\": \"Ford\", \"model\": \"Mustang\", \"year\": 1964}\\nhello(my_dict)',\n",
       "  'hello(**my_dict)',\n",
       "  'hello(\\n    212.34,\\n    \"India\",\\n    798787987987975,  # variable args\\n\\n    number=34,\\n    mystring=\"sdas\",\\n    larger_number=342432,  # variable keyword args\\n    \\n    **my_dict  # variable keyword args, unpacked from dict\\n)',\n",
       "  '# Function Definition\\ndef recv(maxsize, *, block=True):\\n    print(\"\\\\ntype(maxsize)  \", type(maxsize))\\n    print(\"type(block) \", type(block))\\n\\n    print(\"maxsize   \" + str(maxsize))\\n    print(\"block \" + str(block))\\n    print(\"-\" * 20)\\n\\n\\n# Function Call\\nrecv(8192, block=False)',\n",
       "  '# Function Definition\\ndef recv(maxsize, *, block=True):\\n    print(\"\\\\ntype(maxsize)  \", type(maxsize))\\n    print(\"type(block) \", type(block))\\n\\n    print(\"maxsize   \" + str(maxsize))\\n    print(\"block \" + str(block))\\n    print(\"-\" * 20)\\n\\n\\n# Function Call\\nrecv(8192, False)',\n",
       "  '# Function Definition\\ndef recv(maxsize, *, block=True):\\n    print(\"\\\\ntype(maxsize)  \", type(maxsize))\\n    print(\"type(block) \", type(block))\\n\\n    print(\"maxsize   \" + str(maxsize))\\n    print(\"block \" + str(block))\\n    print(\"-\" * 20)\\n\\n\\n# Function Call\\nrecv(8192)  # default case',\n",
       "  'recv(8192, False)',\n",
       "  'recv(8192, block=False)\\n\\nrecv(maxsize=8192, block=False)',\n",
       "  'recv(maxsize=8192, False)',\n",
       "  'alphabets = {\"a\": 1, \"b\": 2}  # mutable object\\n\\n\\ndef computation():\\n    print(\"in      --- alphabets\", alphabets)\\n\\n\\ncomputation()\\nprint(\"outside --- alphabets\", alphabets)',\n",
       "  'alphabets = {\"a\": 1, \"b\": 2}  # mutable object\\n\\n\\ndef computation():\\n    print(\"in - before - alphabets\", alphabets)\\n    alphabets[\"c\"] = 3\\n    print(\"in - after - alphabets\", alphabets)\\n\\n\\ncomputation()\\nprint(\"outside --- alphabets\", alphabets)',\n",
       "  'alphabets = {\"a\": 1, \"b\": 2}  # mutable object\\n\\n\\ndef computation():\\n    print(\"in - before - alphabets\", alphabets)\\n    alphabets[\"c\"] = 3\\n    print(\"in - after  - alphabets\", alphabets)\\n\\n\\ncomputation()\\nprint(\"outside --   - alphabets\", alphabets)',\n",
       "  'alphabets = {\"a\": 1, \"b\": 2}  # mutable object\\n\\n\\ndef computation(alphabets_local):\\n    print(\"in - before - alphabets\", alphabets_local)\\n    alphabets_local[\"c\"] = 3\\n    print(\"in - after - alphabets\", alphabets_local)\\n    print(f\"id(alphabets_local):{id(alphabets_local)}\")\\n\\n\\ncomputation(alphabets)\\nprint(\"outside --- alphabets\", alphabets)\\n\\nprint(f\"id(alphabets):{id(alphabets)}\")\\nprint(f\"id(alphabets_local):{id(alphabets_local)}\")',\n",
       "  'alphabets = {\"a\": 1, \"b\": 2}  # mutable object\\n\\n\\ndef computation(alphabets_local):\\n    print(\"in - before - alphabets\", alphabets_local)\\n    alphabets_local[\"c\"] = 3\\n    print(\"in - after - alphabets\", alphabets_local)\\n    print(f\"id(alphabets_local):{id(alphabets_local)}\")\\n\\n\\ncomputation(alphabets)\\nprint(\"outside --- alphabets\", alphabets)\\n\\nprint(f\"id(alphabets):{id(alphabets)}\")\\n# print(f\"id(alphabets_local):{id(alphabets_local)}\")  NameError: name \\'alphabets_local\\' is not defined',\n",
       "  'alphabets = {\"a\": 1, \"b\": 2}  # mutable object\\n\\n\\ndef computation(alphabets_local):\\n    alphabets_local = alphabets_local.copy()\\n    print(\"in - before - alphabets\", alphabets_local)\\n    alphabets_local[\"c\"] = 3\\n    print(\"in - after - alphabets\", alphabets_local)\\n    print(f\"id(alphabets_local):{id(alphabets_local)}\")\\n\\n\\ncomputation(alphabets)\\nprint(\"outside --- alphabets\", alphabets)\\n\\nprint(f\"id(alphabets):{id(alphabets)}\")\\n# print(f\"id(alphabets_local):{id(alphabets_local)}\")  NameError: name \\'alphabets_local\\' is not defined',\n",
       "  'pi = 3.1416   # immutable object\\n\\n\\ndef computation():\\n    print(\"in      --- pi\", pi)\\n\\n\\ncomputation()\\nprint(\"outside --- pi\", pi)',\n",
       "  'pi = 3.1416   # immutable object\\n\\n\\ndef computation():\\n    print(\"in before     --- pi\", pi)\\n    pi = 23432\\n    print(\"in after     --- pi\", pi)\\n    \\n\\n\\ncomputation()\\nprint(\"outside --- pi\", pi)   # without passing as input, we can use',\n",
       "  'pi = 3.1416   # immutable object\\n\\n\\ndef computation(pi):\\n    print(\"in before     --- pi\", pi, id(pi))\\n    pi = 23432                               \\n    print(\"in after     --- pi\", pi, id(pi))\\n    \\n\\n\\ncomputation()\\nprint(\"outside --- pi\", pi, id(pi))   ',\n",
       "  'pi = 3.1416   # immutable object\\n\\n\\ndef computation(pi):\\n    print(\"in before     --- pi\", pi, id(pi))\\n    pi = 23432                               \\n    print(\"in after     --- pi\", pi, id(pi))\\n    \\n\\n\\ncomputation(pi)\\nprint(\"outside --- pi\", pi, id(pi))   ',\n",
       "  'pi = 3.1416   # immutable object\\n\\n\\ndef computation(pi):\\n    print(\"in before     --- pi\", pi, id(pi))\\n    pi = 23432                               \\n    print(\"in after     --- pi\", pi, id(pi))\\n    \\n\\n\\ncomputation(pi)\\nprint(\"outside --       - pi\", pi, id(pi))   ',\n",
       "  'pi = 3.1416   # immutable object\\n\\n\\ndef computation(pi):\\n    print(\"in before     --- pi\", pi, id(pi))\\n    pi = 23432                               \\n    print(\"in after      --- pi\", pi, id(pi))\\n    \\n\\n\\ncomputation(pi)\\nprint(\"outside --     - pi\", pi, id(pi))   ',\n",
       "  'pi = 3.1416   # immutable object\\n\\n\\ndef computation(pi):\\n    global pi\\n    print(\"in before     --- pi\", pi, id(pi))\\n    pi = 23432                               \\n    print(\"in after      --- pi\", pi, id(pi))\\n    \\n\\n\\ncomputation(pi)\\nprint(\"outside --     - pi\", pi, id(pi))     #  call by value ',\n",
       "  'pi = 3.1416   # immutable object\\n\\n\\ndef computation():\\n    global pi\\n    print(\"in before     --- pi\", pi, id(pi))\\n    pi = 23432                               \\n    print(\"in after      --- pi\", pi, id(pi))\\n    \\n\\n\\ncomputation()\\nprint(\"outside --     - pi\", pi, id(pi))     #  call by value ',\n",
       "  '# By Default, \\n#     for mutable object, It is call by reference == changes in function will reflect clear_output\\n#                         call by value  with did .copy()\\n#     for immutable object, It is call by value == changes in function will NOT reflect clear_output\\n#                         call by reference  with global declaration',\n",
       "  '# call by value ---> changes in function will NOT reflect output\\n# call by refrence ---> changes in function will reflect output',\n",
       "  \"# globals(), locals()\\n\\npi = 3.1415\\nmydict = {'a': 'apple'}\\n\\ndef myfunc():\\n    pi_local = 6.21321\\n    mydict_local = {'b': 'ball'}\\n\\nmyfunc()\",\n",
       "  'globals()'],\n",
       " '_oh': {3: function,\n",
       "  5: '<function hello at 0x749690331580>',\n",
       "  6: '<function hello at 0x749690331580>',\n",
       "  7: '<function hello at 0x749690331580>',\n",
       "  8: '<function hello at 0x749690331580>',\n",
       "  9: 'hello',\n",
       "  10: 144,\n",
       "  11: 8011875823960,\n",
       "  12: True,\n",
       "  13: False,\n",
       "  16: <code object hello at 0x749690319d10, file \"/tmp/ipykernel_11874/3139197744.py\", line 2>,\n",
       "  19: 'Hello World! Programmer!!!',\n",
       "  24: 'Gudo Vann Rusum is 67 years old',\n",
       "  46: ('Birthday',),\n",
       "  48: 'Hi, Udhay! Happy Birthday!!!',\n",
       "  49: 'Hi, Prakash! Happy Wedding Anniversary!!!',\n",
       "  53: 'Honorificabilitudinitatibus',\n",
       "  54: 'Honorificabilitudinitatibus',\n",
       "  55: 'oiiaiiui',\n",
       "  56: (0, None, 1),\n",
       "  58: ([10, 'a'],),\n",
       "  59: [10, 'a'],\n",
       "  60: [123],\n",
       "  61: [10, 'a'],\n",
       "  62: (128189771328064, 128189771219264, 128189771328064),\n",
       "  66: (128189769972096, 128189771288576, 128189769970560),\n",
       "  67: (None,),\n",
       "  73: <function __main__.hello()>},\n",
       " '_dh': [PosixPath('/workspaces/PythonBatchSept2024/07_Functions')],\n",
       " 'In': ['',\n",
       "  '# Function Definition\\ndef hello():\\n    print(\"Hello world\")\\n    # return None - default',\n",
       "  'print(hello)',\n",
       "  'type(hello)',\n",
       "  'print(dir(hello))',\n",
       "  'hello.__str__()',\n",
       "  'str(hello)',\n",
       "  'hello.__repr__()',\n",
       "  'repr(hello)',\n",
       "  'hello.__qualname__  # introduced in Python 3.3',\n",
       "  'hello.__sizeof__()',\n",
       "  'hello.__hash__()',\n",
       "  'callable(hello)',\n",
       "  'num1 = 213123\\n\\ncallable(num1)',\n",
       "  'hello.__call__()',\n",
       "  'hello()',\n",
       "  'hello.__code__',\n",
       "  '# funtion Definition\\n\\ndef hello_world(name):\\n    return f\"Hello World! {name}\"',\n",
       "  'try:\\n    hello_world()\\nexcept TypeError as ex:\\n    print(repr(ex))',\n",
       "  'hello_world(\"Programmer!!!\")',\n",
       "  'hello_world(\"Programmer!!!\", \"Sprinter\")',\n",
       "  'def person_details(name, age):\\n    return f\"{name} is {age} years old\"',\n",
       "  'person_details()',\n",
       "  'person_details(\"Gudo Vann Rusum\")',\n",
       "  'person_details(\"Gudo Vann Rusum\", 67)',\n",
       "  'person_details(\"Gudo Vann Rusum\", 67, 2019)',\n",
       "  '# NOTE: Ensure to pass the exact number of arguments in function call, as in function definition.',\n",
       "  'def some_function():\\n    pass\\n    # default return is None type object\\n\\n\\nresult = some_function()\\nprint(\"result =\", result, type(result))',\n",
       "  'def some_function():\\n    return None\\n\\n\\nresult = some_function()\\nprint(\"result =\", result, type(result))',\n",
       "  'def some_function():\\n    return 12\\n\\n\\nresult = some_function()\\nprint(\"result =\", result, type(result))',\n",
       "  'def some_function():\\n    return 12.0\\n\\n\\nresult = some_function()\\nprint(\"result =\", result, type(result))',\n",
       "  'def some_function():\\n    return {12: 34}\\n\\n\\nresult = some_function()\\nprint(\"result =\", result, type(result))',\n",
       "  'def some_function():\\n    return \"%s\\'s age is %d\" % (\"Gudo\", 67)\\n\\n\\nresult = some_function()\\nprint(\"result =\", result, type(result))',\n",
       "  'def some_function():\\n    return 12.0,  # ,(comma) at the end of statement makes the difference\\n\\n\\nresult = some_function()\\nprint(\"result =\", result, type(result))',\n",
       "  'def some_function():\\n    return ((12,),)\\n\\n\\nresult = some_function()\\nprint(\"result =\", result, type(result))',\n",
       "  'def some_other_function():\\n    return 123, 45\\n\\n\\nresult = some_other_function()\\nprint(\"result =\", result, type(result))',\n",
       "  'def some_other_function():\\n    return 123, 45\\n\\n\\n# tuple unpacking\\nresult1, result2 = some_other_function()\\nprint(\"result1      =\", result1)\\nprint(\"result2      =\", result2)',\n",
       "  '# list unpacking\\nr1, r2, r3 = [11, 22, 33]\\nprint(r1, r2, r3)',\n",
       "  'm1, m2 = [11, 22, 33]',\n",
       "  'lucky_number = 1111\\nlucky_number = 786\\nprint(lucky_number)',\n",
       "  '# Two functions with same name, but different number of arguments in definition\\n\\ndef myfunc(var1, var2, var3):\\n    \"\"\"\\n    Function to perform arithmetic Multiplication operation\\n    :param var1: Number\\n    :param var2: Number\\n    :param var3: Number\\n    :return: result of addition operation\\n    \"\"\"\\n    return var1 + var2 + var3\\n\\n\\ndef myfunc(num1, num2):\\n    \"\"\"\\n    Function to perform arithmetic Addition operation\\n    :param num1: Number\\n    :param num2: Number\\n    :return: result of addition operation\\n    \"\"\"\\n    return num1 + num2\\n\\n\\nprint(myfunc(2, 3))\\nprint(myfunc(2, 3, 5))',\n",
       "  '# Two functions with same name, but different number of arguments in definition\\ndef myfunc(num1, num2):\\n    \"\"\"\\n    Function to perform arithmetic Addition operation\\n    :param num1: Number\\n    :param num2: Number\\n    :return: result of addition operation\\n    \"\"\"\\n    return num1 + num2\\n\\n\\ndef myfunc(var1, var2, var3):\\n    \"\"\"\\n    Function to perform arithmetic Addition operation\\n    :param var1: Number\\n    :param var2: Number\\n    :param var3: Number\\n    :return: result of addition operation\\n    \"\"\"\\n    return var1 + var2 + var3\\n\\n\\nprint(myfunc(2, 3, 5))\\nprint(myfunc(2, 3))',\n",
       "  'def myfunc(var1, var2, var3=0):\\n    \"\"\"\\n    Function to perform arithmetic add operation\\n    :param var1: Number\\n    :param var2: Number\\n    :param var3: Number\\n    :return: result of addition operation\\n    \"\"\"\\n    return var1 + var2 + var3\\n\\n\\nprint(myfunc(2, 3, 5))\\nprint(myfunc(2, 3))',\n",
       "  'def multiplication(var1, var2, var3=1):\\n    \"\"\"\\n    Function to perform arithmetic Multiplication operation\\n    :param var1: Number\\n    :param var2: Number\\n    :param var3: Number\\n    :return: result of addition operation\\n    \"\"\"\\n    return var1 * var2 * var3\\n\\n\\nprint(multiplication(2, 3, 5))\\nprint(multiplication(2, 3))',\n",
       "  'def greetings(name, msg=\"Birthday\"):\\n    return f\"Hi, {name}! Happy {msg}!!!\"',\n",
       "  'print(dir(greetings))',\n",
       "  'greetings.__defaults__',\n",
       "  'greetings()',\n",
       "  'greetings(\"Udhay\")',\n",
       "  'greetings(\"Prakash\", \"Wedding Anniversary\")',\n",
       "  '# NOTE: Non-default arguments must be passed during function call',\n",
       "  '# def greetings(name, msg=\"Birthday\"):\\n#     return f\"Hi, {name}! Happy {msg}!!!\"\\n\\n\\ndef greetings(msg = \\'Birthday\\', name):\\n    return f\\'Hi, {name}! Happy {msg}!!!\\'',\n",
       "  '# __NOTE:__ default args should be at the end only ',\n",
       "  'def string_slicing(input_string, start_index=0, final_index=None, step=1):\\n    if final_index is None:\\n        final_index = len(input_string)\\n\\n    print(start_index, final_index, step)\\n    return input_string[start_index:final_index:step]\\n\\n\\nstring_slicing(\"Honorificabilitudinitatibus\")',\n",
       "  'def string_slicing(input_string, start_index=0, final_index=None, step=1):\\n    final_index = final_index or len(input_string)\\n\\n    print(start_index, final_index, step)\\n    return input_string[start_index:final_index:step]\\n\\n\\nstring_slicing(\"Honorificabilitudinitatibus\")',\n",
       "  'string_slicing(\"Honorificabilitudinitatibus\", 3, 19, 2)',\n",
       "  'string_slicing.__defaults__',\n",
       "  'def extend_list(val, mylist=[]):\\n    print(f\"id(mylist) = {id(mylist)} mylist={mylist}  \")\\n    mylist.append(val)\\n    return mylist',\n",
       "  'extend_list.__defaults__',\n",
       "  'list1 = extend_list(10)\\nlist1',\n",
       "  'list2 = extend_list(123, [])\\nlist2',\n",
       "  'list3 = extend_list(\"a\")\\nlist3',\n",
       "  'id(list1), id(list2), id(list3)',\n",
       "  '# NOTE: Best practice is to use a sentinel value to denote an empty list or dictionary or set.',\n",
       "  '# Best practice\\n\\n\\n# def extend_list(val, mylist= []):\\n#     print(f\\'id(mylist) = {id(mylist)} mylist={mylist}  \\')\\n#     mylist.append(val)\\n#     return mylist\\n\\n\\ndef extend_list(val, mylist=None):\\n    if mylist is None:\\n        mylist = []\\n    print(f\"id(mylist) = {id(mylist)} mylist={mylist}  \")\\n    mylist.append(val)\\n    return mylist',\n",
       "  'list1 = extend_list(10)\\nprint(list1)\\n\\nlist2 = extend_list(123, [])\\nprint(list2)\\n\\nlist3 = extend_list(\"a\")\\nprint(list3)',\n",
       "  'id(list1), id(list2), id(list3)',\n",
       "  'extend_list.__defaults__',\n",
       "  'print()',\n",
       "  'print(12)',\n",
       "  'print(12, \"34\", None, {12: \"34\"}, [sa]])',\n",
       "  'print(12, \"34\", None, {12: \"34\"}, list1])',\n",
       "  'print(12, \"34\", None, {12: \"34\"}, list1)',\n",
       "  'hello',\n",
       "  'hello()',\n",
       "  'hello.__defaults__',\n",
       "  'hello.__kwdefaults__',\n",
       "  'print(hello.__kwdefaults__)',\n",
       "  'hello(lucky_number=99)',\n",
       "  '# Function Definition\\ndef hello():\\n    pass\\n\\n# works for any number of arguments\\nhello()\\nhello(99)\\nhello(99, -0.2312)\\nhello(99, -0.2312, 12, \"34\", None, {12: \"34\"}, list1)',\n",
       "  '# Function Definition\\ndef hello(given):\\n    pass\\n\\n# works for any number of arguments\\nhello()\\nhello(99)\\nhello(99, -0.2312)\\nhello(99, -0.2312, 12, \"34\", None, {12: \"34\"}, list1)',\n",
       "  '# Function Definition\\ndef hello(*given):\\n    pass\\n\\n# works for any number of arguments\\nhello()\\nhello(99)\\nhello(99, -0.2312)\\nhello(99, -0.2312, 12, \"34\", None, {12: \"34\"}, list1)',\n",
       "  '# Function Definition\\ndef hello(* given):\\n    pass\\n\\n# works for any number of arguments\\nhello()\\nhello(99)\\nhello(99, -0.2312)\\nhello(99, -0.2312, 12, \"34\", None, {12: \"34\"}, list1)',\n",
       "  '# Function Definition\\ndef hello(*given):\\n    pass\\n\\n# works for any number of arguments\\nhello()\\nhello(99)\\nhello(99, -0.2312)\\nhello(99, -0.2312, 12, \"34\", None, {12: \"34\"}, list1)',\n",
       "  '# Function Definition\\ndef hello(*given):\\n    print(\"\\\\n{type(given)=} {given = }\")\\n    print(\"-\" * 20)\\n\\n# works for any number of arguments\\nhello()\\nhello(99)\\nhello(99, -0.2312)\\nhello(99, -0.2312, 12, \"34\", None, {12: \"34\"}, list1)',\n",
       "  '# Function Definition\\ndef hello(*given):\\n    print(f\"\\\\n{type(given)=} {given = }\")\\n    print(\"-\" * 20)\\n\\n# works for any number of arguments\\nhello()\\nhello(99)\\nhello(99, -0.2312)\\nhello(99, -0.2312, 12, \"34\", None, {12: \"34\"}, list1)',\n",
       "  '# Function Definition\\ndef hello(* given):\\n    print(f\"\\\\n{type(given)=} {given = }\")\\n    print(\"-\" * 20)\\n\\n# works for any number of arguments\\nhello()\\nhello(99)\\nhello(99, -0.2312)\\nhello(99, -0.2312, 12, \"34\", None, {12: \"34\"}, list1)',\n",
       "  '# Function Definition\\ndef hello(*given):\\n    print(f\"\\\\n{type(given)=} {given = }\")\\n    print(\"-\" * 20)\\n\\n# works for any number of arguments\\nhello()\\nhello(99)\\nhello(99, -0.2312)\\nhello(99, -0.2312, 12, \"34\", None, {12: \"34\"}, list1)',\n",
       "  '# Function Definition\\ndef hello(*given, **feed_in):\\n    print(\"\\\\ntype(given)  \", type(given))\\n    print(\"type(feed_in) \", type(feed_in))\\n\\n    print(\"given   \" + str(given))\\n    print(\"feed_in \" + str(feed_in))\\n    print(\"-\" * 20)\\n\\n\\n# works for any number of arguments & keyword arguments\\nhello()\\nhello(99)\\nhello(99, -0.2312)\\nhello(99, -0.2312, 12, \"34\", None, {12: \"34\"}, list1)\\n\\nhello(language=\"Python\")\\nhello(language=\"Python\", env=\"dev\")\\nhello(language=\"Python\", version=3, subversion=8)',\n",
       "  'hello(brand=\"Ford\", model=\"Mustang\", year=1964)',\n",
       "  '# dictionary unpacking\\nmy_dict = {\"brand\": \"Ford\", \"model\": \"Mustang\", \"year\": 1964}\\nhello(my_dict)',\n",
       "  'hello(**my_dict)',\n",
       "  'hello(\\n    212.34,\\n    \"India\",\\n    798787987987975,  # variable args\\n\\n    number=34,\\n    mystring=\"sdas\",\\n    larger_number=342432,  # variable keyword args\\n    \\n    **my_dict  # variable keyword args, unpacked from dict\\n)',\n",
       "  '# Function Definition\\ndef recv(maxsize, *, block=True):\\n    print(\"\\\\ntype(maxsize)  \", type(maxsize))\\n    print(\"type(block) \", type(block))\\n\\n    print(\"maxsize   \" + str(maxsize))\\n    print(\"block \" + str(block))\\n    print(\"-\" * 20)\\n\\n\\n# Function Call\\nrecv(8192, block=False)',\n",
       "  '# Function Definition\\ndef recv(maxsize, *, block=True):\\n    print(\"\\\\ntype(maxsize)  \", type(maxsize))\\n    print(\"type(block) \", type(block))\\n\\n    print(\"maxsize   \" + str(maxsize))\\n    print(\"block \" + str(block))\\n    print(\"-\" * 20)\\n\\n\\n# Function Call\\nrecv(8192, False)',\n",
       "  '# Function Definition\\ndef recv(maxsize, *, block=True):\\n    print(\"\\\\ntype(maxsize)  \", type(maxsize))\\n    print(\"type(block) \", type(block))\\n\\n    print(\"maxsize   \" + str(maxsize))\\n    print(\"block \" + str(block))\\n    print(\"-\" * 20)\\n\\n\\n# Function Call\\nrecv(8192)  # default case',\n",
       "  'recv(8192, False)',\n",
       "  'recv(8192, block=False)\\n\\nrecv(maxsize=8192, block=False)',\n",
       "  'recv(maxsize=8192, False)',\n",
       "  'alphabets = {\"a\": 1, \"b\": 2}  # mutable object\\n\\n\\ndef computation():\\n    print(\"in      --- alphabets\", alphabets)\\n\\n\\ncomputation()\\nprint(\"outside --- alphabets\", alphabets)',\n",
       "  'alphabets = {\"a\": 1, \"b\": 2}  # mutable object\\n\\n\\ndef computation():\\n    print(\"in - before - alphabets\", alphabets)\\n    alphabets[\"c\"] = 3\\n    print(\"in - after - alphabets\", alphabets)\\n\\n\\ncomputation()\\nprint(\"outside --- alphabets\", alphabets)',\n",
       "  'alphabets = {\"a\": 1, \"b\": 2}  # mutable object\\n\\n\\ndef computation():\\n    print(\"in - before - alphabets\", alphabets)\\n    alphabets[\"c\"] = 3\\n    print(\"in - after  - alphabets\", alphabets)\\n\\n\\ncomputation()\\nprint(\"outside --   - alphabets\", alphabets)',\n",
       "  'alphabets = {\"a\": 1, \"b\": 2}  # mutable object\\n\\n\\ndef computation(alphabets_local):\\n    print(\"in - before - alphabets\", alphabets_local)\\n    alphabets_local[\"c\"] = 3\\n    print(\"in - after - alphabets\", alphabets_local)\\n    print(f\"id(alphabets_local):{id(alphabets_local)}\")\\n\\n\\ncomputation(alphabets)\\nprint(\"outside --- alphabets\", alphabets)\\n\\nprint(f\"id(alphabets):{id(alphabets)}\")\\nprint(f\"id(alphabets_local):{id(alphabets_local)}\")',\n",
       "  'alphabets = {\"a\": 1, \"b\": 2}  # mutable object\\n\\n\\ndef computation(alphabets_local):\\n    print(\"in - before - alphabets\", alphabets_local)\\n    alphabets_local[\"c\"] = 3\\n    print(\"in - after - alphabets\", alphabets_local)\\n    print(f\"id(alphabets_local):{id(alphabets_local)}\")\\n\\n\\ncomputation(alphabets)\\nprint(\"outside --- alphabets\", alphabets)\\n\\nprint(f\"id(alphabets):{id(alphabets)}\")\\n# print(f\"id(alphabets_local):{id(alphabets_local)}\")  NameError: name \\'alphabets_local\\' is not defined',\n",
       "  'alphabets = {\"a\": 1, \"b\": 2}  # mutable object\\n\\n\\ndef computation(alphabets_local):\\n    alphabets_local = alphabets_local.copy()\\n    print(\"in - before - alphabets\", alphabets_local)\\n    alphabets_local[\"c\"] = 3\\n    print(\"in - after - alphabets\", alphabets_local)\\n    print(f\"id(alphabets_local):{id(alphabets_local)}\")\\n\\n\\ncomputation(alphabets)\\nprint(\"outside --- alphabets\", alphabets)\\n\\nprint(f\"id(alphabets):{id(alphabets)}\")\\n# print(f\"id(alphabets_local):{id(alphabets_local)}\")  NameError: name \\'alphabets_local\\' is not defined',\n",
       "  'pi = 3.1416   # immutable object\\n\\n\\ndef computation():\\n    print(\"in      --- pi\", pi)\\n\\n\\ncomputation()\\nprint(\"outside --- pi\", pi)',\n",
       "  'pi = 3.1416   # immutable object\\n\\n\\ndef computation():\\n    print(\"in before     --- pi\", pi)\\n    pi = 23432\\n    print(\"in after     --- pi\", pi)\\n    \\n\\n\\ncomputation()\\nprint(\"outside --- pi\", pi)   # without passing as input, we can use',\n",
       "  'pi = 3.1416   # immutable object\\n\\n\\ndef computation(pi):\\n    print(\"in before     --- pi\", pi, id(pi))\\n    pi = 23432                               \\n    print(\"in after     --- pi\", pi, id(pi))\\n    \\n\\n\\ncomputation()\\nprint(\"outside --- pi\", pi, id(pi))   ',\n",
       "  'pi = 3.1416   # immutable object\\n\\n\\ndef computation(pi):\\n    print(\"in before     --- pi\", pi, id(pi))\\n    pi = 23432                               \\n    print(\"in after     --- pi\", pi, id(pi))\\n    \\n\\n\\ncomputation(pi)\\nprint(\"outside --- pi\", pi, id(pi))   ',\n",
       "  'pi = 3.1416   # immutable object\\n\\n\\ndef computation(pi):\\n    print(\"in before     --- pi\", pi, id(pi))\\n    pi = 23432                               \\n    print(\"in after     --- pi\", pi, id(pi))\\n    \\n\\n\\ncomputation(pi)\\nprint(\"outside --       - pi\", pi, id(pi))   ',\n",
       "  'pi = 3.1416   # immutable object\\n\\n\\ndef computation(pi):\\n    print(\"in before     --- pi\", pi, id(pi))\\n    pi = 23432                               \\n    print(\"in after      --- pi\", pi, id(pi))\\n    \\n\\n\\ncomputation(pi)\\nprint(\"outside --     - pi\", pi, id(pi))   ',\n",
       "  'pi = 3.1416   # immutable object\\n\\n\\ndef computation(pi):\\n    global pi\\n    print(\"in before     --- pi\", pi, id(pi))\\n    pi = 23432                               \\n    print(\"in after      --- pi\", pi, id(pi))\\n    \\n\\n\\ncomputation(pi)\\nprint(\"outside --     - pi\", pi, id(pi))     #  call by value ',\n",
       "  'pi = 3.1416   # immutable object\\n\\n\\ndef computation():\\n    global pi\\n    print(\"in before     --- pi\", pi, id(pi))\\n    pi = 23432                               \\n    print(\"in after      --- pi\", pi, id(pi))\\n    \\n\\n\\ncomputation()\\nprint(\"outside --     - pi\", pi, id(pi))     #  call by value ',\n",
       "  '# By Default, \\n#     for mutable object, It is call by reference == changes in function will reflect clear_output\\n#                         call by value  with did .copy()\\n#     for immutable object, It is call by value == changes in function will NOT reflect clear_output\\n#                         call by reference  with global declaration',\n",
       "  '# call by value ---> changes in function will NOT reflect output\\n# call by refrence ---> changes in function will reflect output',\n",
       "  \"# globals(), locals()\\n\\npi = 3.1415\\nmydict = {'a': 'apple'}\\n\\ndef myfunc():\\n    pi_local = 6.21321\\n    mydict_local = {'b': 'ball'}\\n\\nmyfunc()\",\n",
       "  'globals()'],\n",
       " 'Out': {3: function,\n",
       "  5: '<function hello at 0x749690331580>',\n",
       "  6: '<function hello at 0x749690331580>',\n",
       "  7: '<function hello at 0x749690331580>',\n",
       "  8: '<function hello at 0x749690331580>',\n",
       "  9: 'hello',\n",
       "  10: 144,\n",
       "  11: 8011875823960,\n",
       "  12: True,\n",
       "  13: False,\n",
       "  16: <code object hello at 0x749690319d10, file \"/tmp/ipykernel_11874/3139197744.py\", line 2>,\n",
       "  19: 'Hello World! Programmer!!!',\n",
       "  24: 'Gudo Vann Rusum is 67 years old',\n",
       "  46: ('Birthday',),\n",
       "  48: 'Hi, Udhay! Happy Birthday!!!',\n",
       "  49: 'Hi, Prakash! Happy Wedding Anniversary!!!',\n",
       "  53: 'Honorificabilitudinitatibus',\n",
       "  54: 'Honorificabilitudinitatibus',\n",
       "  55: 'oiiaiiui',\n",
       "  56: (0, None, 1),\n",
       "  58: ([10, 'a'],),\n",
       "  59: [10, 'a'],\n",
       "  60: [123],\n",
       "  61: [10, 'a'],\n",
       "  62: (128189771328064, 128189771219264, 128189771328064),\n",
       "  66: (128189769972096, 128189771288576, 128189769970560),\n",
       "  67: (None,),\n",
       "  73: <function __main__.hello()>},\n",
       " 'get_ipython': <bound method InteractiveShell.get_ipython of <ipykernel.zmqshell.ZMQInteractiveShell object at 0x7496902df230>>,\n",
       " 'exit': <IPython.core.autocall.ZMQExitAutocall at 0x7496902df3e0>,\n",
       " 'quit': <IPython.core.autocall.ZMQExitAutocall at 0x7496902df3e0>,\n",
       " 'open': <function _io.open(file, mode='r', buffering=-1, encoding=None, errors=None, newline=None, closefd=True, opener=None)>,\n",
       " '_': <function __main__.hello()>,\n",
       " '__': (None,),\n",
       " '___': (128189769972096, 128189771288576, 128189769970560),\n",
       " '__vsc_ipynb_file__': '/workspaces/PythonBatchSept2024/07_Functions/a_functional_progamming.ipynb',\n",
       " '_i': \"# globals(), locals()\\n\\npi = 3.1415\\nmydict = {'a': 'apple'}\\n\\ndef myfunc():\\n    pi_local = 6.21321\\n    mydict_local = {'b': 'ball'}\\n\\nmyfunc()\",\n",
       " '_ii': '# call by value ---> changes in function will NOT reflect output\\n# call by refrence ---> changes in function will reflect output',\n",
       " '_iii': '# By Default, \\n#     for mutable object, It is call by reference == changes in function will reflect clear_output\\n#                         call by value  with did .copy()\\n#     for immutable object, It is call by value == changes in function will NOT reflect clear_output\\n#                         call by reference  with global declaration',\n",
       " '_i1': '# Function Definition\\ndef hello():\\n    print(\"Hello world\")\\n    # return None - default',\n",
       " 'hello': <function __main__.hello(*given, **feed_in)>,\n",
       " '_i2': 'print(hello)',\n",
       " '_i3': 'type(hello)',\n",
       " '_3': function,\n",
       " '_i4': 'print(dir(hello))',\n",
       " '_i5': 'hello.__str__()',\n",
       " '_5': '<function hello at 0x749690331580>',\n",
       " '_i6': 'str(hello)',\n",
       " '_6': '<function hello at 0x749690331580>',\n",
       " '_i7': 'hello.__repr__()',\n",
       " '_7': '<function hello at 0x749690331580>',\n",
       " '_i8': 'repr(hello)',\n",
       " '_8': '<function hello at 0x749690331580>',\n",
       " '_i9': 'hello.__qualname__  # introduced in Python 3.3',\n",
       " '_9': 'hello',\n",
       " '_i10': 'hello.__sizeof__()',\n",
       " '_10': 144,\n",
       " '_i11': 'hello.__hash__()',\n",
       " '_11': 8011875823960,\n",
       " '_i12': 'callable(hello)',\n",
       " '_12': True,\n",
       " '_i13': 'num1 = 213123\\n\\ncallable(num1)',\n",
       " 'num1': 213123,\n",
       " '_13': False,\n",
       " '_i14': 'hello.__call__()',\n",
       " '_i15': 'hello()',\n",
       " '_i16': 'hello.__code__',\n",
       " '_16': <code object hello at 0x749690319d10, file \"/tmp/ipykernel_11874/3139197744.py\", line 2>,\n",
       " '_i17': '# funtion Definition\\n\\ndef hello_world(name):\\n    return f\"Hello World! {name}\"',\n",
       " 'hello_world': <function __main__.hello_world(name)>,\n",
       " '_i18': 'try:\\n    hello_world()\\nexcept TypeError as ex:\\n    print(repr(ex))',\n",
       " '_i19': 'hello_world(\"Programmer!!!\")',\n",
       " '_19': 'Hello World! Programmer!!!',\n",
       " '_i20': 'hello_world(\"Programmer!!!\", \"Sprinter\")',\n",
       " '_i21': 'def person_details(name, age):\\n    return f\"{name} is {age} years old\"',\n",
       " 'person_details': <function __main__.person_details(name, age)>,\n",
       " '_i22': 'person_details()',\n",
       " '_i23': 'person_details(\"Gudo Vann Rusum\")',\n",
       " '_i24': 'person_details(\"Gudo Vann Rusum\", 67)',\n",
       " '_24': 'Gudo Vann Rusum is 67 years old',\n",
       " '_i25': 'person_details(\"Gudo Vann Rusum\", 67, 2019)',\n",
       " '_i26': '# NOTE: Ensure to pass the exact number of arguments in function call, as in function definition.',\n",
       " '_i27': 'def some_function():\\n    pass\\n    # default return is None type object\\n\\n\\nresult = some_function()\\nprint(\"result =\", result, type(result))',\n",
       " 'some_function': <function __main__.some_function()>,\n",
       " 'result': (123, 45),\n",
       " '_i28': 'def some_function():\\n    return None\\n\\n\\nresult = some_function()\\nprint(\"result =\", result, type(result))',\n",
       " '_i29': 'def some_function():\\n    return 12\\n\\n\\nresult = some_function()\\nprint(\"result =\", result, type(result))',\n",
       " '_i30': 'def some_function():\\n    return 12.0\\n\\n\\nresult = some_function()\\nprint(\"result =\", result, type(result))',\n",
       " '_i31': 'def some_function():\\n    return {12: 34}\\n\\n\\nresult = some_function()\\nprint(\"result =\", result, type(result))',\n",
       " '_i32': 'def some_function():\\n    return \"%s\\'s age is %d\" % (\"Gudo\", 67)\\n\\n\\nresult = some_function()\\nprint(\"result =\", result, type(result))',\n",
       " '_i33': 'def some_function():\\n    return 12.0,  # ,(comma) at the end of statement makes the difference\\n\\n\\nresult = some_function()\\nprint(\"result =\", result, type(result))',\n",
       " '_i34': 'def some_function():\\n    return ((12,),)\\n\\n\\nresult = some_function()\\nprint(\"result =\", result, type(result))',\n",
       " '_i35': 'def some_other_function():\\n    return 123, 45\\n\\n\\nresult = some_other_function()\\nprint(\"result =\", result, type(result))',\n",
       " 'some_other_function': <function __main__.some_other_function()>,\n",
       " '_i36': 'def some_other_function():\\n    return 123, 45\\n\\n\\n# tuple unpacking\\nresult1, result2 = some_other_function()\\nprint(\"result1      =\", result1)\\nprint(\"result2      =\", result2)',\n",
       " 'result1': 123,\n",
       " 'result2': 45,\n",
       " '_i37': '# list unpacking\\nr1, r2, r3 = [11, 22, 33]\\nprint(r1, r2, r3)',\n",
       " 'r1': 11,\n",
       " 'r2': 22,\n",
       " 'r3': 33,\n",
       " '_i38': 'm1, m2 = [11, 22, 33]',\n",
       " '_i39': 'lucky_number = 1111\\nlucky_number = 786\\nprint(lucky_number)',\n",
       " 'lucky_number': 786,\n",
       " '_i40': '# Two functions with same name, but different number of arguments in definition\\n\\ndef myfunc(var1, var2, var3):\\n    \"\"\"\\n    Function to perform arithmetic Multiplication operation\\n    :param var1: Number\\n    :param var2: Number\\n    :param var3: Number\\n    :return: result of addition operation\\n    \"\"\"\\n    return var1 + var2 + var3\\n\\n\\ndef myfunc(num1, num2):\\n    \"\"\"\\n    Function to perform arithmetic Addition operation\\n    :param num1: Number\\n    :param num2: Number\\n    :return: result of addition operation\\n    \"\"\"\\n    return num1 + num2\\n\\n\\nprint(myfunc(2, 3))\\nprint(myfunc(2, 3, 5))',\n",
       " 'myfunc': <function __main__.myfunc()>,\n",
       " '_i41': '# Two functions with same name, but different number of arguments in definition\\ndef myfunc(num1, num2):\\n    \"\"\"\\n    Function to perform arithmetic Addition operation\\n    :param num1: Number\\n    :param num2: Number\\n    :return: result of addition operation\\n    \"\"\"\\n    return num1 + num2\\n\\n\\ndef myfunc(var1, var2, var3):\\n    \"\"\"\\n    Function to perform arithmetic Addition operation\\n    :param var1: Number\\n    :param var2: Number\\n    :param var3: Number\\n    :return: result of addition operation\\n    \"\"\"\\n    return var1 + var2 + var3\\n\\n\\nprint(myfunc(2, 3, 5))\\nprint(myfunc(2, 3))',\n",
       " '_i42': 'def myfunc(var1, var2, var3=0):\\n    \"\"\"\\n    Function to perform arithmetic add operation\\n    :param var1: Number\\n    :param var2: Number\\n    :param var3: Number\\n    :return: result of addition operation\\n    \"\"\"\\n    return var1 + var2 + var3\\n\\n\\nprint(myfunc(2, 3, 5))\\nprint(myfunc(2, 3))',\n",
       " '_i43': 'def multiplication(var1, var2, var3=1):\\n    \"\"\"\\n    Function to perform arithmetic Multiplication operation\\n    :param var1: Number\\n    :param var2: Number\\n    :param var3: Number\\n    :return: result of addition operation\\n    \"\"\"\\n    return var1 * var2 * var3\\n\\n\\nprint(multiplication(2, 3, 5))\\nprint(multiplication(2, 3))',\n",
       " 'multiplication': <function __main__.multiplication(var1, var2, var3=1)>,\n",
       " '_i44': 'def greetings(name, msg=\"Birthday\"):\\n    return f\"Hi, {name}! Happy {msg}!!!\"',\n",
       " 'greetings': <function __main__.greetings(name, msg='Birthday')>,\n",
       " '_i45': 'print(dir(greetings))',\n",
       " '_i46': 'greetings.__defaults__',\n",
       " '_46': ('Birthday',),\n",
       " '_i47': 'greetings()',\n",
       " '_i48': 'greetings(\"Udhay\")',\n",
       " '_48': 'Hi, Udhay! Happy Birthday!!!',\n",
       " '_i49': 'greetings(\"Prakash\", \"Wedding Anniversary\")',\n",
       " '_49': 'Hi, Prakash! Happy Wedding Anniversary!!!',\n",
       " '_i50': '# NOTE: Non-default arguments must be passed during function call',\n",
       " '_i51': '# def greetings(name, msg=\"Birthday\"):\\n#     return f\"Hi, {name}! Happy {msg}!!!\"\\n\\n\\ndef greetings(msg = \\'Birthday\\', name):\\n    return f\\'Hi, {name}! Happy {msg}!!!\\'',\n",
       " '_i52': '# __NOTE:__ default args should be at the end only ',\n",
       " '_i53': 'def string_slicing(input_string, start_index=0, final_index=None, step=1):\\n    if final_index is None:\\n        final_index = len(input_string)\\n\\n    print(start_index, final_index, step)\\n    return input_string[start_index:final_index:step]\\n\\n\\nstring_slicing(\"Honorificabilitudinitatibus\")',\n",
       " 'string_slicing': <function __main__.string_slicing(input_string, start_index=0, final_index=None, step=1)>,\n",
       " '_53': 'Honorificabilitudinitatibus',\n",
       " '_i54': 'def string_slicing(input_string, start_index=0, final_index=None, step=1):\\n    final_index = final_index or len(input_string)\\n\\n    print(start_index, final_index, step)\\n    return input_string[start_index:final_index:step]\\n\\n\\nstring_slicing(\"Honorificabilitudinitatibus\")',\n",
       " '_54': 'Honorificabilitudinitatibus',\n",
       " '_i55': 'string_slicing(\"Honorificabilitudinitatibus\", 3, 19, 2)',\n",
       " '_55': 'oiiaiiui',\n",
       " '_i56': 'string_slicing.__defaults__',\n",
       " '_56': (0, None, 1),\n",
       " '_i57': 'def extend_list(val, mylist=[]):\\n    print(f\"id(mylist) = {id(mylist)} mylist={mylist}  \")\\n    mylist.append(val)\\n    return mylist',\n",
       " 'extend_list': <function __main__.extend_list(val, mylist=None)>,\n",
       " '_i58': 'extend_list.__defaults__',\n",
       " '_58': ([10, 'a'],),\n",
       " '_i59': 'list1 = extend_list(10)\\nlist1',\n",
       " 'list1': [10],\n",
       " '_59': [10, 'a'],\n",
       " '_i60': 'list2 = extend_list(123, [])\\nlist2',\n",
       " 'list2': [123],\n",
       " '_60': [123],\n",
       " '_i61': 'list3 = extend_list(\"a\")\\nlist3',\n",
       " 'list3': ['a'],\n",
       " '_61': [10, 'a'],\n",
       " '_i62': 'id(list1), id(list2), id(list3)',\n",
       " '_62': (128189771328064, 128189771219264, 128189771328064),\n",
       " '_i63': '# NOTE: Best practice is to use a sentinel value to denote an empty list or dictionary or set.',\n",
       " '_i64': '# Best practice\\n\\n\\n# def extend_list(val, mylist= []):\\n#     print(f\\'id(mylist) = {id(mylist)} mylist={mylist}  \\')\\n#     mylist.append(val)\\n#     return mylist\\n\\n\\ndef extend_list(val, mylist=None):\\n    if mylist is None:\\n        mylist = []\\n    print(f\"id(mylist) = {id(mylist)} mylist={mylist}  \")\\n    mylist.append(val)\\n    return mylist',\n",
       " '_i65': 'list1 = extend_list(10)\\nprint(list1)\\n\\nlist2 = extend_list(123, [])\\nprint(list2)\\n\\nlist3 = extend_list(\"a\")\\nprint(list3)',\n",
       " '_i66': 'id(list1), id(list2), id(list3)',\n",
       " '_66': (128189769972096, 128189771288576, 128189769970560),\n",
       " '_i67': 'extend_list.__defaults__',\n",
       " '_67': (None,),\n",
       " '_i68': 'print()',\n",
       " '_i69': 'print(12)',\n",
       " '_i70': 'print(12, \"34\", None, {12: \"34\"}, [sa]])',\n",
       " '_i71': 'print(12, \"34\", None, {12: \"34\"}, list1])',\n",
       " '_i72': 'print(12, \"34\", None, {12: \"34\"}, list1)',\n",
       " '_i73': 'hello',\n",
       " '_73': <function __main__.hello()>,\n",
       " '_i74': 'hello()',\n",
       " '_i75': 'hello.__defaults__',\n",
       " '_i76': 'hello.__kwdefaults__',\n",
       " '_i77': 'print(hello.__kwdefaults__)',\n",
       " '_i78': 'hello(lucky_number=99)',\n",
       " '_i79': '# Function Definition\\ndef hello():\\n    pass\\n\\n# works for any number of arguments\\nhello()\\nhello(99)\\nhello(99, -0.2312)\\nhello(99, -0.2312, 12, \"34\", None, {12: \"34\"}, list1)',\n",
       " '_i80': '# Function Definition\\ndef hello(given):\\n    pass\\n\\n# works for any number of arguments\\nhello()\\nhello(99)\\nhello(99, -0.2312)\\nhello(99, -0.2312, 12, \"34\", None, {12: \"34\"}, list1)',\n",
       " '_i81': '# Function Definition\\ndef hello(*given):\\n    pass\\n\\n# works for any number of arguments\\nhello()\\nhello(99)\\nhello(99, -0.2312)\\nhello(99, -0.2312, 12, \"34\", None, {12: \"34\"}, list1)',\n",
       " '_i82': '# Function Definition\\ndef hello(* given):\\n    pass\\n\\n# works for any number of arguments\\nhello()\\nhello(99)\\nhello(99, -0.2312)\\nhello(99, -0.2312, 12, \"34\", None, {12: \"34\"}, list1)',\n",
       " '_i83': '# Function Definition\\ndef hello(*given):\\n    pass\\n\\n# works for any number of arguments\\nhello()\\nhello(99)\\nhello(99, -0.2312)\\nhello(99, -0.2312, 12, \"34\", None, {12: \"34\"}, list1)',\n",
       " '_i84': '# Function Definition\\ndef hello(*given):\\n    print(\"\\\\n{type(given)=} {given = }\")\\n    print(\"-\" * 20)\\n\\n# works for any number of arguments\\nhello()\\nhello(99)\\nhello(99, -0.2312)\\nhello(99, -0.2312, 12, \"34\", None, {12: \"34\"}, list1)',\n",
       " '_i85': '# Function Definition\\ndef hello(*given):\\n    print(f\"\\\\n{type(given)=} {given = }\")\\n    print(\"-\" * 20)\\n\\n# works for any number of arguments\\nhello()\\nhello(99)\\nhello(99, -0.2312)\\nhello(99, -0.2312, 12, \"34\", None, {12: \"34\"}, list1)',\n",
       " '_i86': '# Function Definition\\ndef hello(* given):\\n    print(f\"\\\\n{type(given)=} {given = }\")\\n    print(\"-\" * 20)\\n\\n# works for any number of arguments\\nhello()\\nhello(99)\\nhello(99, -0.2312)\\nhello(99, -0.2312, 12, \"34\", None, {12: \"34\"}, list1)',\n",
       " '_i87': '# Function Definition\\ndef hello(*given):\\n    print(f\"\\\\n{type(given)=} {given = }\")\\n    print(\"-\" * 20)\\n\\n# works for any number of arguments\\nhello()\\nhello(99)\\nhello(99, -0.2312)\\nhello(99, -0.2312, 12, \"34\", None, {12: \"34\"}, list1)',\n",
       " '_i88': '# Function Definition\\ndef hello(*given, **feed_in):\\n    print(\"\\\\ntype(given)  \", type(given))\\n    print(\"type(feed_in) \", type(feed_in))\\n\\n    print(\"given   \" + str(given))\\n    print(\"feed_in \" + str(feed_in))\\n    print(\"-\" * 20)\\n\\n\\n# works for any number of arguments & keyword arguments\\nhello()\\nhello(99)\\nhello(99, -0.2312)\\nhello(99, -0.2312, 12, \"34\", None, {12: \"34\"}, list1)\\n\\nhello(language=\"Python\")\\nhello(language=\"Python\", env=\"dev\")\\nhello(language=\"Python\", version=3, subversion=8)',\n",
       " '_i89': 'hello(brand=\"Ford\", model=\"Mustang\", year=1964)',\n",
       " '_i90': '# dictionary unpacking\\nmy_dict = {\"brand\": \"Ford\", \"model\": \"Mustang\", \"year\": 1964}\\nhello(my_dict)',\n",
       " 'my_dict': {'brand': 'Ford', 'model': 'Mustang', 'year': 1964},\n",
       " '_i91': 'hello(**my_dict)',\n",
       " '_i92': 'hello(\\n    212.34,\\n    \"India\",\\n    798787987987975,  # variable args\\n\\n    number=34,\\n    mystring=\"sdas\",\\n    larger_number=342432,  # variable keyword args\\n    \\n    **my_dict  # variable keyword args, unpacked from dict\\n)',\n",
       " '_i93': '# Function Definition\\ndef recv(maxsize, *, block=True):\\n    print(\"\\\\ntype(maxsize)  \", type(maxsize))\\n    print(\"type(block) \", type(block))\\n\\n    print(\"maxsize   \" + str(maxsize))\\n    print(\"block \" + str(block))\\n    print(\"-\" * 20)\\n\\n\\n# Function Call\\nrecv(8192, block=False)',\n",
       " 'recv': <function __main__.recv(maxsize, *, block=True)>,\n",
       " '_i94': '# Function Definition\\ndef recv(maxsize, *, block=True):\\n    print(\"\\\\ntype(maxsize)  \", type(maxsize))\\n    print(\"type(block) \", type(block))\\n\\n    print(\"maxsize   \" + str(maxsize))\\n    print(\"block \" + str(block))\\n    print(\"-\" * 20)\\n\\n\\n# Function Call\\nrecv(8192, False)',\n",
       " '_i95': '# Function Definition\\ndef recv(maxsize, *, block=True):\\n    print(\"\\\\ntype(maxsize)  \", type(maxsize))\\n    print(\"type(block) \", type(block))\\n\\n    print(\"maxsize   \" + str(maxsize))\\n    print(\"block \" + str(block))\\n    print(\"-\" * 20)\\n\\n\\n# Function Call\\nrecv(8192)  # default case',\n",
       " '_i96': 'recv(8192, False)',\n",
       " '_i97': 'recv(8192, block=False)\\n\\nrecv(maxsize=8192, block=False)',\n",
       " '_i98': 'recv(maxsize=8192, False)',\n",
       " '_i99': 'alphabets = {\"a\": 1, \"b\": 2}  # mutable object\\n\\n\\ndef computation():\\n    print(\"in      --- alphabets\", alphabets)\\n\\n\\ncomputation()\\nprint(\"outside --- alphabets\", alphabets)',\n",
       " 'alphabets': {'a': 1, 'b': 2},\n",
       " 'computation': <function __main__.computation()>,\n",
       " '_i100': 'alphabets = {\"a\": 1, \"b\": 2}  # mutable object\\n\\n\\ndef computation():\\n    print(\"in - before - alphabets\", alphabets)\\n    alphabets[\"c\"] = 3\\n    print(\"in - after - alphabets\", alphabets)\\n\\n\\ncomputation()\\nprint(\"outside --- alphabets\", alphabets)',\n",
       " '_i101': 'alphabets = {\"a\": 1, \"b\": 2}  # mutable object\\n\\n\\ndef computation():\\n    print(\"in - before - alphabets\", alphabets)\\n    alphabets[\"c\"] = 3\\n    print(\"in - after  - alphabets\", alphabets)\\n\\n\\ncomputation()\\nprint(\"outside --   - alphabets\", alphabets)',\n",
       " '_i102': 'alphabets = {\"a\": 1, \"b\": 2}  # mutable object\\n\\n\\ndef computation(alphabets_local):\\n    print(\"in - before - alphabets\", alphabets_local)\\n    alphabets_local[\"c\"] = 3\\n    print(\"in - after - alphabets\", alphabets_local)\\n    print(f\"id(alphabets_local):{id(alphabets_local)}\")\\n\\n\\ncomputation(alphabets)\\nprint(\"outside --- alphabets\", alphabets)\\n\\nprint(f\"id(alphabets):{id(alphabets)}\")\\nprint(f\"id(alphabets_local):{id(alphabets_local)}\")',\n",
       " '_i103': 'alphabets = {\"a\": 1, \"b\": 2}  # mutable object\\n\\n\\ndef computation(alphabets_local):\\n    print(\"in - before - alphabets\", alphabets_local)\\n    alphabets_local[\"c\"] = 3\\n    print(\"in - after - alphabets\", alphabets_local)\\n    print(f\"id(alphabets_local):{id(alphabets_local)}\")\\n\\n\\ncomputation(alphabets)\\nprint(\"outside --- alphabets\", alphabets)\\n\\nprint(f\"id(alphabets):{id(alphabets)}\")\\n# print(f\"id(alphabets_local):{id(alphabets_local)}\")  NameError: name \\'alphabets_local\\' is not defined',\n",
       " '_i104': 'alphabets = {\"a\": 1, \"b\": 2}  # mutable object\\n\\n\\ndef computation(alphabets_local):\\n    alphabets_local = alphabets_local.copy()\\n    print(\"in - before - alphabets\", alphabets_local)\\n    alphabets_local[\"c\"] = 3\\n    print(\"in - after - alphabets\", alphabets_local)\\n    print(f\"id(alphabets_local):{id(alphabets_local)}\")\\n\\n\\ncomputation(alphabets)\\nprint(\"outside --- alphabets\", alphabets)\\n\\nprint(f\"id(alphabets):{id(alphabets)}\")\\n# print(f\"id(alphabets_local):{id(alphabets_local)}\")  NameError: name \\'alphabets_local\\' is not defined',\n",
       " '_i105': 'pi = 3.1416   # immutable object\\n\\n\\ndef computation():\\n    print(\"in      --- pi\", pi)\\n\\n\\ncomputation()\\nprint(\"outside --- pi\", pi)',\n",
       " 'pi': 3.1415,\n",
       " '_i106': 'pi = 3.1416   # immutable object\\n\\n\\ndef computation():\\n    print(\"in before     --- pi\", pi)\\n    pi = 23432\\n    print(\"in after     --- pi\", pi)\\n    \\n\\n\\ncomputation()\\nprint(\"outside --- pi\", pi)   # without passing as input, we can use',\n",
       " '_i107': 'pi = 3.1416   # immutable object\\n\\n\\ndef computation(pi):\\n    print(\"in before     --- pi\", pi, id(pi))\\n    pi = 23432                               \\n    print(\"in after     --- pi\", pi, id(pi))\\n    \\n\\n\\ncomputation()\\nprint(\"outside --- pi\", pi, id(pi))   ',\n",
       " '_i108': 'pi = 3.1416   # immutable object\\n\\n\\ndef computation(pi):\\n    print(\"in before     --- pi\", pi, id(pi))\\n    pi = 23432                               \\n    print(\"in after     --- pi\", pi, id(pi))\\n    \\n\\n\\ncomputation(pi)\\nprint(\"outside --- pi\", pi, id(pi))   ',\n",
       " '_i109': 'pi = 3.1416   # immutable object\\n\\n\\ndef computation(pi):\\n    print(\"in before     --- pi\", pi, id(pi))\\n    pi = 23432                               \\n    print(\"in after     --- pi\", pi, id(pi))\\n    \\n\\n\\ncomputation(pi)\\nprint(\"outside --       - pi\", pi, id(pi))   ',\n",
       " '_i110': 'pi = 3.1416   # immutable object\\n\\n\\ndef computation(pi):\\n    print(\"in before     --- pi\", pi, id(pi))\\n    pi = 23432                               \\n    print(\"in after      --- pi\", pi, id(pi))\\n    \\n\\n\\ncomputation(pi)\\nprint(\"outside --     - pi\", pi, id(pi))   ',\n",
       " '_i111': 'pi = 3.1416   # immutable object\\n\\n\\ndef computation(pi):\\n    global pi\\n    print(\"in before     --- pi\", pi, id(pi))\\n    pi = 23432                               \\n    print(\"in after      --- pi\", pi, id(pi))\\n    \\n\\n\\ncomputation(pi)\\nprint(\"outside --     - pi\", pi, id(pi))     #  call by value ',\n",
       " '_i112': 'pi = 3.1416   # immutable object\\n\\n\\ndef computation():\\n    global pi\\n    print(\"in before     --- pi\", pi, id(pi))\\n    pi = 23432                               \\n    print(\"in after      --- pi\", pi, id(pi))\\n    \\n\\n\\ncomputation()\\nprint(\"outside --     - pi\", pi, id(pi))     #  call by value ',\n",
       " '_i113': '# By Default, \\n#     for mutable object, It is call by reference == changes in function will reflect clear_output\\n#                         call by value  with did .copy()\\n#     for immutable object, It is call by value == changes in function will NOT reflect clear_output\\n#                         call by reference  with global declaration',\n",
       " '_i114': '# call by value ---> changes in function will NOT reflect output\\n# call by refrence ---> changes in function will reflect output',\n",
       " '_i115': \"# globals(), locals()\\n\\npi = 3.1415\\nmydict = {'a': 'apple'}\\n\\ndef myfunc():\\n    pi_local = 6.21321\\n    mydict_local = {'b': 'ball'}\\n\\nmyfunc()\",\n",
       " 'mydict': {'a': 'apple'},\n",
       " '_i116': 'globals()'}"
      ]
     },
     "execution_count": 116,
     "metadata": {},
     "output_type": "execute_result"
    }
   ],
   "source": [
    "globals()"
   ]
  },
  {
   "cell_type": "code",
   "execution_count": 117,
   "metadata": {},
   "outputs": [],
   "source": [
    "# # Assignment - check call by value and call by reference for all other data tyypes \n",
    "#     immuatable objects -- int, float, none, bool, str , frozenset\n",
    "#     mutable objects   --- list, set, dict, "
   ]
  },
  {
   "cell_type": "code",
   "execution_count": null,
   "metadata": {},
   "outputs": [],
   "source": []
  }
 ],
 "metadata": {
  "kernelspec": {
   "display_name": "Python 3",
   "language": "python",
   "name": "python3"
  },
  "language_info": {
   "codemirror_mode": {
    "name": "ipython",
    "version": 3
   },
   "file_extension": ".py",
   "mimetype": "text/x-python",
   "name": "python",
   "nbconvert_exporter": "python",
   "pygments_lexer": "ipython3",
   "version": "3.12.1"
  }
 },
 "nbformat": 4,
 "nbformat_minor": 2
}
