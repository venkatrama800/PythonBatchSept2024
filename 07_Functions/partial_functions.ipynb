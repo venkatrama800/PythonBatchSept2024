{
 "cells": [
  {
   "cell_type": "markdown",
   "metadata": {},
   "source": [
    "### assignment - implement the partial functions, using closures"
   ]
  },
  {
   "cell_type": "code",
   "execution_count": 2,
   "metadata": {},
   "outputs": [],
   "source": [
    "def partial_add(a):\n",
    "    # This closure remembers the value of 'a'\n",
    "    def inner(b, c):\n",
    "        return a + b + c\n",
    "    return inner\n"
   ]
  },
  {
   "cell_type": "code",
   "execution_count": 3,
   "metadata": {},
   "outputs": [
    {
     "name": "stdout",
     "output_type": "stream",
     "text": [
      "10\n"
     ]
    }
   ],
   "source": [
    "# Fix the first argument\n",
    "add_5 = partial_add(5)\n",
    "\n",
    "# Now, we only need to provide the remaining two arguments\n",
    "result = add_5(3, 2)\n",
    "print(result)  # Output: 10"
   ]
  },
  {
   "cell_type": "code",
   "execution_count": 4,
   "metadata": {},
   "outputs": [],
   "source": [
    "def partial(func, *args_fixed):\n",
    "    # This closure stores the fixed arguments\n",
    "    def wrapper(*args_remaining):\n",
    "        return func(*args_fixed, *args_remaining)\n",
    "    return wrapper\n"
   ]
  },
  {
   "cell_type": "code",
   "execution_count": 5,
   "metadata": {},
   "outputs": [
    {
     "name": "stdout",
     "output_type": "stream",
     "text": [
      "24\n"
     ]
    }
   ],
   "source": [
    "def multiply(a, b, c):\n",
    "    return a * b * c\n",
    "\n",
    "# Fix the first argument to 2\n",
    "partial_multiply = partial(multiply, 2)\n",
    "\n",
    "# Now, we only need to provide two arguments\n",
    "result = partial_multiply(3, 4)  # Equivalent to multiply(2, 3, 4)\n",
    "print(result)  # Output: 24\n"
   ]
  }
 ],
 "metadata": {
  "kernelspec": {
   "display_name": "Python 3",
   "language": "python",
   "name": "python3"
  },
  "language_info": {
   "codemirror_mode": {
    "name": "ipython",
    "version": 3
   },
   "file_extension": ".py",
   "mimetype": "text/x-python",
   "name": "python",
   "nbconvert_exporter": "python",
   "pygments_lexer": "ipython3",
   "version": "3.12.1"
  }
 },
 "nbformat": 4,
 "nbformat_minor": 2
}
